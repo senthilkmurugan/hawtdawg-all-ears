{
 "cells": [
  {
   "cell_type": "markdown",
   "metadata": {},
   "source": [
    "# Decision trees\n",
    "- Figuring out the answer by asking yes or no questions\n",
    "- This is like a game of 20 questions\n",
    "- Suppose I have a celebrity in mind\n",
    "- You are allowed to ask me a set of questions\n",
    "- I will only answer yes or no\n",
    "- Based on my answer you will narrow down an answer\n",
    "- Let's try it!!"
   ]
  },
  {
   "cell_type": "code",
   "execution_count": 22,
   "metadata": {},
   "outputs": [],
   "source": [
    "# Import Datasets\n",
    "import pandas as pd\n",
    "import numpy as np\n",
    "import matplotlib.pyplot as plt\n",
    "%matplotlib inline\n",
    "import datetime\n",
    "import time\n",
    "# Direct data access from yahoo\n",
    "import pandas_datareader.data as web"
   ]
  },
  {
   "cell_type": "code",
   "execution_count": 23,
   "metadata": {
    "scrolled": true
   },
   "outputs": [
    {
     "data": {
      "text/plain": [
       "(               YIELD    UNRATE   C_INV       PERMIT   C_HOUSE  C_RETIAL\n",
       " DATE                                                                   \n",
       " 1977-04-01  1.332222  7.500000  34.343  1562.000000  0.103816  0.037939\n",
       " 1977-07-01  1.248254  7.133333  51.245  1693.333333  0.110466  0.032931\n",
       " 1977-10-01  0.814762  6.900000  89.947  1713.666667  0.117302  0.034861\n",
       " 1978-01-01  0.454833  6.666667  47.311  1761.000000  0.147334  0.038371\n",
       " 1978-04-01  0.466393  6.333333  56.354  1758.333333  0.146190  0.016099\n",
       " ...              ...       ...     ...          ...       ...       ...\n",
       " 2017-04-01  1.202258  4.566667 -18.876  1281.333333  0.055365  0.023672\n",
       " 2017-07-01  0.963333  4.366667   0.637  1263.333333  0.060459  0.022948\n",
       " 2017-10-01  0.878730  4.300000  56.087  1277.000000  0.058800  0.024696\n",
       " 2018-01-01  0.677097  4.133333  25.302  1316.666667  0.059259  0.037249\n",
       " 2018-04-01  0.598033  4.066667  47.267  1370.666667  0.065667  0.024168\n",
       " \n",
       " [165 rows x 6 columns], DATE\n",
       " 1977-04-01    0\n",
       " 1977-07-01    0\n",
       " 1977-10-01    0\n",
       " 1978-01-01    0\n",
       " 1978-04-01    0\n",
       "              ..\n",
       " 2017-04-01    0\n",
       " 2017-07-01    0\n",
       " 2017-10-01    0\n",
       " 2018-01-01    0\n",
       " 2018-04-01    0\n",
       " Name: USRECQ, Length: 165, dtype: int64)"
      ]
     },
     "execution_count": 23,
     "metadata": {},
     "output_type": "execute_result"
    }
   ],
   "source": [
    "# Extract Predictors \n",
    "Predictors=web.DataReader([\"T10Y2Y\", \"UNRATE\", \"CBIC1\", \"PERMIT\",\"USSTHPI\", \"SLRTTO01USQ661S\"], \"fred\", \"1976-01-01\", \"2018-12-31\")\n",
    "# Take mean of the predictors every quarter\n",
    "Predictors_1=Predictors.resample('QS').mean()\n",
    "Predictors_1.columns=[\"YIELD\",\"UNRATE\",\"C_INV\", \"PERMIT\",\"HOUSE\",\"RETAIL\"]\n",
    "# Need annual precentage change in house prices and retail sales \n",
    "Predictors_1[\"C_HOUSE\"]=Predictors_1[\"HOUSE\"]/Predictors_1[\"HOUSE\"].shift(4)-1\n",
    "Predictors_1[\"C_RETIAL\"]=Predictors_1[\"RETAIL\"]/Predictors_1[\"RETAIL\"].shift(4)-1\n",
    "#Drop house and retail\n",
    "Predictors_2=Predictors_1.drop([\"HOUSE\",\"RETAIL\"],axis=1).dropna()\n",
    "# Get Recession dates\n",
    "Recession=web.DataReader([\"USRECQ\"],\"fred\",\"1977-01-01\",\"2018-04-30\")\n",
    "# Construct X and y\n",
    "X=Predictors_2.shift(1).dropna()\n",
    "y=Recession[\"USRECQ\"]\n",
    "y=y[y.index>\"1977-01-01\"]\n",
    "X,y"
   ]
  },
  {
   "cell_type": "code",
   "execution_count": 24,
   "metadata": {
    "scrolled": true
   },
   "outputs": [
    {
     "data": {
      "text/plain": [
       "Text(0, 0.5, 'C_RETIAL')"
      ]
     },
     "execution_count": 24,
     "metadata": {},
     "output_type": "execute_result"
    },
    {
     "data": {
      "image/png": "[encoded data removed]",
      "text/plain": [
       "<Figure size 432x288 with 1 Axes>"
      ]
     },
     "metadata": {
      "needs_background": "light"
     },
     "output_type": "display_data"
    }
   ],
   "source": [
    "# Plot the values of yield and change in retail sales\n",
    "# Highlight recessions as red dots\n",
    "# Expansions as blue\n",
    "c=np.array([\"k\"]*len(y))\n",
    "for i in range(len(y)):\n",
    "    if y[i]==1:\n",
    "        c[i]=\"r\"\n",
    "    else:\n",
    "        c[i]=\"b\"\n",
    "plt.scatter(X[\"YIELD\"],X[\"C_RETIAL\"],color=c)\n",
    "plt.xlabel(\"YIELD\")\n",
    "plt.ylabel(\"C_RETIAL\")"
   ]
  },
  {
   "cell_type": "markdown",
   "metadata": {},
   "source": [
    "- Can you think of yes or no questions \n",
    "- that help you separate recessions "
   ]
  },
  {
   "cell_type": "code",
   "execution_count": 70,
   "metadata": {},
   "outputs": [],
   "source": [
    "# Split the data into testing and training datasets \n",
    "from sklearn.model_selection import train_test_split\n",
    "# Splitting 20% as test and 80% as training\n",
    "X_train, X_test, y_train, y_test = train_test_split(X,y,test_size=0.20)"
   ]
  },
  {
   "cell_type": "code",
   "execution_count": 49,
   "metadata": {
    "scrolled": true
   },
   "outputs": [
    {
     "data": {
      "text/plain": [
       "array([0, 0, 0, 0, 0, 0, 0, 0, 0, 0, 0, 0, 0, 0, 1, 0, 1, 0, 0, 0, 0, 0,\n",
       "       0, 0, 0, 1, 0, 0, 0, 0, 0, 1, 0, 0, 0, 1, 0, 0, 0, 0, 0, 0, 0, 1,\n",
       "       0, 0, 0, 0, 0, 0, 0, 0, 0, 0, 0, 0, 0, 0, 0, 0, 0, 0, 0, 0, 0, 0,\n",
       "       0, 0, 0, 0, 0, 0, 0, 0, 0, 0, 0, 0, 0, 0, 0, 0, 0, 0, 0, 1, 0, 0,\n",
       "       0, 0, 0, 0, 0, 0, 0, 0, 0, 0, 1, 0, 0, 0, 0, 0, 0, 0, 1, 0, 0, 1,\n",
       "       0, 0, 0, 0, 0, 1, 0, 0, 0, 0, 0, 0, 0], dtype=int64)"
      ]
     },
     "execution_count": 49,
     "metadata": {},
     "output_type": "execute_result"
    }
   ],
   "source": [
    "# Import Decision Tree\n",
    "from sklearn.tree import DecisionTreeClassifier\n",
    "# Create an instance\n",
    "model=DecisionTreeClassifier()\n",
    "# fit the model\n",
    "model.fit(X_train,y_train)\n",
    "# Predictions\n",
    "model.predict(X_train)"
   ]
  },
  {
   "cell_type": "code",
   "execution_count": 34,
   "metadata": {},
   "outputs": [
    {
     "data": {
      "text/plain": [
       "1.0"
      ]
     },
     "execution_count": 34,
     "metadata": {},
     "output_type": "execute_result"
    }
   ],
   "source": [
    "# Check Training Performance\n",
    "model.score(X_train,y_train)"
   ]
  },
  {
   "cell_type": "markdown",
   "metadata": {},
   "source": [
    "- That is a perfect score. No error whatsoever in training data\n",
    "- What does it do?"
   ]
  },
  {
   "cell_type": "code",
   "execution_count": 35,
   "metadata": {},
   "outputs": [],
   "source": [
    "# Visualize the tree\n",
    "# Import export_graphviz\n",
    "from sklearn.tree import export_graphviz\n",
    "# build\n",
    "export_graphviz(model, out_file=\"tree.dot\", class_names=[\"Expansion\",\"Recession\"], feature_names=X.columns, impurity=False, filled=True)"
   ]
  },
  {
   "cell_type": "markdown",
   "metadata": {},
   "source": [
    "- To visualize we need to import graphviz package\n",
    "- Go to Anaconda Prompt and type <br>\n",
    "conda install python-graphviz\n",
    "- Alternatively you can try typing it in the Jupyter Notebook Cell"
   ]
  },
  {
   "cell_type": "code",
   "execution_count": 36,
   "metadata": {
    "scrolled": false
   },
   "outputs": [
    {
     "data": {
      "image/svg+xml": [
       "<?xml version=\"1.0\" encoding=\"UTF-8\" standalone=\"no\"?>\r\n",
       "<!DOCTYPE svg PUBLIC \"-//W3C//DTD SVG 1.1//EN\"\r\n",
       " \"http://www.w3.org/Graphics/SVG/1.1/DTD/svg11.dtd\">\r\n",
       "<!-- Generated by graphviz version 2.38.0 (20140413.2041)\r\n",
       " -->\r\n",
       "<!-- Title: Tree Pages: 1 -->\r\n",
       "<svg width=\"843pt\" height=\"477pt\"\r\n",
       " viewBox=\"0.00 0.00 842.50 477.00\" xmlns=\"http://www.w3.org/2000/svg\" xmlns:xlink=\"http://www.w3.org/1999/xlink\">\r\n",
       "<g id=\"graph0\" class=\"graph\" transform=\"scale(1 1) rotate(0) translate(4 473)\">\r\n",
       "<title>Tree</title>\r\n",
       "<polygon fill=\"white\" stroke=\"none\" points=\"-4,4 -4,-473 838.5,-473 838.5,4 -4,4\"/>\r\n",
       "<!-- 0 -->\r\n",
       "<g id=\"node1\" class=\"node\"><title>0</title>\r\n",
       "<polygon fill=\"#e88e4d\" stroke=\"black\" points=\"589.5,-469 446.5,-469 446.5,-401 589.5,-401 589.5,-469\"/>\r\n",
       "<text text-anchor=\"middle\" x=\"518\" y=\"-453.8\" font-family=\"Times New Roman,serif\" font-size=\"14.00\">C_RETIAL &lt;= &#45;0.008</text>\r\n",
       "<text text-anchor=\"middle\" x=\"518\" y=\"-438.8\" font-family=\"Times New Roman,serif\" font-size=\"14.00\">samples = 132</text>\r\n",
       "<text text-anchor=\"middle\" x=\"518\" y=\"-423.8\" font-family=\"Times New Roman,serif\" font-size=\"14.00\">value = [120, 12]</text>\r\n",
       "<text text-anchor=\"middle\" x=\"518\" y=\"-408.8\" font-family=\"Times New Roman,serif\" font-size=\"14.00\">class = Expansion</text>\r\n",
       "</g>\r\n",
       "<!-- 1 -->\r\n",
       "<g id=\"node2\" class=\"node\"><title>1</title>\r\n",
       "<polygon fill=\"#dbedfa\" stroke=\"black\" points=\"467,-365 349,-365 349,-297 467,-297 467,-365\"/>\r\n",
       "<text text-anchor=\"middle\" x=\"408\" y=\"-349.8\" font-family=\"Times New Roman,serif\" font-size=\"14.00\">YIELD &lt;= 0.534</text>\r\n",
       "<text text-anchor=\"middle\" x=\"408\" y=\"-334.8\" font-family=\"Times New Roman,serif\" font-size=\"14.00\">samples = 20</text>\r\n",
       "<text text-anchor=\"middle\" x=\"408\" y=\"-319.8\" font-family=\"Times New Roman,serif\" font-size=\"14.00\">value = [9, 11]</text>\r\n",
       "<text text-anchor=\"middle\" x=\"408\" y=\"-304.8\" font-family=\"Times New Roman,serif\" font-size=\"14.00\">class = Recession</text>\r\n",
       "</g>\r\n",
       "<!-- 0&#45;&gt;1 -->\r\n",
       "<g id=\"edge1\" class=\"edge\"><title>0&#45;&gt;1</title>\r\n",
       "<path fill=\"none\" stroke=\"black\" d=\"M482.286,-400.884C472.392,-391.709 461.544,-381.65 451.27,-372.123\"/>\r\n",
       "<polygon fill=\"black\" stroke=\"black\" points=\"453.624,-369.532 443.911,-365.299 448.864,-374.665 453.624,-369.532\"/>\r\n",
       "<text text-anchor=\"middle\" x=\"444.854\" y=\"-386.582\" font-family=\"Times New Roman,serif\" font-size=\"14.00\">True</text>\r\n",
       "</g>\r\n",
       "<!-- 12 -->\r\n",
       "<g id=\"node13\" class=\"node\"><title>12</title>\r\n",
       "<polygon fill=\"#e5823b\" stroke=\"black\" points=\"697,-365 559,-365 559,-297 697,-297 697,-365\"/>\r\n",
       "<text text-anchor=\"middle\" x=\"628\" y=\"-349.8\" font-family=\"Times New Roman,serif\" font-size=\"14.00\">C_RETIAL &lt;= 0.004</text>\r\n",
       "<text text-anchor=\"middle\" x=\"628\" y=\"-334.8\" font-family=\"Times New Roman,serif\" font-size=\"14.00\">samples = 112</text>\r\n",
       "<text text-anchor=\"middle\" x=\"628\" y=\"-319.8\" font-family=\"Times New Roman,serif\" font-size=\"14.00\">value = [111, 1]</text>\r\n",
       "<text text-anchor=\"middle\" x=\"628\" y=\"-304.8\" font-family=\"Times New Roman,serif\" font-size=\"14.00\">class = Expansion</text>\r\n",
       "</g>\r\n",
       "<!-- 0&#45;&gt;12 -->\r\n",
       "<g id=\"edge12\" class=\"edge\"><title>0&#45;&gt;12</title>\r\n",
       "<path fill=\"none\" stroke=\"black\" d=\"M553.714,-400.884C563.608,-391.709 574.456,-381.65 584.73,-372.123\"/>\r\n",
       "<polygon fill=\"black\" stroke=\"black\" points=\"587.136,-374.665 592.089,-365.299 582.376,-369.532 587.136,-374.665\"/>\r\n",
       "<text text-anchor=\"middle\" x=\"591.146\" y=\"-386.582\" font-family=\"Times New Roman,serif\" font-size=\"14.00\">False</text>\r\n",
       "</g>\r\n",
       "<!-- 2 -->\r\n",
       "<g id=\"node3\" class=\"node\"><title>2</title>\r\n",
       "<polygon fill=\"#55abe9\" stroke=\"black\" points=\"255.5,-261 136.5,-261 136.5,-193 255.5,-193 255.5,-261\"/>\r\n",
       "<text text-anchor=\"middle\" x=\"196\" y=\"-245.8\" font-family=\"Times New Roman,serif\" font-size=\"14.00\">C_INV &lt;= 54.683</text>\r\n",
       "<text text-anchor=\"middle\" x=\"196\" y=\"-230.8\" font-family=\"Times New Roman,serif\" font-size=\"14.00\">samples = 8</text>\r\n",
       "<text text-anchor=\"middle\" x=\"196\" y=\"-215.8\" font-family=\"Times New Roman,serif\" font-size=\"14.00\">value = [1, 7]</text>\r\n",
       "<text text-anchor=\"middle\" x=\"196\" y=\"-200.8\" font-family=\"Times New Roman,serif\" font-size=\"14.00\">class = Recession</text>\r\n",
       "</g>\r\n",
       "<!-- 1&#45;&gt;2 -->\r\n",
       "<g id=\"edge2\" class=\"edge\"><title>1&#45;&gt;2</title>\r\n",
       "<path fill=\"none\" stroke=\"black\" d=\"M348.946,-301.587C322.859,-289.036 292.017,-274.197 264.887,-261.144\"/>\r\n",
       "<polygon fill=\"black\" stroke=\"black\" points=\"266.37,-257.973 255.841,-256.791 263.335,-264.281 266.37,-257.973\"/>\r\n",
       "</g>\r\n",
       "<!-- 7 -->\r\n",
       "<g id=\"node8\" class=\"node\"><title>7</title>\r\n",
       "<polygon fill=\"#f2c09c\" stroke=\"black\" points=\"472,-261 344,-261 344,-193 472,-193 472,-261\"/>\r\n",
       "<text text-anchor=\"middle\" x=\"408\" y=\"-245.8\" font-family=\"Times New Roman,serif\" font-size=\"14.00\">UNRATE &lt;= 5.783</text>\r\n",
       "<text text-anchor=\"middle\" x=\"408\" y=\"-230.8\" font-family=\"Times New Roman,serif\" font-size=\"14.00\">samples = 12</text>\r\n",
       "<text text-anchor=\"middle\" x=\"408\" y=\"-215.8\" font-family=\"Times New Roman,serif\" font-size=\"14.00\">value = [8, 4]</text>\r\n",
       "<text text-anchor=\"middle\" x=\"408\" y=\"-200.8\" font-family=\"Times New Roman,serif\" font-size=\"14.00\">class = Expansion</text>\r\n",
       "</g>\r\n",
       "<!-- 1&#45;&gt;7 -->\r\n",
       "<g id=\"edge7\" class=\"edge\"><title>1&#45;&gt;7</title>\r\n",
       "<path fill=\"none\" stroke=\"black\" d=\"M408,-296.884C408,-288.778 408,-279.982 408,-271.472\"/>\r\n",
       "<polygon fill=\"black\" stroke=\"black\" points=\"411.5,-271.299 408,-261.299 404.5,-271.299 411.5,-271.299\"/>\r\n",
       "</g>\r\n",
       "<!-- 3 -->\r\n",
       "<g id=\"node4\" class=\"node\"><title>3</title>\r\n",
       "<polygon fill=\"#399de5\" stroke=\"black\" points=\"118,-149.5 0,-149.5 0,-96.5 118,-96.5 118,-149.5\"/>\r\n",
       "<text text-anchor=\"middle\" x=\"59\" y=\"-134.3\" font-family=\"Times New Roman,serif\" font-size=\"14.00\">samples = 6</text>\r\n",
       "<text text-anchor=\"middle\" x=\"59\" y=\"-119.3\" font-family=\"Times New Roman,serif\" font-size=\"14.00\">value = [0, 6]</text>\r\n",
       "<text text-anchor=\"middle\" x=\"59\" y=\"-104.3\" font-family=\"Times New Roman,serif\" font-size=\"14.00\">class = Recession</text>\r\n",
       "</g>\r\n",
       "<!-- 2&#45;&gt;3 -->\r\n",
       "<g id=\"edge3\" class=\"edge\"><title>2&#45;&gt;3</title>\r\n",
       "<path fill=\"none\" stroke=\"black\" d=\"M151.52,-192.884C135.419,-180.896 117.291,-167.399 101.375,-155.549\"/>\r\n",
       "<polygon fill=\"black\" stroke=\"black\" points=\"103.388,-152.684 93.2768,-149.52 99.2077,-158.299 103.388,-152.684\"/>\r\n",
       "</g>\r\n",
       "<!-- 4 -->\r\n",
       "<g id=\"node5\" class=\"node\"><title>4</title>\r\n",
       "<polygon fill=\"#ffffff\" stroke=\"black\" points=\"255.5,-157 136.5,-157 136.5,-89 255.5,-89 255.5,-157\"/>\r\n",
       "<text text-anchor=\"middle\" x=\"196\" y=\"-141.8\" font-family=\"Times New Roman,serif\" font-size=\"14.00\">C_INV &lt;= 72.877</text>\r\n",
       "<text text-anchor=\"middle\" x=\"196\" y=\"-126.8\" font-family=\"Times New Roman,serif\" font-size=\"14.00\">samples = 2</text>\r\n",
       "<text text-anchor=\"middle\" x=\"196\" y=\"-111.8\" font-family=\"Times New Roman,serif\" font-size=\"14.00\">value = [1, 1]</text>\r\n",
       "<text text-anchor=\"middle\" x=\"196\" y=\"-96.8\" font-family=\"Times New Roman,serif\" font-size=\"14.00\">class = Expansion</text>\r\n",
       "</g>\r\n",
       "<!-- 2&#45;&gt;4 -->\r\n",
       "<g id=\"edge4\" class=\"edge\"><title>2&#45;&gt;4</title>\r\n",
       "<path fill=\"none\" stroke=\"black\" d=\"M196,-192.884C196,-184.778 196,-175.982 196,-167.472\"/>\r\n",
       "<polygon fill=\"black\" stroke=\"black\" points=\"199.5,-167.299 196,-157.299 192.5,-167.299 199.5,-167.299\"/>\r\n",
       "</g>\r\n",
       "<!-- 5 -->\r\n",
       "<g id=\"node6\" class=\"node\"><title>5</title>\r\n",
       "<polygon fill=\"#e58139\" stroke=\"black\" points=\"189.5,-53 70.5,-53 70.5,-0 189.5,-0 189.5,-53\"/>\r\n",
       "<text text-anchor=\"middle\" x=\"130\" y=\"-37.8\" font-family=\"Times New Roman,serif\" font-size=\"14.00\">samples = 1</text>\r\n",
       "<text text-anchor=\"middle\" x=\"130\" y=\"-22.8\" font-family=\"Times New Roman,serif\" font-size=\"14.00\">value = [1, 0]</text>\r\n",
       "<text text-anchor=\"middle\" x=\"130\" y=\"-7.8\" font-family=\"Times New Roman,serif\" font-size=\"14.00\">class = Expansion</text>\r\n",
       "</g>\r\n",
       "<!-- 4&#45;&gt;5 -->\r\n",
       "<g id=\"edge5\" class=\"edge\"><title>4&#45;&gt;5</title>\r\n",
       "<path fill=\"none\" stroke=\"black\" d=\"M172.916,-88.9485C166.719,-80.0749 160.007,-70.4648 153.773,-61.5388\"/>\r\n",
       "<polygon fill=\"black\" stroke=\"black\" points=\"156.57,-59.4311 147.975,-53.2367 150.831,-63.4392 156.57,-59.4311\"/>\r\n",
       "</g>\r\n",
       "<!-- 6 -->\r\n",
       "<g id=\"node7\" class=\"node\"><title>6</title>\r\n",
       "<polygon fill=\"#399de5\" stroke=\"black\" points=\"326,-53 208,-53 208,-0 326,-0 326,-53\"/>\r\n",
       "<text text-anchor=\"middle\" x=\"267\" y=\"-37.8\" font-family=\"Times New Roman,serif\" font-size=\"14.00\">samples = 1</text>\r\n",
       "<text text-anchor=\"middle\" x=\"267\" y=\"-22.8\" font-family=\"Times New Roman,serif\" font-size=\"14.00\">value = [0, 1]</text>\r\n",
       "<text text-anchor=\"middle\" x=\"267\" y=\"-7.8\" font-family=\"Times New Roman,serif\" font-size=\"14.00\">class = Recession</text>\r\n",
       "</g>\r\n",
       "<!-- 4&#45;&gt;6 -->\r\n",
       "<g id=\"edge6\" class=\"edge\"><title>4&#45;&gt;6</title>\r\n",
       "<path fill=\"none\" stroke=\"black\" d=\"M220.832,-88.9485C227.568,-79.9834 234.868,-70.2666 241.633,-61.2629\"/>\r\n",
       "<polygon fill=\"black\" stroke=\"black\" points=\"244.455,-63.334 247.663,-53.2367 238.858,-59.1293 244.455,-63.334\"/>\r\n",
       "</g>\r\n",
       "<!-- 8 -->\r\n",
       "<g id=\"node9\" class=\"node\"><title>8</title>\r\n",
       "<polygon fill=\"#399de5\" stroke=\"black\" points=\"392,-149.5 274,-149.5 274,-96.5 392,-96.5 392,-149.5\"/>\r\n",
       "<text text-anchor=\"middle\" x=\"333\" y=\"-134.3\" font-family=\"Times New Roman,serif\" font-size=\"14.00\">samples = 3</text>\r\n",
       "<text text-anchor=\"middle\" x=\"333\" y=\"-119.3\" font-family=\"Times New Roman,serif\" font-size=\"14.00\">value = [0, 3]</text>\r\n",
       "<text text-anchor=\"middle\" x=\"333\" y=\"-104.3\" font-family=\"Times New Roman,serif\" font-size=\"14.00\">class = Recession</text>\r\n",
       "</g>\r\n",
       "<!-- 7&#45;&gt;8 -->\r\n",
       "<g id=\"edge8\" class=\"edge\"><title>7&#45;&gt;8</title>\r\n",
       "<path fill=\"none\" stroke=\"black\" d=\"M383.65,-192.884C375.401,-181.666 366.181,-169.126 357.891,-157.852\"/>\r\n",
       "<polygon fill=\"black\" stroke=\"black\" points=\"360.508,-155.503 351.765,-149.52 354.869,-159.65 360.508,-155.503\"/>\r\n",
       "</g>\r\n",
       "<!-- 9 -->\r\n",
       "<g id=\"node10\" class=\"node\"><title>9</title>\r\n",
       "<polygon fill=\"#e89152\" stroke=\"black\" points=\"550,-157 410,-157 410,-89 550,-89 550,-157\"/>\r\n",
       "<text text-anchor=\"middle\" x=\"480\" y=\"-141.8\" font-family=\"Times New Roman,serif\" font-size=\"14.00\">C_HOUSE &lt;= &#45;0.065</text>\r\n",
       "<text text-anchor=\"middle\" x=\"480\" y=\"-126.8\" font-family=\"Times New Roman,serif\" font-size=\"14.00\">samples = 9</text>\r\n",
       "<text text-anchor=\"middle\" x=\"480\" y=\"-111.8\" font-family=\"Times New Roman,serif\" font-size=\"14.00\">value = [8, 1]</text>\r\n",
       "<text text-anchor=\"middle\" x=\"480\" y=\"-96.8\" font-family=\"Times New Roman,serif\" font-size=\"14.00\">class = Expansion</text>\r\n",
       "</g>\r\n",
       "<!-- 7&#45;&gt;9 -->\r\n",
       "<g id=\"edge9\" class=\"edge\"><title>7&#45;&gt;9</title>\r\n",
       "<path fill=\"none\" stroke=\"black\" d=\"M431.376,-192.884C437.538,-184.154 444.265,-174.625 450.696,-165.514\"/>\r\n",
       "<polygon fill=\"black\" stroke=\"black\" points=\"453.587,-167.487 456.495,-157.299 447.868,-163.451 453.587,-167.487\"/>\r\n",
       "</g>\r\n",
       "<!-- 10 -->\r\n",
       "<g id=\"node11\" class=\"node\"><title>10</title>\r\n",
       "<polygon fill=\"#399de5\" stroke=\"black\" points=\"467,-53 349,-53 349,-0 467,-0 467,-53\"/>\r\n",
       "<text text-anchor=\"middle\" x=\"408\" y=\"-37.8\" font-family=\"Times New Roman,serif\" font-size=\"14.00\">samples = 1</text>\r\n",
       "<text text-anchor=\"middle\" x=\"408\" y=\"-22.8\" font-family=\"Times New Roman,serif\" font-size=\"14.00\">value = [0, 1]</text>\r\n",
       "<text text-anchor=\"middle\" x=\"408\" y=\"-7.8\" font-family=\"Times New Roman,serif\" font-size=\"14.00\">class = Recession</text>\r\n",
       "</g>\r\n",
       "<!-- 9&#45;&gt;10 -->\r\n",
       "<g id=\"edge10\" class=\"edge\"><title>9&#45;&gt;10</title>\r\n",
       "<path fill=\"none\" stroke=\"black\" d=\"M454.818,-88.9485C447.987,-79.9834 440.584,-70.2666 433.724,-61.2629\"/>\r\n",
       "<polygon fill=\"black\" stroke=\"black\" points=\"436.453,-59.0699 427.609,-53.2367 430.885,-63.3122 436.453,-59.0699\"/>\r\n",
       "</g>\r\n",
       "<!-- 11 -->\r\n",
       "<g id=\"node12\" class=\"node\"><title>11</title>\r\n",
       "<polygon fill=\"#e58139\" stroke=\"black\" points=\"604.5,-53 485.5,-53 485.5,-0 604.5,-0 604.5,-53\"/>\r\n",
       "<text text-anchor=\"middle\" x=\"545\" y=\"-37.8\" font-family=\"Times New Roman,serif\" font-size=\"14.00\">samples = 8</text>\r\n",
       "<text text-anchor=\"middle\" x=\"545\" y=\"-22.8\" font-family=\"Times New Roman,serif\" font-size=\"14.00\">value = [8, 0]</text>\r\n",
       "<text text-anchor=\"middle\" x=\"545\" y=\"-7.8\" font-family=\"Times New Roman,serif\" font-size=\"14.00\">class = Expansion</text>\r\n",
       "</g>\r\n",
       "<!-- 9&#45;&gt;11 -->\r\n",
       "<g id=\"edge11\" class=\"edge\"><title>9&#45;&gt;11</title>\r\n",
       "<path fill=\"none\" stroke=\"black\" d=\"M502.734,-88.9485C508.837,-80.0749 515.447,-70.4648 521.587,-61.5388\"/>\r\n",
       "<polygon fill=\"black\" stroke=\"black\" points=\"524.514,-63.4594 527.298,-53.2367 518.747,-59.4924 524.514,-63.4594\"/>\r\n",
       "</g>\r\n",
       "<!-- 13 -->\r\n",
       "<g id=\"node14\" class=\"node\"><title>13</title>\r\n",
       "<polygon fill=\"#e99355\" stroke=\"black\" points=\"697,-261 559,-261 559,-193 697,-193 697,-261\"/>\r\n",
       "<text text-anchor=\"middle\" x=\"628\" y=\"-245.8\" font-family=\"Times New Roman,serif\" font-size=\"14.00\">C_RETIAL &lt;= 0.003</text>\r\n",
       "<text text-anchor=\"middle\" x=\"628\" y=\"-230.8\" font-family=\"Times New Roman,serif\" font-size=\"14.00\">samples = 8</text>\r\n",
       "<text text-anchor=\"middle\" x=\"628\" y=\"-215.8\" font-family=\"Times New Roman,serif\" font-size=\"14.00\">value = [7, 1]</text>\r\n",
       "<text text-anchor=\"middle\" x=\"628\" y=\"-200.8\" font-family=\"Times New Roman,serif\" font-size=\"14.00\">class = Expansion</text>\r\n",
       "</g>\r\n",
       "<!-- 12&#45;&gt;13 -->\r\n",
       "<g id=\"edge13\" class=\"edge\"><title>12&#45;&gt;13</title>\r\n",
       "<path fill=\"none\" stroke=\"black\" d=\"M628,-296.884C628,-288.778 628,-279.982 628,-271.472\"/>\r\n",
       "<polygon fill=\"black\" stroke=\"black\" points=\"631.5,-271.299 628,-261.299 624.5,-271.299 631.5,-271.299\"/>\r\n",
       "</g>\r\n",
       "<!-- 16 -->\r\n",
       "<g id=\"node17\" class=\"node\"><title>16</title>\r\n",
       "<polygon fill=\"#e58139\" stroke=\"black\" points=\"834.5,-253.5 715.5,-253.5 715.5,-200.5 834.5,-200.5 834.5,-253.5\"/>\r\n",
       "<text text-anchor=\"middle\" x=\"775\" y=\"-238.3\" font-family=\"Times New Roman,serif\" font-size=\"14.00\">samples = 104</text>\r\n",
       "<text text-anchor=\"middle\" x=\"775\" y=\"-223.3\" font-family=\"Times New Roman,serif\" font-size=\"14.00\">value = [104, 0]</text>\r\n",
       "<text text-anchor=\"middle\" x=\"775\" y=\"-208.3\" font-family=\"Times New Roman,serif\" font-size=\"14.00\">class = Expansion</text>\r\n",
       "</g>\r\n",
       "<!-- 12&#45;&gt;16 -->\r\n",
       "<g id=\"edge16\" class=\"edge\"><title>12&#45;&gt;16</title>\r\n",
       "<path fill=\"none\" stroke=\"black\" d=\"M675.727,-296.884C693.162,-284.786 712.812,-271.151 730.001,-259.224\"/>\r\n",
       "<polygon fill=\"black\" stroke=\"black\" points=\"732.001,-262.096 738.221,-253.52 728.01,-256.345 732.001,-262.096\"/>\r\n",
       "</g>\r\n",
       "<!-- 14 -->\r\n",
       "<g id=\"node15\" class=\"node\"><title>14</title>\r\n",
       "<polygon fill=\"#e58139\" stroke=\"black\" points=\"687.5,-149.5 568.5,-149.5 568.5,-96.5 687.5,-96.5 687.5,-149.5\"/>\r\n",
       "<text text-anchor=\"middle\" x=\"628\" y=\"-134.3\" font-family=\"Times New Roman,serif\" font-size=\"14.00\">samples = 7</text>\r\n",
       "<text text-anchor=\"middle\" x=\"628\" y=\"-119.3\" font-family=\"Times New Roman,serif\" font-size=\"14.00\">value = [7, 0]</text>\r\n",
       "<text text-anchor=\"middle\" x=\"628\" y=\"-104.3\" font-family=\"Times New Roman,serif\" font-size=\"14.00\">class = Expansion</text>\r\n",
       "</g>\r\n",
       "<!-- 13&#45;&gt;14 -->\r\n",
       "<g id=\"edge14\" class=\"edge\"><title>13&#45;&gt;14</title>\r\n",
       "<path fill=\"none\" stroke=\"black\" d=\"M628,-192.884C628,-182.326 628,-170.597 628,-159.854\"/>\r\n",
       "<polygon fill=\"black\" stroke=\"black\" points=\"631.5,-159.52 628,-149.52 624.5,-159.52 631.5,-159.52\"/>\r\n",
       "</g>\r\n",
       "<!-- 15 -->\r\n",
       "<g id=\"node16\" class=\"node\"><title>15</title>\r\n",
       "<polygon fill=\"#399de5\" stroke=\"black\" points=\"824,-149.5 706,-149.5 706,-96.5 824,-96.5 824,-149.5\"/>\r\n",
       "<text text-anchor=\"middle\" x=\"765\" y=\"-134.3\" font-family=\"Times New Roman,serif\" font-size=\"14.00\">samples = 1</text>\r\n",
       "<text text-anchor=\"middle\" x=\"765\" y=\"-119.3\" font-family=\"Times New Roman,serif\" font-size=\"14.00\">value = [0, 1]</text>\r\n",
       "<text text-anchor=\"middle\" x=\"765\" y=\"-104.3\" font-family=\"Times New Roman,serif\" font-size=\"14.00\">class = Recession</text>\r\n",
       "</g>\r\n",
       "<!-- 13&#45;&gt;15 -->\r\n",
       "<g id=\"edge15\" class=\"edge\"><title>13&#45;&gt;15</title>\r\n",
       "<path fill=\"none\" stroke=\"black\" d=\"M672.48,-192.884C688.581,-180.896 706.709,-167.399 722.625,-155.549\"/>\r\n",
       "<polygon fill=\"black\" stroke=\"black\" points=\"724.792,-158.299 730.723,-149.52 720.612,-152.684 724.792,-158.299\"/>\r\n",
       "</g>\r\n",
       "</g>\r\n",
       "</svg>\r\n"
      ],
      "text/plain": [
       "<graphviz.files.Source at 0x1d70c2c0198>"
      ]
     },
     "execution_count": 36,
     "metadata": {},
     "output_type": "execute_result"
    }
   ],
   "source": [
    "# Show\n",
    "import graphviz\n",
    "\n",
    "with open(\"tree.dot\") as file:\n",
    "    decision_tree=file.read()\n",
    "graphviz.Source(decision_tree)"
   ]
  },
  {
   "cell_type": "code",
   "execution_count": 50,
   "metadata": {},
   "outputs": [
    {
     "data": {
      "text/plain": [
       "([<matplotlib.axis.YTick at 0x1d70c3ad5f8>,\n",
       "  <matplotlib.axis.YTick at 0x1d70c3a6ef0>,\n",
       "  <matplotlib.axis.YTick at 0x1d70c373470>,\n",
       "  <matplotlib.axis.YTick at 0x1d70c3d3c18>,\n",
       "  <matplotlib.axis.YTick at 0x1d70c3e2160>,\n",
       "  <matplotlib.axis.YTick at 0x1d70c3e25f8>],\n",
       " <a list of 6 Text yticklabel objects>)"
      ]
     },
     "execution_count": 50,
     "metadata": {},
     "output_type": "execute_result"
    },
    {
     "data": {
      "image/png": "[encoded data removed]",
      "text/plain": [
       "<Figure size 432x288 with 1 Axes>"
      ]
     },
     "metadata": {
      "needs_background": "light"
     },
     "output_type": "display_data"
    }
   ],
   "source": [
    "# Feature Importance\n",
    "plt.barh(range(len(X_train.columns)),model.feature_importances_)\n",
    "plt.yticks(range(len(X_train.columns)),X_train.columns)"
   ]
  },
  {
   "cell_type": "code",
   "execution_count": 38,
   "metadata": {},
   "outputs": [
    {
     "data": {
      "text/plain": [
       "0.8484848484848485"
      ]
     },
     "execution_count": 38,
     "metadata": {},
     "output_type": "execute_result"
    }
   ],
   "source": [
    "# Check Testing Performance\n",
    "model.score(X_test,y_test)"
   ]
  },
  {
   "cell_type": "markdown",
   "metadata": {},
   "source": [
    "- We can reduce overfitting by setting limit on\n",
    "    - Maximum Depth of the tree\n",
    "    - Maximum Number of leaves "
   ]
  },
  {
   "cell_type": "code",
   "execution_count": 56,
   "metadata": {},
   "outputs": [
    {
     "data": {
      "text/plain": [
       "(1.0, 0.9285714285714286)"
      ]
     },
     "execution_count": 56,
     "metadata": {},
     "output_type": "execute_result"
    }
   ],
   "source": [
    "# Set Maximum depth to 3\n",
    "model=DecisionTreeClassifier(max_depth=6)\n",
    "# fit the model\n",
    "model.fit(X_train,y_train)\n",
    "# Training and testing accurace\n",
    "model.score(X_train,y_train),model.score(X_test,y_test)"
   ]
  },
  {
   "cell_type": "markdown",
   "metadata": {},
   "source": [
    "# Random Forests\n",
    "- Ensembles\n",
    "    - Methods that combine multiple machine learning models to create powerful models\n",
    "\n",
    "- The problem with decision trees is that they tend to overfit training data\n",
    "- Random Forests\n",
    "    - Collection of decision trees\n",
    "    - Each tree might overfit data\n",
    "    - By building many trees and averaging them reduce overfitting\n",
    "- How to randomize trees\n",
    "    - Selecting data points\n",
    "    - selecting features\n",
    "- Process\n",
    "    - We can sample the training data multiple times\n",
    "    - In each node, instead of looking at best features\n",
    "        - The algorithm randomly sample features\n",
    "        - Looks for best features in the subset\n",
    "    - This way all the trees in the forest can be different\n",
    "    - We can choose a maximum limit on the features that is being used\n",
    "        - If we choose low number of features, each tree will be different but not deep\n",
    "        - if we choose high number of features, trees will be similar but will be able to fit the data well\n",
    "    - Prediction\n",
    "        - Each tree will provide a probability\n",
    "        - Average of all trees' probability is taken and prediction is made \n",
    "        \n",
    "    \n"
   ]
  },
  {
   "cell_type": "code",
   "execution_count": 73,
   "metadata": {},
   "outputs": [
    {
     "data": {
      "text/plain": [
       "(0.9924242424242424, 0.8484848484848485)"
      ]
     },
     "execution_count": 73,
     "metadata": {},
     "output_type": "execute_result"
    }
   ],
   "source": [
    "# Import Random Forest\n",
    "from sklearn.ensemble import RandomForestClassifier\n",
    "# n_estimators says how many trees I want\n",
    "model=RandomForestClassifier(n_estimators=10,random_state=100)\n",
    "# fit the model\n",
    "model.fit(X_train,y_train)\n",
    "# Training and testing accurace\n",
    "model.score(X_train,y_train),model.score(X_test,y_test)"
   ]
  },
  {
   "cell_type": "code",
   "execution_count": 69,
   "metadata": {},
   "outputs": [
    {
     "data": {
      "text/plain": [
       "([<matplotlib.axis.YTick at 0x1d70c4bc048>,\n",
       "  <matplotlib.axis.YTick at 0x1d70c4af048>,\n",
       "  <matplotlib.axis.YTick at 0x1d70c4a07f0>,\n",
       "  <matplotlib.axis.YTick at 0x1d70c4e8550>,\n",
       "  <matplotlib.axis.YTick at 0x1d70c4e8a20>,\n",
       "  <matplotlib.axis.YTick at 0x1d70c4e8f28>],\n",
       " <a list of 6 Text yticklabel objects>)"
      ]
     },
     "execution_count": 69,
     "metadata": {},
     "output_type": "execute_result"
    },
    {
     "data": {
      "image/png": "[encoded data removed]",
      "text/plain": [
       "<Figure size 432x288 with 1 Axes>"
      ]
     },
     "metadata": {
      "needs_background": "light"
     },
     "output_type": "display_data"
    }
   ],
   "source": [
    "# Feature Importance\n",
    "plt.barh(range(len(X_train.columns)),model.feature_importances_)\n",
    "plt.yticks(range(len(X_train.columns)),X_train.columns)"
   ]
  },
  {
   "cell_type": "markdown",
   "metadata": {},
   "source": [
    "# Gradient Boosting\n",
    "- Ensemble method\n",
    "- Build trees in serial manner\n",
    "    - Each tree tries to correct mistakes of the previous one\n",
    "    - Shallow trees with depth of 1-5\n",
    "    - Combine many simple models\n",
    "    - Each tree provides good predictions on part of the data\n",
    "- More sensitive to parameter setting"
   ]
  },
  {
   "cell_type": "code",
   "execution_count": 74,
   "metadata": {},
   "outputs": [
    {
     "data": {
      "text/plain": [
       "(1.0, 0.8181818181818182)"
      ]
     },
     "execution_count": 74,
     "metadata": {},
     "output_type": "execute_result"
    }
   ],
   "source": [
    "# Import Gradient Boosting\n",
    "from sklearn.ensemble import GradientBoostingClassifier\n",
    "# \n",
    "model=GradientBoostingClassifier()\n",
    "# fit the model\n",
    "model.fit(X_train,y_train)\n",
    "# Training and testing accurace\n",
    "model.score(X_train,y_train),model.score(X_test,y_test)"
   ]
  },
  {
   "cell_type": "code",
   "execution_count": 91,
   "metadata": {},
   "outputs": [
    {
     "data": {
      "text/plain": [
       "0.10909090909090909"
      ]
     },
     "execution_count": 91,
     "metadata": {},
     "output_type": "execute_result"
    }
   ],
   "source": [
    "np.mean(y)"
   ]
  },
  {
   "cell_type": "code",
   "execution_count": 93,
   "metadata": {},
   "outputs": [
    {
     "data": {
      "text/plain": [
       "(0.06097560975609756, 0.1566265060240964)"
      ]
     },
     "execution_count": 93,
     "metadata": {},
     "output_type": "execute_result"
    }
   ],
   "source": [
    "X_train, X_test, y_train, y_test = train_test_split(X,y,test_size=0.50,random_state=50)\n",
    "np.mean(y_train),np.mean(y_test)"
   ]
  },
  {
   "cell_type": "code",
   "execution_count": 90,
   "metadata": {},
   "outputs": [
    {
     "data": {
      "text/plain": [
       "(1.0, 0.8409090909090909)"
      ]
     },
     "execution_count": 90,
     "metadata": {},
     "output_type": "execute_result"
    }
   ],
   "source": [
    "# Use another sample with 50\\% as training and splitting\n",
    "X_train, X_test, y_train, y_test = train_test_split(X,y,test_size=0.80,random_state=50)\n",
    "# max_depth of 1 and number of estimators\n",
    "model=GradientBoostingClassifier(max_depth=2,n_estimators=5)\n",
    "# fit the model\n",
    "model.fit(X_train,y_train)\n",
    "# Training and testing accurace\n",
    "model.score(X_train,y_train),model.score(X_test,y_test)"
   ]
  },
  {
   "cell_type": "markdown",
   "metadata": {},
   "source": [
    "# Cross Validation\n",
    "- Method to evaluate if the generalized performace is stable\n",
    "- Data is split repeatedly and multiple models are trained\n",
    "- k-folds CV\n",
    "    - Data is split into k partitions, say 5 folds\n",
    "    - The first fold is the test set , 1st fold\n",
    "    - The model is built using the remaining folds 2-5\n",
    "    - The model is evaluated in fold 1\n",
    "    - Then the second fold becomes the test set\n",
    "    - Now the model is built using folds 1,3-5\n",
    "    - This model will be evaluated in fold 2 and so on\n",
    "- My checking the average performance we can understand how sensitive model is to data"
   ]
  },
  {
   "cell_type": "code",
   "execution_count": 107,
   "metadata": {},
   "outputs": [
    {
     "data": {
      "text/plain": [
       "(0.8471835075493612, array([0.88095238, 0.88095238, 0.92682927, 0.7       ]))"
      ]
     },
     "execution_count": 107,
     "metadata": {},
     "output_type": "execute_result"
    }
   ],
   "source": [
    "# import CV\n",
    "from sklearn.model_selection import cross_val_score\n",
    "# let us use decision tree\n",
    "model=GradientBoostingClassifier(max_depth=4)\n",
    "# Compute scores\n",
    "score=cross_val_score(model,X,y,cv=4)\n",
    "# Average score\n",
    "np.mean(score),score"
   ]
  },
  {
   "cell_type": "markdown",
   "metadata": {},
   "source": [
    "##### Task \n",
    "- Try out cross validation scores for Nearest neighbours (use 10 neighbors)"
   ]
  },
  {
   "cell_type": "markdown",
   "metadata": {},
   "source": [
    "# Grid Search\n",
    "- Models are sensitive to parameters\n",
    "- How do we identify the best parameter combination"
   ]
  },
  {
   "cell_type": "code",
   "execution_count": 118,
   "metadata": {},
   "outputs": [],
   "source": [
    "# Split data into training + validation and test data sets\n",
    "X_trainval, X_test, y_trainval, y_test = train_test_split(X,y,test_size=0.30)\n",
    "#import k Nearest Neighbors\n",
    "from sklearn.neighbors import KNeighborsClassifier"
   ]
  },
  {
   "cell_type": "code",
   "execution_count": 119,
   "metadata": {},
   "outputs": [
    {
     "data": {
      "text/plain": [
       "(3, 0.895795523290986)"
      ]
     },
     "execution_count": 119,
     "metadata": {},
     "output_type": "execute_result"
    }
   ],
   "source": [
    "# Let us use Grid search to find out the best nearest neighbor\n",
    "# Initialize max_score\n",
    "max_score=0\n",
    "for n in [1,2,3,4,5,6,7,10,12,15,18,20]:\n",
    "    model=KNeighborsClassifier(n_neighbors=n)\n",
    "    # Do cross-validation and compute average score\n",
    "    cv_scores=cross_val_score(model,X_trainval,y_trainval,cv=2)\n",
    "    score=np.mean(cv_scores)\n",
    "    # Check if the score is the best score\n",
    "    if score > max_score:\n",
    "        max_score=score\n",
    "        best_n=n\n",
    "best_n, max_score"
   ]
  },
  {
   "cell_type": "code",
   "execution_count": 120,
   "metadata": {},
   "outputs": [
    {
     "data": {
      "text/plain": [
       "array([0, 0, 0, 1, 0, 0, 0, 0, 1, 0, 0, 0, 0, 0, 0, 0, 0, 0, 0, 0, 0, 0,\n",
       "       0, 0, 0, 0, 0, 0, 0, 1, 0, 0, 0, 0, 1, 0, 0, 0, 0, 0, 0, 0, 0, 0,\n",
       "       0, 0, 0, 1, 0, 0], dtype=int64)"
      ]
     },
     "execution_count": 120,
     "metadata": {},
     "output_type": "execute_result"
    }
   ],
   "source": [
    "# Fit the best model \n",
    "model=KNeighborsClassifier(n_neighbors=3)\n",
    "# In full cross-validation sample\n",
    "model.fit(X_trainval,y_trainval)\n",
    "# Generate Predictions\n",
    "model.predict(X_test)"
   ]
  },
  {
   "cell_type": "code",
   "execution_count": 122,
   "metadata": {},
   "outputs": [
    {
     "data": {
      "text/plain": [
       "0.88"
      ]
     },
     "execution_count": 122,
     "metadata": {},
     "output_type": "execute_result"
    }
   ],
   "source": [
    "model.score(X_test,y_test)"
   ]
  },
  {
   "cell_type": "markdown",
   "metadata": {},
   "source": [
    "# Task \n",
    "- Use Grid search with cross validation to get the best decision tree model\n",
    "- Use max_depth ranging from 1 to 6"
   ]
  },
  {
   "cell_type": "code",
   "execution_count": null,
   "metadata": {},
   "outputs": [],
   "source": []
  }
 ],
 "metadata": {
  "kernelspec": {
   "display_name": "Python 3",
   "language": "python",
   "name": "python3"
  },
  "language_info": {
   "codemirror_mode": {
    "name": "ipython",
    "version": 3
   },
   "file_extension": ".py",
   "mimetype": "text/x-python",
   "name": "python",
   "nbconvert_exporter": "python",
   "pygments_lexer": "ipython3",
   "version": "3.6.9"
  }
 },
 "nbformat": 4,
 "nbformat_minor": 2
}
