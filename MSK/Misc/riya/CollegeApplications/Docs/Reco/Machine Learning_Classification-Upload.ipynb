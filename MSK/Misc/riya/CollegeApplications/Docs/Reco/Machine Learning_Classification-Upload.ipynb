{
 "cells": [
  {
   "cell_type": "markdown",
   "metadata": {},
   "source": [
    "# Predicting Recessions\n",
    "## Business Cylces\n",
    "- Economies go through expansions and recessions\n",
    "- Expansion\n",
    "    - Periods of growth in GDP\n",
    "- Recessions\n",
    "    - Periods of GDP decline\n",
    "    - Recessions are generally defined as two quarters of decline in GDP\n",
    "- We saw earlier how yield curves historically have inverted before recessions\n",
    "- Now let us try to use more predictors to see if we can predict recessions\n",
    "\n",
    "- Why should we do this?\n",
    "    - Predicting Recessions better than the stock market will be very profitable for investors\n",
    "    - Policy makers can take appropriate action"
   ]
  },
  {
   "cell_type": "markdown",
   "metadata": {},
   "source": [
    "- In last lecture we saw machine learning is essentially figuring out the f in \n",
    "$$ Y = f(X) + e $$\n",
    "- In our task what is Y?\n",
    "- Is that a quantitative or qualitative variable?\n",
    "- Is this a regression or classification problem?"
   ]
  },
  {
   "cell_type": "markdown",
   "metadata": {},
   "source": [
    "- What predictors can we use (X)?\n",
    "- Yield curve\n",
    "    - Spread between 10 year treasury yield and 2 year treasury yield\n",
    "- Unemployment rate\n",
    "- Change in Inventory\n",
    "- New Housing Permits\n",
    "- Percentage change in housing prices\n",
    "- Percentage change in retail sales\n",
    "- Data source: FRED"
   ]
  },
  {
   "cell_type": "code",
   "execution_count": 1,
   "metadata": {},
   "outputs": [],
   "source": [
    "# Import Datasets\n",
    "import pandas as pd\n",
    "import numpy as np\n",
    "import matplotlib.pyplot as plt\n",
    "%matplotlib inline\n",
    "import datetime\n",
    "import time\n",
    "# Direct data access from yahoo\n",
    "import pandas_datareader.data as web"
   ]
  },
  {
   "cell_type": "markdown",
   "metadata": {},
   "source": [
    "- Symbols for getting the data from FRED\n",
    "- 10 and 2 year spread - T10Y2Y\n",
    "- Unemployment rate - UNRATE\n",
    "- Change in Inventory - CBIC1\n",
    "- New Housing Permits - PERMIT\n",
    "- Housing prices - USSTHPI\n",
    "- Retail sales - SLRTTO01USQ661S\n",
    "    - For housing prices and retail sales need to compute percentage change in retail sales"
   ]
  },
  {
   "cell_type": "code",
   "execution_count": 2,
   "metadata": {},
   "outputs": [
    {
     "data": {
      "text/html": [
       "<div>\n",
       "<style scoped>\n",
       "    .dataframe tbody tr th:only-of-type {\n",
       "        vertical-align: middle;\n",
       "    }\n",
       "\n",
       "    .dataframe tbody tr th {\n",
       "        vertical-align: top;\n",
       "    }\n",
       "\n",
       "    .dataframe thead th {\n",
       "        text-align: right;\n",
       "    }\n",
       "</style>\n",
       "<table border=\"1\" class=\"dataframe\">\n",
       "  <thead>\n",
       "    <tr style=\"text-align: right;\">\n",
       "      <th></th>\n",
       "      <th>T10Y2Y</th>\n",
       "      <th>UNRATE</th>\n",
       "      <th>CBIC1</th>\n",
       "      <th>PERMIT</th>\n",
       "      <th>USSTHPI</th>\n",
       "      <th>SLRTTO01USQ661S</th>\n",
       "    </tr>\n",
       "    <tr>\n",
       "      <th>DATE</th>\n",
       "      <th></th>\n",
       "      <th></th>\n",
       "      <th></th>\n",
       "      <th></th>\n",
       "      <th></th>\n",
       "      <th></th>\n",
       "    </tr>\n",
       "  </thead>\n",
       "  <tbody>\n",
       "    <tr>\n",
       "      <td>1976-01-01</td>\n",
       "      <td>NaN</td>\n",
       "      <td>7.9</td>\n",
       "      <td>40.608</td>\n",
       "      <td>1195.0</td>\n",
       "      <td>62.90</td>\n",
       "      <td>52.835884</td>\n",
       "    </tr>\n",
       "    <tr>\n",
       "      <td>1976-02-01</td>\n",
       "      <td>NaN</td>\n",
       "      <td>7.7</td>\n",
       "      <td>NaN</td>\n",
       "      <td>1190.0</td>\n",
       "      <td>NaN</td>\n",
       "      <td>NaN</td>\n",
       "    </tr>\n",
       "    <tr>\n",
       "      <td>1976-03-01</td>\n",
       "      <td>NaN</td>\n",
       "      <td>7.6</td>\n",
       "      <td>NaN</td>\n",
       "      <td>1164.0</td>\n",
       "      <td>NaN</td>\n",
       "      <td>NaN</td>\n",
       "    </tr>\n",
       "    <tr>\n",
       "      <td>1976-04-01</td>\n",
       "      <td>NaN</td>\n",
       "      <td>7.7</td>\n",
       "      <td>61.087</td>\n",
       "      <td>1132.0</td>\n",
       "      <td>65.45</td>\n",
       "      <td>53.606131</td>\n",
       "    </tr>\n",
       "    <tr>\n",
       "      <td>1976-05-01</td>\n",
       "      <td>NaN</td>\n",
       "      <td>7.4</td>\n",
       "      <td>NaN</td>\n",
       "      <td>1194.0</td>\n",
       "      <td>NaN</td>\n",
       "      <td>NaN</td>\n",
       "    </tr>\n",
       "    <tr>\n",
       "      <td>...</td>\n",
       "      <td>...</td>\n",
       "      <td>...</td>\n",
       "      <td>...</td>\n",
       "      <td>...</td>\n",
       "      <td>...</td>\n",
       "      <td>...</td>\n",
       "    </tr>\n",
       "    <tr>\n",
       "      <td>2018-12-25</td>\n",
       "      <td>NaN</td>\n",
       "      <td>NaN</td>\n",
       "      <td>NaN</td>\n",
       "      <td>NaN</td>\n",
       "      <td>NaN</td>\n",
       "      <td>NaN</td>\n",
       "    </tr>\n",
       "    <tr>\n",
       "      <td>2018-12-26</td>\n",
       "      <td>0.20</td>\n",
       "      <td>NaN</td>\n",
       "      <td>NaN</td>\n",
       "      <td>NaN</td>\n",
       "      <td>NaN</td>\n",
       "      <td>NaN</td>\n",
       "    </tr>\n",
       "    <tr>\n",
       "      <td>2018-12-27</td>\n",
       "      <td>0.21</td>\n",
       "      <td>NaN</td>\n",
       "      <td>NaN</td>\n",
       "      <td>NaN</td>\n",
       "      <td>NaN</td>\n",
       "      <td>NaN</td>\n",
       "    </tr>\n",
       "    <tr>\n",
       "      <td>2018-12-28</td>\n",
       "      <td>0.20</td>\n",
       "      <td>NaN</td>\n",
       "      <td>NaN</td>\n",
       "      <td>NaN</td>\n",
       "      <td>NaN</td>\n",
       "      <td>NaN</td>\n",
       "    </tr>\n",
       "    <tr>\n",
       "      <td>2018-12-31</td>\n",
       "      <td>0.21</td>\n",
       "      <td>NaN</td>\n",
       "      <td>NaN</td>\n",
       "      <td>NaN</td>\n",
       "      <td>NaN</td>\n",
       "      <td>NaN</td>\n",
       "    </tr>\n",
       "  </tbody>\n",
       "</table>\n",
       "<p>11261 rows × 6 columns</p>\n",
       "</div>"
      ],
      "text/plain": [
       "            T10Y2Y  UNRATE   CBIC1  PERMIT  USSTHPI  SLRTTO01USQ661S\n",
       "DATE                                                                \n",
       "1976-01-01     NaN     7.9  40.608  1195.0    62.90        52.835884\n",
       "1976-02-01     NaN     7.7     NaN  1190.0      NaN              NaN\n",
       "1976-03-01     NaN     7.6     NaN  1164.0      NaN              NaN\n",
       "1976-04-01     NaN     7.7  61.087  1132.0    65.45        53.606131\n",
       "1976-05-01     NaN     7.4     NaN  1194.0      NaN              NaN\n",
       "...            ...     ...     ...     ...      ...              ...\n",
       "2018-12-25     NaN     NaN     NaN     NaN      NaN              NaN\n",
       "2018-12-26    0.20     NaN     NaN     NaN      NaN              NaN\n",
       "2018-12-27    0.21     NaN     NaN     NaN      NaN              NaN\n",
       "2018-12-28    0.20     NaN     NaN     NaN      NaN              NaN\n",
       "2018-12-31    0.21     NaN     NaN     NaN      NaN              NaN\n",
       "\n",
       "[11261 rows x 6 columns]"
      ]
     },
     "execution_count": 2,
     "metadata": {},
     "output_type": "execute_result"
    }
   ],
   "source": [
    "# Extract Predictors \n",
    "Predictors=web.DataReader([\"T10Y2Y\", \"UNRATE\", \"CBIC1\", \"PERMIT\",\"USSTHPI\", \"SLRTTO01USQ661S\"], \"fred\", \"1976-01-01\", \"2018-12-31\")\n",
    "Predictors"
   ]
  },
  {
   "cell_type": "code",
   "execution_count": 3,
   "metadata": {},
   "outputs": [],
   "source": [
    "# Take mean of the predictors every quarter\n",
    "Predictors_1=Predictors.resample('QS').mean()\n",
    "Predictors_1.columns=[\"YIELD\",\"UNRATE\",\"C_INV\", \"PERMIT\",\"HOUSE\",\"RETAIL\"]"
   ]
  },
  {
   "cell_type": "code",
   "execution_count": 4,
   "metadata": {},
   "outputs": [],
   "source": [
    "# Need annual precentage change in house prices and retail sales \n",
    "Predictors_1[\"C_HOUSE\"]=Predictors_1[\"HOUSE\"]/Predictors_1[\"HOUSE\"].shift(4)-1\n",
    "Predictors_1[\"C_RETIAL\"]=Predictors_1[\"RETAIL\"]/Predictors_1[\"RETAIL\"].shift(4)-1"
   ]
  },
  {
   "cell_type": "code",
   "execution_count": 5,
   "metadata": {
    "scrolled": true
   },
   "outputs": [
    {
     "data": {
      "text/html": [
       "<div>\n",
       "<style scoped>\n",
       "    .dataframe tbody tr th:only-of-type {\n",
       "        vertical-align: middle;\n",
       "    }\n",
       "\n",
       "    .dataframe tbody tr th {\n",
       "        vertical-align: top;\n",
       "    }\n",
       "\n",
       "    .dataframe thead th {\n",
       "        text-align: right;\n",
       "    }\n",
       "</style>\n",
       "<table border=\"1\" class=\"dataframe\">\n",
       "  <thead>\n",
       "    <tr style=\"text-align: right;\">\n",
       "      <th></th>\n",
       "      <th>YIELD</th>\n",
       "      <th>UNRATE</th>\n",
       "      <th>C_INV</th>\n",
       "      <th>PERMIT</th>\n",
       "      <th>C_HOUSE</th>\n",
       "      <th>C_RETIAL</th>\n",
       "    </tr>\n",
       "    <tr>\n",
       "      <th>DATE</th>\n",
       "      <th></th>\n",
       "      <th></th>\n",
       "      <th></th>\n",
       "      <th></th>\n",
       "      <th></th>\n",
       "      <th></th>\n",
       "    </tr>\n",
       "  </thead>\n",
       "  <tbody>\n",
       "    <tr>\n",
       "      <td>1977-01-01</td>\n",
       "      <td>1.332222</td>\n",
       "      <td>7.500000</td>\n",
       "      <td>34.343</td>\n",
       "      <td>1562.000000</td>\n",
       "      <td>0.103816</td>\n",
       "      <td>0.037939</td>\n",
       "    </tr>\n",
       "    <tr>\n",
       "      <td>1977-04-01</td>\n",
       "      <td>1.248254</td>\n",
       "      <td>7.133333</td>\n",
       "      <td>51.245</td>\n",
       "      <td>1693.333333</td>\n",
       "      <td>0.110466</td>\n",
       "      <td>0.032931</td>\n",
       "    </tr>\n",
       "    <tr>\n",
       "      <td>1977-07-01</td>\n",
       "      <td>0.814762</td>\n",
       "      <td>6.900000</td>\n",
       "      <td>89.947</td>\n",
       "      <td>1713.666667</td>\n",
       "      <td>0.117302</td>\n",
       "      <td>0.034861</td>\n",
       "    </tr>\n",
       "    <tr>\n",
       "      <td>1977-10-01</td>\n",
       "      <td>0.454833</td>\n",
       "      <td>6.666667</td>\n",
       "      <td>47.311</td>\n",
       "      <td>1761.000000</td>\n",
       "      <td>0.147334</td>\n",
       "      <td>0.038371</td>\n",
       "    </tr>\n",
       "    <tr>\n",
       "      <td>1978-01-01</td>\n",
       "      <td>0.466393</td>\n",
       "      <td>6.333333</td>\n",
       "      <td>56.354</td>\n",
       "      <td>1758.333333</td>\n",
       "      <td>0.146190</td>\n",
       "      <td>0.016099</td>\n",
       "    </tr>\n",
       "    <tr>\n",
       "      <td>...</td>\n",
       "      <td>...</td>\n",
       "      <td>...</td>\n",
       "      <td>...</td>\n",
       "      <td>...</td>\n",
       "      <td>...</td>\n",
       "      <td>...</td>\n",
       "    </tr>\n",
       "    <tr>\n",
       "      <td>2017-04-01</td>\n",
       "      <td>0.963333</td>\n",
       "      <td>4.366667</td>\n",
       "      <td>0.637</td>\n",
       "      <td>1263.333333</td>\n",
       "      <td>0.060459</td>\n",
       "      <td>0.022948</td>\n",
       "    </tr>\n",
       "    <tr>\n",
       "      <td>2017-07-01</td>\n",
       "      <td>0.878730</td>\n",
       "      <td>4.300000</td>\n",
       "      <td>56.087</td>\n",
       "      <td>1277.000000</td>\n",
       "      <td>0.058800</td>\n",
       "      <td>0.024696</td>\n",
       "    </tr>\n",
       "    <tr>\n",
       "      <td>2017-10-01</td>\n",
       "      <td>0.677097</td>\n",
       "      <td>4.133333</td>\n",
       "      <td>25.302</td>\n",
       "      <td>1316.666667</td>\n",
       "      <td>0.059259</td>\n",
       "      <td>0.037249</td>\n",
       "    </tr>\n",
       "    <tr>\n",
       "      <td>2018-01-01</td>\n",
       "      <td>0.598033</td>\n",
       "      <td>4.066667</td>\n",
       "      <td>47.267</td>\n",
       "      <td>1370.666667</td>\n",
       "      <td>0.065667</td>\n",
       "      <td>0.024168</td>\n",
       "    </tr>\n",
       "    <tr>\n",
       "      <td>2018-04-01</td>\n",
       "      <td>0.443594</td>\n",
       "      <td>3.933333</td>\n",
       "      <td>-4.943</td>\n",
       "      <td>1344.666667</td>\n",
       "      <td>0.061928</td>\n",
       "      <td>0.029594</td>\n",
       "    </tr>\n",
       "  </tbody>\n",
       "</table>\n",
       "<p>166 rows × 6 columns</p>\n",
       "</div>"
      ],
      "text/plain": [
       "               YIELD    UNRATE   C_INV       PERMIT   C_HOUSE  C_RETIAL\n",
       "DATE                                                                   \n",
       "1977-01-01  1.332222  7.500000  34.343  1562.000000  0.103816  0.037939\n",
       "1977-04-01  1.248254  7.133333  51.245  1693.333333  0.110466  0.032931\n",
       "1977-07-01  0.814762  6.900000  89.947  1713.666667  0.117302  0.034861\n",
       "1977-10-01  0.454833  6.666667  47.311  1761.000000  0.147334  0.038371\n",
       "1978-01-01  0.466393  6.333333  56.354  1758.333333  0.146190  0.016099\n",
       "...              ...       ...     ...          ...       ...       ...\n",
       "2017-04-01  0.963333  4.366667   0.637  1263.333333  0.060459  0.022948\n",
       "2017-07-01  0.878730  4.300000  56.087  1277.000000  0.058800  0.024696\n",
       "2017-10-01  0.677097  4.133333  25.302  1316.666667  0.059259  0.037249\n",
       "2018-01-01  0.598033  4.066667  47.267  1370.666667  0.065667  0.024168\n",
       "2018-04-01  0.443594  3.933333  -4.943  1344.666667  0.061928  0.029594\n",
       "\n",
       "[166 rows x 6 columns]"
      ]
     },
     "execution_count": 5,
     "metadata": {},
     "output_type": "execute_result"
    }
   ],
   "source": [
    "#Drop house and retail\n",
    "Predictors_2=Predictors_1.drop([\"HOUSE\",\"RETAIL\"],axis=1).dropna()\n",
    "Predictors_2"
   ]
  },
  {
   "cell_type": "code",
   "execution_count": 6,
   "metadata": {},
   "outputs": [
    {
     "data": {
      "text/html": [
       "<div>\n",
       "<style scoped>\n",
       "    .dataframe tbody tr th:only-of-type {\n",
       "        vertical-align: middle;\n",
       "    }\n",
       "\n",
       "    .dataframe tbody tr th {\n",
       "        vertical-align: top;\n",
       "    }\n",
       "\n",
       "    .dataframe thead th {\n",
       "        text-align: right;\n",
       "    }\n",
       "</style>\n",
       "<table border=\"1\" class=\"dataframe\">\n",
       "  <thead>\n",
       "    <tr style=\"text-align: right;\">\n",
       "      <th></th>\n",
       "      <th>USRECQ</th>\n",
       "    </tr>\n",
       "    <tr>\n",
       "      <th>DATE</th>\n",
       "      <th></th>\n",
       "    </tr>\n",
       "  </thead>\n",
       "  <tbody>\n",
       "    <tr>\n",
       "      <td>1977-01-01</td>\n",
       "      <td>0</td>\n",
       "    </tr>\n",
       "    <tr>\n",
       "      <td>1977-04-01</td>\n",
       "      <td>0</td>\n",
       "    </tr>\n",
       "    <tr>\n",
       "      <td>1977-07-01</td>\n",
       "      <td>0</td>\n",
       "    </tr>\n",
       "    <tr>\n",
       "      <td>1977-10-01</td>\n",
       "      <td>0</td>\n",
       "    </tr>\n",
       "    <tr>\n",
       "      <td>1978-01-01</td>\n",
       "      <td>0</td>\n",
       "    </tr>\n",
       "    <tr>\n",
       "      <td>...</td>\n",
       "      <td>...</td>\n",
       "    </tr>\n",
       "    <tr>\n",
       "      <td>2017-04-01</td>\n",
       "      <td>0</td>\n",
       "    </tr>\n",
       "    <tr>\n",
       "      <td>2017-07-01</td>\n",
       "      <td>0</td>\n",
       "    </tr>\n",
       "    <tr>\n",
       "      <td>2017-10-01</td>\n",
       "      <td>0</td>\n",
       "    </tr>\n",
       "    <tr>\n",
       "      <td>2018-01-01</td>\n",
       "      <td>0</td>\n",
       "    </tr>\n",
       "    <tr>\n",
       "      <td>2018-04-01</td>\n",
       "      <td>0</td>\n",
       "    </tr>\n",
       "  </tbody>\n",
       "</table>\n",
       "<p>166 rows × 1 columns</p>\n",
       "</div>"
      ],
      "text/plain": [
       "            USRECQ\n",
       "DATE              \n",
       "1977-01-01       0\n",
       "1977-04-01       0\n",
       "1977-07-01       0\n",
       "1977-10-01       0\n",
       "1978-01-01       0\n",
       "...            ...\n",
       "2017-04-01       0\n",
       "2017-07-01       0\n",
       "2017-10-01       0\n",
       "2018-01-01       0\n",
       "2018-04-01       0\n",
       "\n",
       "[166 rows x 1 columns]"
      ]
     },
     "execution_count": 6,
     "metadata": {},
     "output_type": "execute_result"
    }
   ],
   "source": [
    "# Get Recession dates\n",
    "Recession=web.DataReader([\"USRECQ\"],\"fred\",\"1977-01-01\",\"2018-04-30\")\n",
    "Recession"
   ]
  },
  {
   "cell_type": "code",
   "execution_count": 7,
   "metadata": {
    "scrolled": true
   },
   "outputs": [
    {
     "data": {
      "text/html": [
       "<div>\n",
       "<style scoped>\n",
       "    .dataframe tbody tr th:only-of-type {\n",
       "        vertical-align: middle;\n",
       "    }\n",
       "\n",
       "    .dataframe tbody tr th {\n",
       "        vertical-align: top;\n",
       "    }\n",
       "\n",
       "    .dataframe thead th {\n",
       "        text-align: right;\n",
       "    }\n",
       "</style>\n",
       "<table border=\"1\" class=\"dataframe\">\n",
       "  <thead>\n",
       "    <tr style=\"text-align: right;\">\n",
       "      <th></th>\n",
       "      <th>USRECQ</th>\n",
       "    </tr>\n",
       "    <tr>\n",
       "      <th>DATE</th>\n",
       "      <th></th>\n",
       "    </tr>\n",
       "  </thead>\n",
       "  <tbody>\n",
       "    <tr>\n",
       "      <td>1980-04-01</td>\n",
       "      <td>1</td>\n",
       "    </tr>\n",
       "    <tr>\n",
       "      <td>1980-07-01</td>\n",
       "      <td>1</td>\n",
       "    </tr>\n",
       "    <tr>\n",
       "      <td>1981-10-01</td>\n",
       "      <td>1</td>\n",
       "    </tr>\n",
       "    <tr>\n",
       "      <td>1982-01-01</td>\n",
       "      <td>1</td>\n",
       "    </tr>\n",
       "    <tr>\n",
       "      <td>1982-04-01</td>\n",
       "      <td>1</td>\n",
       "    </tr>\n",
       "    <tr>\n",
       "      <td>1982-07-01</td>\n",
       "      <td>1</td>\n",
       "    </tr>\n",
       "    <tr>\n",
       "      <td>1982-10-01</td>\n",
       "      <td>1</td>\n",
       "    </tr>\n",
       "    <tr>\n",
       "      <td>1990-10-01</td>\n",
       "      <td>1</td>\n",
       "    </tr>\n",
       "    <tr>\n",
       "      <td>1991-01-01</td>\n",
       "      <td>1</td>\n",
       "    </tr>\n",
       "    <tr>\n",
       "      <td>2001-04-01</td>\n",
       "      <td>1</td>\n",
       "    </tr>\n",
       "    <tr>\n",
       "      <td>2001-07-01</td>\n",
       "      <td>1</td>\n",
       "    </tr>\n",
       "    <tr>\n",
       "      <td>2001-10-01</td>\n",
       "      <td>1</td>\n",
       "    </tr>\n",
       "    <tr>\n",
       "      <td>2008-01-01</td>\n",
       "      <td>1</td>\n",
       "    </tr>\n",
       "    <tr>\n",
       "      <td>2008-04-01</td>\n",
       "      <td>1</td>\n",
       "    </tr>\n",
       "    <tr>\n",
       "      <td>2008-07-01</td>\n",
       "      <td>1</td>\n",
       "    </tr>\n",
       "    <tr>\n",
       "      <td>2008-10-01</td>\n",
       "      <td>1</td>\n",
       "    </tr>\n",
       "    <tr>\n",
       "      <td>2009-01-01</td>\n",
       "      <td>1</td>\n",
       "    </tr>\n",
       "    <tr>\n",
       "      <td>2009-04-01</td>\n",
       "      <td>1</td>\n",
       "    </tr>\n",
       "  </tbody>\n",
       "</table>\n",
       "</div>"
      ],
      "text/plain": [
       "            USRECQ\n",
       "DATE              \n",
       "1980-04-01       1\n",
       "1980-07-01       1\n",
       "1981-10-01       1\n",
       "1982-01-01       1\n",
       "1982-04-01       1\n",
       "1982-07-01       1\n",
       "1982-10-01       1\n",
       "1990-10-01       1\n",
       "1991-01-01       1\n",
       "2001-04-01       1\n",
       "2001-07-01       1\n",
       "2001-10-01       1\n",
       "2008-01-01       1\n",
       "2008-04-01       1\n",
       "2008-07-01       1\n",
       "2008-10-01       1\n",
       "2009-01-01       1\n",
       "2009-04-01       1"
      ]
     },
     "execution_count": 7,
     "metadata": {},
     "output_type": "execute_result"
    }
   ],
   "source": [
    "Recession[Recession[\"USRECQ\"]==1]"
   ]
  },
  {
   "cell_type": "code",
   "execution_count": 8,
   "metadata": {},
   "outputs": [
    {
     "data": {
      "text/html": [
       "<div>\n",
       "<style scoped>\n",
       "    .dataframe tbody tr th:only-of-type {\n",
       "        vertical-align: middle;\n",
       "    }\n",
       "\n",
       "    .dataframe tbody tr th {\n",
       "        vertical-align: top;\n",
       "    }\n",
       "\n",
       "    .dataframe thead th {\n",
       "        text-align: right;\n",
       "    }\n",
       "</style>\n",
       "<table border=\"1\" class=\"dataframe\">\n",
       "  <thead>\n",
       "    <tr style=\"text-align: right;\">\n",
       "      <th></th>\n",
       "      <th>USRECQ</th>\n",
       "      <th>Change</th>\n",
       "    </tr>\n",
       "    <tr>\n",
       "      <th>DATE</th>\n",
       "      <th></th>\n",
       "      <th></th>\n",
       "    </tr>\n",
       "  </thead>\n",
       "  <tbody>\n",
       "    <tr>\n",
       "      <td>1980-10-01</td>\n",
       "      <td>0</td>\n",
       "      <td>-1.0</td>\n",
       "    </tr>\n",
       "    <tr>\n",
       "      <td>1983-01-01</td>\n",
       "      <td>0</td>\n",
       "      <td>-1.0</td>\n",
       "    </tr>\n",
       "    <tr>\n",
       "      <td>1991-04-01</td>\n",
       "      <td>0</td>\n",
       "      <td>-1.0</td>\n",
       "    </tr>\n",
       "    <tr>\n",
       "      <td>2002-01-01</td>\n",
       "      <td>0</td>\n",
       "      <td>-1.0</td>\n",
       "    </tr>\n",
       "    <tr>\n",
       "      <td>2009-07-01</td>\n",
       "      <td>0</td>\n",
       "      <td>-1.0</td>\n",
       "    </tr>\n",
       "  </tbody>\n",
       "</table>\n",
       "</div>"
      ],
      "text/plain": [
       "            USRECQ  Change\n",
       "DATE                      \n",
       "1980-10-01       0    -1.0\n",
       "1983-01-01       0    -1.0\n",
       "1991-04-01       0    -1.0\n",
       "2002-01-01       0    -1.0\n",
       "2009-07-01       0    -1.0"
      ]
     },
     "execution_count": 8,
     "metadata": {},
     "output_type": "execute_result"
    }
   ],
   "source": [
    "Recession[\"Change\"]=Recession[\"USRECQ\"].diff()\n",
    "Recession[Recession[\"Change\"]==-1]"
   ]
  },
  {
   "cell_type": "code",
   "execution_count": 9,
   "metadata": {},
   "outputs": [],
   "source": [
    "# Start Date of recession\n",
    "Start_Dates=Recession[Recession[\"Change\"]>0].index\n",
    "End_Dates=Recession[Recession[\"Change\"]<0].index+pd.offsets.QuarterEnd(-1)\n",
    "Rec_Dates=pd.DataFrame([Start_Dates,End_Dates]).transpose()\n",
    "Rec_Dates.columns=([\"Start\",\"End\"])"
   ]
  },
  {
   "cell_type": "code",
   "execution_count": 10,
   "metadata": {},
   "outputs": [
    {
     "data": {
      "text/html": [
       "<div>\n",
       "<style scoped>\n",
       "    .dataframe tbody tr th:only-of-type {\n",
       "        vertical-align: middle;\n",
       "    }\n",
       "\n",
       "    .dataframe tbody tr th {\n",
       "        vertical-align: top;\n",
       "    }\n",
       "\n",
       "    .dataframe thead th {\n",
       "        text-align: right;\n",
       "    }\n",
       "</style>\n",
       "<table border=\"1\" class=\"dataframe\">\n",
       "  <thead>\n",
       "    <tr style=\"text-align: right;\">\n",
       "      <th></th>\n",
       "      <th>Start</th>\n",
       "      <th>End</th>\n",
       "    </tr>\n",
       "  </thead>\n",
       "  <tbody>\n",
       "    <tr>\n",
       "      <td>0</td>\n",
       "      <td>1980-04-01</td>\n",
       "      <td>1980-09-30</td>\n",
       "    </tr>\n",
       "    <tr>\n",
       "      <td>1</td>\n",
       "      <td>1981-10-01</td>\n",
       "      <td>1982-12-31</td>\n",
       "    </tr>\n",
       "    <tr>\n",
       "      <td>2</td>\n",
       "      <td>1990-10-01</td>\n",
       "      <td>1991-03-31</td>\n",
       "    </tr>\n",
       "    <tr>\n",
       "      <td>3</td>\n",
       "      <td>2001-04-01</td>\n",
       "      <td>2001-12-31</td>\n",
       "    </tr>\n",
       "    <tr>\n",
       "      <td>4</td>\n",
       "      <td>2008-01-01</td>\n",
       "      <td>2009-06-30</td>\n",
       "    </tr>\n",
       "  </tbody>\n",
       "</table>\n",
       "</div>"
      ],
      "text/plain": [
       "       Start        End\n",
       "0 1980-04-01 1980-09-30\n",
       "1 1981-10-01 1982-12-31\n",
       "2 1990-10-01 1991-03-31\n",
       "3 2001-04-01 2001-12-31\n",
       "4 2008-01-01 2009-06-30"
      ]
     },
     "execution_count": 10,
     "metadata": {},
     "output_type": "execute_result"
    }
   ],
   "source": [
    "Rec_Dates"
   ]
  },
  {
   "cell_type": "code",
   "execution_count": 11,
   "metadata": {},
   "outputs": [
    {
     "data": {
      "image/png": "[encoded data removed]",
      "text/plain": [
       "<Figure size 432x288 with 1 Axes>"
      ]
     },
     "metadata": {
      "needs_background": "light"
     },
     "output_type": "display_data"
    },
    {
     "data": {
      "image/png": "[encoded data removed]",
      "text/plain": [
       "<Figure size 432x288 with 1 Axes>"
      ]
     },
     "metadata": {
      "needs_background": "light"
     },
     "output_type": "display_data"
    },
    {
     "data": {
      "image/png": "[encoded data removed]",
      "text/plain": [
       "<Figure size 432x288 with 1 Axes>"
      ]
     },
     "metadata": {
      "needs_background": "light"
     },
     "output_type": "display_data"
    },
    {
     "data": {
      "image/png": "[encoded data removed]",
      "text/plain": [
       "<Figure size 432x288 with 1 Axes>"
      ]
     },
     "metadata": {
      "needs_background": "light"
     },
     "output_type": "display_data"
    },
    {
     "data": {
      "image/png": "[encoded data removed]",
      "text/plain": [
       "<Figure size 432x288 with 1 Axes>"
      ]
     },
     "metadata": {
      "needs_background": "light"
     },
     "output_type": "display_data"
    },
    {
     "data": {
      "image/png": "[encoded data removed]",
      "text/plain": [
       "<Figure size 432x288 with 1 Axes>"
      ]
     },
     "metadata": {
      "needs_background": "light"
     },
     "output_type": "display_data"
    }
   ],
   "source": [
    "for j in Predictors_2.columns: \n",
    "    Predictors_2[j].plot()\n",
    "# Recession lines\n",
    "    for i in range(len(Rec_Dates)): \n",
    "        plt.axvspan(Rec_Dates.loc[i,\"Start\"],Rec_Dates.loc[i,\"End\"], color='lightgrey')\n",
    "    plt.axhline(y=0,color='k')\n",
    "    plt.ylabel(j)\n",
    "    plt.show()"
   ]
  },
  {
   "cell_type": "markdown",
   "metadata": {},
   "source": [
    "- We want to see whether the data from one quarter\n",
    "    - can predict the recession in the next quarter\n",
    "- We are interested in \n",
    "$$ Y_{t+1}=f(X_{t})+e_{t+1}$$\n",
    "- where t represents the quarters\n",
    "- We can do that either by lagging the predictors by one quarter"
   ]
  },
  {
   "cell_type": "code",
   "execution_count": 12,
   "metadata": {},
   "outputs": [
    {
     "data": {
      "text/plain": [
       "(               YIELD    UNRATE   C_INV       PERMIT   C_HOUSE  C_RETIAL\n",
       " DATE                                                                   \n",
       " 1977-04-01  1.332222  7.500000  34.343  1562.000000  0.103816  0.037939\n",
       " 1977-07-01  1.248254  7.133333  51.245  1693.333333  0.110466  0.032931\n",
       " 1977-10-01  0.814762  6.900000  89.947  1713.666667  0.117302  0.034861\n",
       " 1978-01-01  0.454833  6.666667  47.311  1761.000000  0.147334  0.038371\n",
       " 1978-04-01  0.466393  6.333333  56.354  1758.333333  0.146190  0.016099\n",
       " ...              ...       ...     ...          ...       ...       ...\n",
       " 2017-04-01  1.202258  4.566667 -18.876  1281.333333  0.055365  0.023672\n",
       " 2017-07-01  0.963333  4.366667   0.637  1263.333333  0.060459  0.022948\n",
       " 2017-10-01  0.878730  4.300000  56.087  1277.000000  0.058800  0.024696\n",
       " 2018-01-01  0.677097  4.133333  25.302  1316.666667  0.059259  0.037249\n",
       " 2018-04-01  0.598033  4.066667  47.267  1370.666667  0.065667  0.024168\n",
       " \n",
       " [165 rows x 6 columns], DATE\n",
       " 1977-04-01    0\n",
       " 1977-07-01    0\n",
       " 1977-10-01    0\n",
       " 1978-01-01    0\n",
       " 1978-04-01    0\n",
       "              ..\n",
       " 2017-04-01    0\n",
       " 2017-07-01    0\n",
       " 2017-10-01    0\n",
       " 2018-01-01    0\n",
       " 2018-04-01    0\n",
       " Name: USRECQ, Length: 165, dtype: int64)"
      ]
     },
     "execution_count": 12,
     "metadata": {},
     "output_type": "execute_result"
    }
   ],
   "source": [
    "X=Predictors_2.shift(1).dropna()\n",
    "y=Recession[\"USRECQ\"]\n",
    "y=y[y.index>\"1977-01-01\"]\n",
    "X,y"
   ]
  },
  {
   "cell_type": "markdown",
   "metadata": {},
   "source": [
    "- What is the unconditional probability of recession?"
   ]
  },
  {
   "cell_type": "code",
   "execution_count": 13,
   "metadata": {},
   "outputs": [
    {
     "data": {
      "text/plain": [
       "0.10909090909090909"
      ]
     },
     "execution_count": 13,
     "metadata": {},
     "output_type": "execute_result"
    }
   ],
   "source": [
    "np.mean(y)"
   ]
  },
  {
   "cell_type": "code",
   "execution_count": 14,
   "metadata": {},
   "outputs": [],
   "source": [
    "# Split the data into testing and training datasets \n",
    "from sklearn.model_selection import train_test_split\n",
    "# Splitting 25% as test and 75% as training\n",
    "X_train, X_test, y_train, y_test = train_test_split(X,y,test_size=0.20)"
   ]
  },
  {
   "cell_type": "code",
   "execution_count": 15,
   "metadata": {
    "scrolled": true
   },
   "outputs": [
    {
     "data": {
      "text/plain": [
       "array([ 0.09,  0.42, -0.06,  0.2 ,  0.06,  0.51, -0.02,  0.13, -0.03,\n",
       "       -0.  , -0.06,  0.01, -0.03,  0.52,  0.08,  0.1 ,  0.39,  0.27,\n",
       "        0.57, -0.04, -0.07,  0.23, -0.09,  0.05,  0.15,  0.02,  0.08,\n",
       "       -0.09,  0.07,  0.09,  0.13,  0.09, -0.04,  0.02,  0.14, -0.14,\n",
       "       -0.07,  0.16,  0.18, -0.06,  0.06,  0.05,  0.14, -0.18, -0.11,\n",
       "        0.12,  0.  ,  0.39,  0.08,  0.26, -0.11,  0.1 ,  0.1 ,  0.14,\n",
       "        0.15, -0.04,  0.07, -0.11,  0.03, -0.12,  0.15,  0.25,  0.5 ,\n",
       "        0.1 , -0.13, -0.1 , -0.08, -0.07, -0.01,  0.63,  0.47, -0.11,\n",
       "       -0.1 ,  0.03,  0.48, -0.14, -0.05, -0.1 ,  0.04, -0.08, -0.01,\n",
       "        0.54,  0.03,  0.04,  0.19,  0.24, -0.05, -0.08,  0.04, -0.17,\n",
       "       -0.03,  0.57, -0.01,  0.07,  0.1 ,  0.18,  0.11, -0.  ,  0.03,\n",
       "       -0.04,  0.09, -0.06,  0.34,  0.17, -0.08, -0.07, -0.04,  0.04,\n",
       "        0.07,  0.03, -0.12,  0.02,  0.41,  0.03, -0.09,  0.04,  0.4 ,\n",
       "       -0.01,  0.26,  0.44,  0.11,  0.09,  0.04,  0.03,  0.  ,  0.  ,\n",
       "        0.07,  0.16,  0.02,  0.02, -0.08,  0.21])"
      ]
     },
     "execution_count": 15,
     "metadata": {},
     "output_type": "execute_result"
    }
   ],
   "source": [
    "# Let us try linear regression\n",
    "from sklearn.linear_model import LinearRegression\n",
    "\n",
    "model=LinearRegression()\n",
    "\n",
    "# Fit the model\n",
    "model.fit(X_train,y_train)\n",
    "\n",
    "# Model Prediction\n",
    "pred=model.predict(X_train).round(2)\n",
    "pred"
   ]
  },
  {
   "cell_type": "markdown",
   "metadata": {},
   "source": [
    "- In the data recession was coded as 1 and expansion as 0\n",
    "- How do we interpret these predictions above?\n",
    "- A simple way is to consider all values above 0.5 as recessions"
   ]
  },
  {
   "cell_type": "code",
   "execution_count": 16,
   "metadata": {},
   "outputs": [
    {
     "data": {
      "text/plain": [
       "array([0, 0, 0, 0, 0, 1, 0, 0, 0, 0, 0, 0, 0, 1, 0, 0, 0, 0, 1, 0, 0, 0,\n",
       "       0, 0, 0, 0, 0, 0, 0, 0, 0, 0, 0, 0, 0, 0, 0, 0, 0, 0, 0, 0, 0, 0,\n",
       "       0, 0, 0, 0, 0, 0, 0, 0, 0, 0, 0, 0, 0, 0, 0, 0, 0, 0, 0, 0, 0, 0,\n",
       "       0, 0, 0, 1, 0, 0, 0, 0, 0, 0, 0, 0, 0, 0, 0, 1, 0, 0, 0, 0, 0, 0,\n",
       "       0, 0, 0, 1, 0, 0, 0, 0, 0, 0, 0, 0, 0, 0, 0, 0, 0, 0, 0, 0, 0, 0,\n",
       "       0, 0, 0, 0, 0, 0, 0, 0, 0, 0, 0, 0, 0, 0, 0, 0, 0, 0, 0, 0, 0, 0])"
      ]
     },
     "execution_count": 16,
     "metadata": {},
     "output_type": "execute_result"
    }
   ],
   "source": [
    "pred_1=np.array([int(i>0.5) for i in pred])\n",
    "pred_1"
   ]
  },
  {
   "cell_type": "code",
   "execution_count": 17,
   "metadata": {},
   "outputs": [
    {
     "data": {
      "text/plain": [
       "0.946969696969697"
      ]
     },
     "execution_count": 17,
     "metadata": {},
     "output_type": "execute_result"
    }
   ],
   "source": [
    "# How many of the classifications were correct \n",
    "np.mean(pred_1==y_train)"
   ]
  },
  {
   "cell_type": "code",
   "execution_count": 18,
   "metadata": {},
   "outputs": [
    {
     "data": {
      "text/plain": [
       "0.8181818181818182"
      ]
     },
     "execution_count": 18,
     "metadata": {},
     "output_type": "execute_result"
    }
   ],
   "source": [
    "# Let us check the performance in testing data\n",
    "pred=model.predict(X_test)\n",
    "pred_1=np.array([int(i>0.5) for i in pred])\n",
    "np.mean(pred_1==y_test)"
   ]
  },
  {
   "cell_type": "code",
   "execution_count": 19,
   "metadata": {},
   "outputs": [
    {
     "name": "stderr",
     "output_type": "stream",
     "text": [
      "C:\\Users\\badrinath\\AppData\\Local\\Continuum\\anaconda3\\lib\\site-packages\\sklearn\\linear_model\\logistic.py:432: FutureWarning: Default solver will be changed to 'lbfgs' in 0.22. Specify a solver to silence this warning.\n",
      "  FutureWarning)\n"
     ]
    },
    {
     "data": {
      "text/plain": [
       "array([0, 0, 0, 0, 0, 0, 0, 0, 0, 0, 0, 0, 0, 1, 0, 0, 0, 0, 1, 0, 0, 0,\n",
       "       0, 0, 0, 0, 0, 0, 0, 0, 0, 0, 0, 0, 0, 0, 0, 0, 0, 0, 0, 0, 0, 0,\n",
       "       0, 0, 0, 0, 0, 0, 0, 0, 0, 0, 0, 0, 0, 0, 0, 0, 0, 0, 0, 0, 0, 0,\n",
       "       0, 0, 0, 1, 1, 0, 0, 0, 1, 0, 0, 0, 0, 0, 0, 1, 0, 0, 0, 0, 0, 0,\n",
       "       0, 0, 0, 0, 0, 0, 0, 0, 0, 0, 0, 0, 0, 0, 0, 0, 0, 0, 0, 0, 0, 0,\n",
       "       0, 0, 0, 0, 0, 0, 0, 0, 1, 1, 0, 0, 0, 0, 0, 0, 0, 0, 0, 0, 0, 0],\n",
       "      dtype=int64)"
      ]
     },
     "execution_count": 19,
     "metadata": {},
     "output_type": "execute_result"
    }
   ],
   "source": [
    "# Logsistic regression\n",
    "from sklearn.linear_model import LogisticRegression\n",
    "\n",
    "model=LogisticRegression()\n",
    "\n",
    "# Fit the model\n",
    "model.fit(X_train,y_train)\n",
    "\n",
    "# Model Prediction\n",
    "model.predict(X_train)"
   ]
  },
  {
   "cell_type": "code",
   "execution_count": 20,
   "metadata": {},
   "outputs": [
    {
     "data": {
      "text/plain": [
       "0.946969696969697"
      ]
     },
     "execution_count": 20,
     "metadata": {},
     "output_type": "execute_result"
    }
   ],
   "source": [
    "# Training dataset Performance\n",
    "model.score(X_train,y_train)"
   ]
  },
  {
   "cell_type": "code",
   "execution_count": 21,
   "metadata": {},
   "outputs": [
    {
     "data": {
      "text/plain": [
       "0.7878787878787878"
      ]
     },
     "execution_count": 21,
     "metadata": {},
     "output_type": "execute_result"
    }
   ],
   "source": [
    "# Testing dataset Performance\n",
    "model.score(X_test,y_test)"
   ]
  },
  {
   "cell_type": "code",
   "execution_count": 22,
   "metadata": {},
   "outputs": [
    {
     "data": {
      "text/plain": [
       "Text(0, 0.5, 'C_RETIAL')"
      ]
     },
     "execution_count": 22,
     "metadata": {},
     "output_type": "execute_result"
    },
    {
     "data": {
      "image/png": "[encoded data removed]",
      "text/plain": [
       "<Figure size 432x288 with 1 Axes>"
      ]
     },
     "metadata": {
      "needs_background": "light"
     },
     "output_type": "display_data"
    }
   ],
   "source": [
    "c=np.array([\"k\"]*len(y))\n",
    "for i in range(len(y)):\n",
    "    if y[i]==1:\n",
    "        c[i]=\"r\"\n",
    "    else:\n",
    "        c[i]=\"b\"\n",
    "plt.scatter(X[\"YIELD\"],X[\"C_RETIAL\"],color=c)\n",
    "plt.xlabel(\"YIELD\")\n",
    "plt.ylabel(\"C_RETIAL\")"
   ]
  },
  {
   "cell_type": "markdown",
   "metadata": {},
   "source": [
    "# k Nearest Neighbors"
   ]
  },
  {
   "cell_type": "code",
   "execution_count": 24,
   "metadata": {},
   "outputs": [
    {
     "data": {
      "text/plain": [
       "array([0, 0, 0, 0, 0, 1, 0, 0, 0, 0, 0, 0, 0, 1, 0, 0, 1, 0, 0, 0, 0, 1,\n",
       "       0, 0, 0, 0, 0, 0, 0, 0, 0, 0, 0, 0, 0, 0, 0, 0, 0, 0, 0, 0, 0, 0,\n",
       "       0, 0, 0, 0, 0, 0, 0, 0, 0, 0, 0, 0, 0, 0, 0, 0, 0, 1, 0, 0, 0, 0,\n",
       "       0, 0, 0, 1, 1, 0, 0, 0, 1, 0, 0, 0, 0, 0, 0, 1, 0, 0, 0, 0, 0, 0,\n",
       "       0, 0, 0, 1, 0, 0, 0, 0, 0, 0, 0, 0, 0, 0, 0, 0, 0, 0, 0, 0, 0, 0,\n",
       "       0, 0, 0, 0, 0, 0, 0, 0, 0, 1, 0, 0, 0, 0, 0, 0, 0, 0, 0, 0, 0, 0],\n",
       "      dtype=int64)"
      ]
     },
     "execution_count": 24,
     "metadata": {},
     "output_type": "execute_result"
    }
   ],
   "source": [
    "#import k Nearest Neighbors\n",
    "from sklearn.neighbors import KNeighborsClassifier\n",
    "\n",
    "#Set the number of neighbors\n",
    "model=KNeighborsClassifier(n_neighbors=1)\n",
    "\n",
    "# fit the model\n",
    "model.fit(X_train,y_train)\n",
    "\n",
    "#Predictions\n",
    "model.predict(X_train)"
   ]
  },
  {
   "cell_type": "code",
   "execution_count": 25,
   "metadata": {},
   "outputs": [
    {
     "data": {
      "text/plain": [
       "1.0"
      ]
     },
     "execution_count": 25,
     "metadata": {},
     "output_type": "execute_result"
    }
   ],
   "source": [
    "# Training Performance\n",
    "model.score(X_train,y_train)"
   ]
  },
  {
   "cell_type": "code",
   "execution_count": 26,
   "metadata": {},
   "outputs": [
    {
     "data": {
      "text/plain": [
       "0.8181818181818182"
      ]
     },
     "execution_count": 26,
     "metadata": {},
     "output_type": "execute_result"
    }
   ],
   "source": [
    "# Testing performance\n",
    "model.score(X_test,y_test)"
   ]
  },
  {
   "cell_type": "markdown",
   "metadata": {},
   "source": [
    "# Support Vector Machines (SVM)"
   ]
  },
  {
   "cell_type": "code",
   "execution_count": 27,
   "metadata": {},
   "outputs": [
    {
     "data": {
      "text/plain": [
       "array([0, 0, 0, 0, 0, 1, 0, 0, 0, 0, 0, 0, 0, 1, 0, 0, 1, 0, 1, 0, 0, 0,\n",
       "       0, 0, 0, 0, 0, 0, 0, 0, 0, 0, 0, 0, 0, 0, 0, 0, 0, 0, 0, 0, 0, 0,\n",
       "       0, 0, 0, 0, 0, 0, 0, 0, 0, 0, 0, 0, 0, 0, 0, 0, 0, 0, 1, 0, 0, 0,\n",
       "       0, 0, 0, 1, 1, 0, 0, 0, 1, 0, 0, 0, 0, 0, 0, 1, 0, 0, 0, 0, 0, 0,\n",
       "       0, 0, 0, 1, 0, 0, 0, 0, 0, 0, 0, 0, 0, 0, 0, 0, 0, 0, 0, 0, 0, 0,\n",
       "       0, 0, 1, 0, 0, 0, 0, 0, 0, 1, 0, 0, 0, 0, 0, 0, 0, 0, 0, 0, 0, 0],\n",
       "      dtype=int64)"
      ]
     },
     "execution_count": 27,
     "metadata": {},
     "output_type": "execute_result"
    }
   ],
   "source": [
    "#SVM\n",
    "from sklearn.svm import LinearSVC\n",
    "from sklearn.pipeline import Pipeline\n",
    "from sklearn.preprocessing import StandardScaler\n",
    "\n",
    "#Set the number of neighbors\n",
    "model=Pipeline((\n",
    "    (\"scaler\",StandardScaler()),\n",
    "    (\"linear_svc\",LinearSVC(C=1,loss=\"hinge\")),\n",
    "))\n",
    "\n",
    "# fit the model\n",
    "model.fit(X_train,y_train)\n",
    "\n",
    "#Predictions\n",
    "model.predict(X_train)"
   ]
  },
  {
   "cell_type": "code",
   "execution_count": 28,
   "metadata": {},
   "outputs": [
    {
     "data": {
      "text/plain": [
       "0.9621212121212122"
      ]
     },
     "execution_count": 28,
     "metadata": {},
     "output_type": "execute_result"
    }
   ],
   "source": [
    "# Training data performance\n",
    "model.score(X_train,y_train)"
   ]
  },
  {
   "cell_type": "code",
   "execution_count": 29,
   "metadata": {},
   "outputs": [
    {
     "data": {
      "text/plain": [
       "0.8181818181818182"
      ]
     },
     "execution_count": 29,
     "metadata": {},
     "output_type": "execute_result"
    }
   ],
   "source": [
    "# Testing data performance\n",
    "model.score(X_test,y_test)"
   ]
  },
  {
   "cell_type": "markdown",
   "metadata": {},
   "source": [
    "# Task\n",
    "\n",
    "Tryout different kNearest Neighbors (by changing no of neighbors) and SVM (by changing C)\n",
    "1. Does the training score improve?\n",
    "2. Does the testing score improve?"
   ]
  }
 ],
 "metadata": {
  "kernelspec": {
   "display_name": "Python 3",
   "language": "python",
   "name": "python3"
  },
  "language_info": {
   "codemirror_mode": {
    "name": "ipython",
    "version": 3
   },
   "file_extension": ".py",
   "mimetype": "text/x-python",
   "name": "python",
   "nbconvert_exporter": "python",
   "pygments_lexer": "ipython3",
   "version": "3.6.9"
  }
 },
 "nbformat": 4,
 "nbformat_minor": 2
}
