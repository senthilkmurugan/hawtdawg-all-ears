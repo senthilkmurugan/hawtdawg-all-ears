{
 "cells": [
  {
   "cell_type": "code",
   "execution_count": 7,
   "metadata": {},
   "outputs": [],
   "source": [
    "import pandas as pd\n",
    "import numpy as np\n",
    "import matplotlib.pyplot as plt\n",
    "import csv\n",
    "import json\n",
    "import networkx as nx\n"
   ]
  },
  {
   "attachments": {},
   "cell_type": "markdown",
   "metadata": {},
   "source": [
    "--------------------------------------------- Utilities ---------------------------------------"
   ]
  },
  {
   "cell_type": "code",
   "execution_count": 3,
   "metadata": {},
   "outputs": [],
   "source": [
    "def xlsx_to_csv(filepath):\n",
    "    xlsx_file = filepath\n",
    "    csv_file = 'data.csv'\n",
    "    data = pd.read_excel(xlsx_file, engine='openpyxl')\n",
    "    data.to_csv(csv_file, index=False)\n",
    "    return data"
   ]
  },
  {
   "cell_type": "code",
   "execution_count": 4,
   "metadata": {},
   "outputs": [],
   "source": [
    "def extractSheet(filePath, sheetName):\n",
    "    xlsx_file = pd.ExcelFile(filePath,engine='openpyxl')\n",
    "    df = xlsx_file.parse(sheetName)\n",
    "    return df"
   ]
  },
  {
   "cell_type": "code",
   "execution_count": 5,
   "metadata": {},
   "outputs": [],
   "source": [
    "def get_json_nodes(df, colms, base_column):\n",
    "    df = df[colms]\n",
    "    df = df.rename(columns = {base_column:'id'})\n",
    "    jData = json.loads(df.to_json(orient='records'))\n",
    "    return jData"
   ]
  },
  {
   "attachments": {},
   "cell_type": "markdown",
   "metadata": {},
   "source": [
    "----------------------------------------------------------------"
   ]
  },
  {
   "attachments": {},
   "cell_type": "markdown",
   "metadata": {},
   "source": [
    "##### ------------------------------------------------ Adding Patients to the network ------------------------------------------------"
   ]
  },
  {
   "cell_type": "code",
   "execution_count": 10,
   "metadata": {},
   "outputs": [],
   "source": [
    "#filepath = '/home/dataiku/workspace/code_studio-versioned/Market_Simulation/data/mkt_network_setup_2.xlsx'\n",
    "filepath = '\\\\\\\\wpushh01\\dinfopln\\DSRD\\SIM\\V116\\Exercises\\Exercise2\\graph_trials\\mkt_network_setup_2B.xlsx'"
   ]
  },
  {
   "cell_type": "code",
   "execution_count": 11,
   "metadata": {},
   "outputs": [],
   "source": [
    "df_consumers = extractSheet(filepath, '0.Consumers')"
   ]
  },
  {
   "cell_type": "code",
   "execution_count": 12,
   "metadata": {},
   "outputs": [
    {
     "data": {
      "text/html": [
       "<div>\n",
       "<style scoped>\n",
       "    .dataframe tbody tr th:only-of-type {\n",
       "        vertical-align: middle;\n",
       "    }\n",
       "\n",
       "    .dataframe tbody tr th {\n",
       "        vertical-align: top;\n",
       "    }\n",
       "\n",
       "    .dataframe thead th {\n",
       "        text-align: right;\n",
       "    }\n",
       "</style>\n",
       "<table border=\"1\" class=\"dataframe\">\n",
       "  <thead>\n",
       "    <tr style=\"text-align: right;\">\n",
       "      <th></th>\n",
       "      <th>integer_node_id</th>\n",
       "      <th>Consumer_ID</th>\n",
       "      <th>agent_type</th>\n",
       "      <th>age</th>\n",
       "      <th>gender</th>\n",
       "      <th>recd_vac</th>\n",
       "      <th>Unnamed: 6</th>\n",
       "      <th>str_id_type</th>\n",
       "      <th>str_age</th>\n",
       "      <th>str_gender</th>\n",
       "      <th>str_recd_vac</th>\n",
       "      <th>concatenated string</th>\n",
       "    </tr>\n",
       "  </thead>\n",
       "  <tbody>\n",
       "    <tr>\n",
       "      <th>0</th>\n",
       "      <td>1</td>\n",
       "      <td>C1</td>\n",
       "      <td>0</td>\n",
       "      <td>90</td>\n",
       "      <td>M</td>\n",
       "      <td>1</td>\n",
       "      <td>NaN</td>\n",
       "      <td>\"nid\": 1, \"atype\": 0, \"aid\": \"C1\"</td>\n",
       "      <td>\"age\": 90</td>\n",
       "      <td>\"gender\": \"M\"</td>\n",
       "      <td>\"recd_vac\": 1</td>\n",
       "      <td>{\"nid\": 1, \"atype\": 0, \"aid\": \"C1\", \"age\"...</td>\n",
       "    </tr>\n",
       "    <tr>\n",
       "      <th>1</th>\n",
       "      <td>2</td>\n",
       "      <td>C2</td>\n",
       "      <td>0</td>\n",
       "      <td>76</td>\n",
       "      <td>F</td>\n",
       "      <td>0</td>\n",
       "      <td>NaN</td>\n",
       "      <td>\"nid\": 2, \"atype\": 0, \"aid\": \"C2\"</td>\n",
       "      <td>\"age\": 76</td>\n",
       "      <td>\"gender\": \"F\"</td>\n",
       "      <td>\"recd_vac\": 0</td>\n",
       "      <td>{\"nid\": 2, \"atype\": 0, \"aid\": \"C2\", \"age\"...</td>\n",
       "    </tr>\n",
       "    <tr>\n",
       "      <th>2</th>\n",
       "      <td>3</td>\n",
       "      <td>C3</td>\n",
       "      <td>0</td>\n",
       "      <td>52</td>\n",
       "      <td>F</td>\n",
       "      <td>0</td>\n",
       "      <td>NaN</td>\n",
       "      <td>\"nid\": 3, \"atype\": 0, \"aid\": \"C3\"</td>\n",
       "      <td>\"age\": 52</td>\n",
       "      <td>\"gender\": \"F\"</td>\n",
       "      <td>\"recd_vac\": 0</td>\n",
       "      <td>{\"nid\": 3, \"atype\": 0, \"aid\": \"C3\", \"age\"...</td>\n",
       "    </tr>\n",
       "    <tr>\n",
       "      <th>3</th>\n",
       "      <td>4</td>\n",
       "      <td>C4</td>\n",
       "      <td>0</td>\n",
       "      <td>52</td>\n",
       "      <td>F</td>\n",
       "      <td>0</td>\n",
       "      <td>NaN</td>\n",
       "      <td>\"nid\": 4, \"atype\": 0, \"aid\": \"C4\"</td>\n",
       "      <td>\"age\": 52</td>\n",
       "      <td>\"gender\": \"F\"</td>\n",
       "      <td>\"recd_vac\": 0</td>\n",
       "      <td>{\"nid\": 4, \"atype\": 0, \"aid\": \"C4\", \"age\"...</td>\n",
       "    </tr>\n",
       "    <tr>\n",
       "      <th>4</th>\n",
       "      <td>5</td>\n",
       "      <td>C5</td>\n",
       "      <td>0</td>\n",
       "      <td>80</td>\n",
       "      <td>M</td>\n",
       "      <td>0</td>\n",
       "      <td>NaN</td>\n",
       "      <td>\"nid\": 5, \"atype\": 0, \"aid\": \"C5\"</td>\n",
       "      <td>\"age\": 80</td>\n",
       "      <td>\"gender\": \"M\"</td>\n",
       "      <td>\"recd_vac\": 0</td>\n",
       "      <td>{\"nid\": 5, \"atype\": 0, \"aid\": \"C5\", \"age\"...</td>\n",
       "    </tr>\n",
       "  </tbody>\n",
       "</table>\n",
       "</div>"
      ],
      "text/plain": [
       "   integer_node_id Consumer_ID  agent_type  age gender  recd_vac  Unnamed: 6  \\\n",
       "0                1          C1           0   90      M         1         NaN   \n",
       "1                2          C2           0   76      F         0         NaN   \n",
       "2                3          C3           0   52      F         0         NaN   \n",
       "3                4          C4           0   52      F         0         NaN   \n",
       "4                5          C5           0   80      M         0         NaN   \n",
       "\n",
       "                         str_id_type    str_age     str_gender   str_recd_vac  \\\n",
       "0  \"nid\": 1, \"atype\": 0, \"aid\": \"C1\"  \"age\": 90  \"gender\": \"M\"  \"recd_vac\": 1   \n",
       "1  \"nid\": 2, \"atype\": 0, \"aid\": \"C2\"  \"age\": 76  \"gender\": \"F\"  \"recd_vac\": 0   \n",
       "2  \"nid\": 3, \"atype\": 0, \"aid\": \"C3\"  \"age\": 52  \"gender\": \"F\"  \"recd_vac\": 0   \n",
       "3  \"nid\": 4, \"atype\": 0, \"aid\": \"C4\"  \"age\": 52  \"gender\": \"F\"  \"recd_vac\": 0   \n",
       "4  \"nid\": 5, \"atype\": 0, \"aid\": \"C5\"  \"age\": 80  \"gender\": \"M\"  \"recd_vac\": 0   \n",
       "\n",
       "                                 concatenated string  \n",
       "0       {\"nid\": 1, \"atype\": 0, \"aid\": \"C1\", \"age\"...  \n",
       "1       {\"nid\": 2, \"atype\": 0, \"aid\": \"C2\", \"age\"...  \n",
       "2       {\"nid\": 3, \"atype\": 0, \"aid\": \"C3\", \"age\"...  \n",
       "3       {\"nid\": 4, \"atype\": 0, \"aid\": \"C4\", \"age\"...  \n",
       "4       {\"nid\": 5, \"atype\": 0, \"aid\": \"C5\", \"age\"...  "
      ]
     },
     "execution_count": 12,
     "metadata": {},
     "output_type": "execute_result"
    }
   ],
   "source": [
    "df_consumers.head()"
   ]
  },
  {
   "cell_type": "code",
   "execution_count": 13,
   "metadata": {},
   "outputs": [],
   "source": [
    "df_consumers = df_consumers.rename(columns={'Consumer_ID':'agent_id'})"
   ]
  },
  {
   "cell_type": "code",
   "execution_count": 14,
   "metadata": {},
   "outputs": [],
   "source": [
    "jData = get_json_nodes(df_consumers, ['integer_node_id','agent_id','agent_type','age','gender','recd_vac'],'integer_node_id')"
   ]
  },
  {
   "cell_type": "code",
   "execution_count": 15,
   "metadata": {},
   "outputs": [
    {
     "name": "stdout",
     "output_type": "stream",
     "text": [
      "[{'id': 1, 'agent_id': 'C1', 'agent_type': 0, 'age': 90, 'gender': 'M', 'recd_vac': 1}, {'id': 2, 'agent_id': 'C2', 'agent_type': 0, 'age': 76, 'gender': 'F', 'recd_vac': 0}, {'id': 3, 'agent_id': 'C3', 'agent_type': 0, 'age': 52, 'gender': 'F', 'recd_vac': 0}, {'id': 4, 'agent_id': 'C4', 'agent_type': 0, 'age': 52, 'gender': 'F', 'recd_vac': 0}, {'id': 5, 'agent_id': 'C5', 'agent_type': 0, 'age': 80, 'gender': 'M', 'recd_vac': 0}, {'id': 6, 'agent_id': 'C6', 'agent_type': 0, 'age': 90, 'gender': 'M', 'recd_vac': 0}, {'id': 7, 'agent_id': 'C7', 'agent_type': 0, 'age': 88, 'gender': 'F', 'recd_vac': 1}, {'id': 8, 'agent_id': 'C8', 'agent_type': 0, 'age': 51, 'gender': 'M', 'recd_vac': 0}, {'id': 9, 'agent_id': 'C9', 'agent_type': 0, 'age': 78, 'gender': 'M', 'recd_vac': 0}, {'id': 10, 'agent_id': 'C10', 'agent_type': 0, 'age': 73, 'gender': 'F', 'recd_vac': 0}, {'id': 11, 'agent_id': 'C11', 'agent_type': 0, 'age': 57, 'gender': 'M', 'recd_vac': 0}, {'id': 12, 'agent_id': 'C12', 'agent_type': 0, 'age': 72, 'gender': 'F', 'recd_vac': 1}, {'id': 13, 'agent_id': 'C13', 'agent_type': 0, 'age': 75, 'gender': 'F', 'recd_vac': 1}, {'id': 14, 'agent_id': 'C14', 'agent_type': 0, 'age': 50, 'gender': 'F', 'recd_vac': 0}, {'id': 15, 'agent_id': 'C15', 'agent_type': 0, 'age': 69, 'gender': 'M', 'recd_vac': 0}, {'id': 16, 'agent_id': 'C16', 'agent_type': 0, 'age': 87, 'gender': 'M', 'recd_vac': 0}, {'id': 17, 'agent_id': 'C17', 'agent_type': 0, 'age': 85, 'gender': 'F', 'recd_vac': 0}, {'id': 18, 'agent_id': 'C18', 'agent_type': 0, 'age': 72, 'gender': 'F', 'recd_vac': 0}, {'id': 19, 'agent_id': 'C19', 'agent_type': 0, 'age': 83, 'gender': 'M', 'recd_vac': 0}, {'id': 20, 'agent_id': 'C20', 'agent_type': 0, 'age': 72, 'gender': 'F', 'recd_vac': 1}]\n"
     ]
    }
   ],
   "source": [
    "print(jData)"
   ]
  },
  {
   "cell_type": "code",
   "execution_count": 16,
   "metadata": {},
   "outputs": [],
   "source": [
    "G = nx.Graph()"
   ]
  },
  {
   "cell_type": "code",
   "execution_count": 17,
   "metadata": {},
   "outputs": [],
   "source": [
    "data1 = nx.node_link_data(G)"
   ]
  },
  {
   "cell_type": "code",
   "execution_count": 18,
   "metadata": {},
   "outputs": [
    {
     "data": {
      "text/plain": [
       "{'directed': False, 'multigraph': False, 'graph': {}, 'nodes': [], 'links': []}"
      ]
     },
     "execution_count": 18,
     "metadata": {},
     "output_type": "execute_result"
    }
   ],
   "source": [
    "data1"
   ]
  },
  {
   "cell_type": "code",
   "execution_count": 19,
   "metadata": {},
   "outputs": [],
   "source": [
    "data1['nodes'] = jData"
   ]
  },
  {
   "cell_type": "code",
   "execution_count": 20,
   "metadata": {},
   "outputs": [],
   "source": [
    "data1['links'] = []"
   ]
  },
  {
   "cell_type": "code",
   "execution_count": 21,
   "metadata": {},
   "outputs": [],
   "source": [
    "H = nx.node_link_graph(data1)"
   ]
  },
  {
   "cell_type": "code",
   "execution_count": 22,
   "metadata": {},
   "outputs": [
    {
     "data": {
      "text/plain": [
       "NodeView((1, 2, 3, 4, 5, 6, 7, 8, 9, 10, 11, 12, 13, 14, 15, 16, 17, 18, 19, 20))"
      ]
     },
     "execution_count": 22,
     "metadata": {},
     "output_type": "execute_result"
    }
   ],
   "source": [
    "H.nodes"
   ]
  },
  {
   "cell_type": "code",
   "execution_count": 23,
   "metadata": {},
   "outputs": [
    {
     "data": {
      "text/plain": [
       "<networkx.classes.graph.Graph at 0x1969e370280>"
      ]
     },
     "execution_count": 23,
     "metadata": {},
     "output_type": "execute_result"
    }
   ],
   "source": [
    "H"
   ]
  },
  {
   "cell_type": "code",
   "execution_count": 24,
   "metadata": {},
   "outputs": [
    {
     "name": "stdout",
     "output_type": "stream",
     "text": [
      "[1, 2, 3, 4, 5, 6, 7, 8, 9, 10, 11, 12, 13, 14, 15, 16, 17, 18, 19, 20]\n"
     ]
    }
   ],
   "source": [
    "print(H.nodes)"
   ]
  },
  {
   "cell_type": "code",
   "execution_count": 25,
   "metadata": {},
   "outputs": [
    {
     "data": {
      "text/plain": [
       "{'agent_id': 'C5', 'agent_type': 0, 'age': 80, 'gender': 'M', 'recd_vac': 0}"
      ]
     },
     "execution_count": 25,
     "metadata": {},
     "output_type": "execute_result"
    }
   ],
   "source": [
    "H.nodes[5]"
   ]
  },
  {
   "cell_type": "code",
   "execution_count": null,
   "metadata": {},
   "outputs": [],
   "source": []
  },
  {
   "attachments": {},
   "cell_type": "markdown",
   "metadata": {},
   "source": [
    "##### ------------------------------------------------ Adding HCPs to the network ------------------------------------------------"
   ]
  },
  {
   "cell_type": "code",
   "execution_count": 26,
   "metadata": {},
   "outputs": [],
   "source": [
    "df_hcp = extractSheet(filepath, '1.Doctors(HCP)')"
   ]
  },
  {
   "cell_type": "code",
   "execution_count": 28,
   "metadata": {},
   "outputs": [
    {
     "data": {
      "text/html": [
       "<div>\n",
       "<style scoped>\n",
       "    .dataframe tbody tr th:only-of-type {\n",
       "        vertical-align: middle;\n",
       "    }\n",
       "\n",
       "    .dataframe tbody tr th {\n",
       "        vertical-align: top;\n",
       "    }\n",
       "\n",
       "    .dataframe thead th {\n",
       "        text-align: right;\n",
       "    }\n",
       "</style>\n",
       "<table border=\"1\" class=\"dataframe\">\n",
       "  <thead>\n",
       "    <tr style=\"text-align: right;\">\n",
       "      <th></th>\n",
       "      <th>integer_node_id</th>\n",
       "      <th>Physician_ID</th>\n",
       "      <th>agent_type</th>\n",
       "      <th>Specialty</th>\n",
       "      <th>Location</th>\n",
       "      <th>Unnamed: 5</th>\n",
       "      <th>str_id_type</th>\n",
       "      <th>str_specialty</th>\n",
       "      <th>str_location</th>\n",
       "      <th>concatenated string</th>\n",
       "    </tr>\n",
       "  </thead>\n",
       "  <tbody>\n",
       "    <tr>\n",
       "      <th>0</th>\n",
       "      <td>1000000001</td>\n",
       "      <td>D1</td>\n",
       "      <td>1</td>\n",
       "      <td>PCP</td>\n",
       "      <td>11</td>\n",
       "      <td>NaN</td>\n",
       "      <td>\"nid\": 1000000001, \"atype\": 1, \"aid\": \"D1\"</td>\n",
       "      <td>\"Specialty\": \"PCP\"</td>\n",
       "      <td>\"Location\": \"011\"</td>\n",
       "      <td>{\"nid\": 1000000001, \"atype\": 1, \"aid\": \"D...</td>\n",
       "    </tr>\n",
       "    <tr>\n",
       "      <th>1</th>\n",
       "      <td>1000000002</td>\n",
       "      <td>D2</td>\n",
       "      <td>1</td>\n",
       "      <td>SP</td>\n",
       "      <td>11</td>\n",
       "      <td>NaN</td>\n",
       "      <td>\"nid\": 1000000002, \"atype\": 1, \"aid\": \"D2\"</td>\n",
       "      <td>\"Specialty\": \"SP\"</td>\n",
       "      <td>\"Location\": \"011\"</td>\n",
       "      <td>{\"nid\": 1000000002, \"atype\": 1, \"aid\": \"D...</td>\n",
       "    </tr>\n",
       "    <tr>\n",
       "      <th>2</th>\n",
       "      <td>1000000003</td>\n",
       "      <td>D3</td>\n",
       "      <td>1</td>\n",
       "      <td>SP</td>\n",
       "      <td>11</td>\n",
       "      <td>NaN</td>\n",
       "      <td>\"nid\": 1000000003, \"atype\": 1, \"aid\": \"D3\"</td>\n",
       "      <td>\"Specialty\": \"SP\"</td>\n",
       "      <td>\"Location\": \"011\"</td>\n",
       "      <td>{\"nid\": 1000000003, \"atype\": 1, \"aid\": \"D...</td>\n",
       "    </tr>\n",
       "    <tr>\n",
       "      <th>3</th>\n",
       "      <td>1000000004</td>\n",
       "      <td>D4</td>\n",
       "      <td>1</td>\n",
       "      <td>PCP</td>\n",
       "      <td>213</td>\n",
       "      <td>NaN</td>\n",
       "      <td>\"nid\": 1000000004, \"atype\": 1, \"aid\": \"D4\"</td>\n",
       "      <td>\"Specialty\": \"PCP\"</td>\n",
       "      <td>\"Location\": \"213\"</td>\n",
       "      <td>{\"nid\": 1000000004, \"atype\": 1, \"aid\": \"D...</td>\n",
       "    </tr>\n",
       "    <tr>\n",
       "      <th>4</th>\n",
       "      <td>1000000005</td>\n",
       "      <td>D5</td>\n",
       "      <td>1</td>\n",
       "      <td>PCP</td>\n",
       "      <td>213</td>\n",
       "      <td>NaN</td>\n",
       "      <td>\"nid\": 1000000005, \"atype\": 1, \"aid\": \"D5\"</td>\n",
       "      <td>\"Specialty\": \"PCP\"</td>\n",
       "      <td>\"Location\": \"213\"</td>\n",
       "      <td>{\"nid\": 1000000005, \"atype\": 1, \"aid\": \"D...</td>\n",
       "    </tr>\n",
       "    <tr>\n",
       "      <th>5</th>\n",
       "      <td>1000000006</td>\n",
       "      <td>D6</td>\n",
       "      <td>1</td>\n",
       "      <td>PCP</td>\n",
       "      <td>213</td>\n",
       "      <td>NaN</td>\n",
       "      <td>\"nid\": 1000000006, \"atype\": 1, \"aid\": \"D6\"</td>\n",
       "      <td>\"Specialty\": \"PCP\"</td>\n",
       "      <td>\"Location\": \"213\"</td>\n",
       "      <td>{\"nid\": 1000000006, \"atype\": 1, \"aid\": \"D...</td>\n",
       "    </tr>\n",
       "    <tr>\n",
       "      <th>6</th>\n",
       "      <td>1000000007</td>\n",
       "      <td>D7</td>\n",
       "      <td>1</td>\n",
       "      <td>PCP</td>\n",
       "      <td>213</td>\n",
       "      <td>NaN</td>\n",
       "      <td>\"nid\": 1000000007, \"atype\": 1, \"aid\": \"D7\"</td>\n",
       "      <td>\"Specialty\": \"PCP\"</td>\n",
       "      <td>\"Location\": \"213\"</td>\n",
       "      <td>{\"nid\": 1000000007, \"atype\": 1, \"aid\": \"D...</td>\n",
       "    </tr>\n",
       "    <tr>\n",
       "      <th>7</th>\n",
       "      <td>1000000008</td>\n",
       "      <td>D8</td>\n",
       "      <td>1</td>\n",
       "      <td>SP</td>\n",
       "      <td>213</td>\n",
       "      <td>NaN</td>\n",
       "      <td>\"nid\": 1000000008, \"atype\": 1, \"aid\": \"D8\"</td>\n",
       "      <td>\"Specialty\": \"SP\"</td>\n",
       "      <td>\"Location\": \"213\"</td>\n",
       "      <td>{\"nid\": 1000000008, \"atype\": 1, \"aid\": \"D...</td>\n",
       "    </tr>\n",
       "  </tbody>\n",
       "</table>\n",
       "</div>"
      ],
      "text/plain": [
       "   integer_node_id Physician_ID  agent_type Specialty  Location  Unnamed: 5  \\\n",
       "0       1000000001           D1           1       PCP        11         NaN   \n",
       "1       1000000002           D2           1        SP        11         NaN   \n",
       "2       1000000003           D3           1        SP        11         NaN   \n",
       "3       1000000004           D4           1       PCP       213         NaN   \n",
       "4       1000000005           D5           1       PCP       213         NaN   \n",
       "5       1000000006           D6           1       PCP       213         NaN   \n",
       "6       1000000007           D7           1       PCP       213         NaN   \n",
       "7       1000000008           D8           1        SP       213         NaN   \n",
       "\n",
       "                                  str_id_type       str_specialty  \\\n",
       "0  \"nid\": 1000000001, \"atype\": 1, \"aid\": \"D1\"  \"Specialty\": \"PCP\"   \n",
       "1  \"nid\": 1000000002, \"atype\": 1, \"aid\": \"D2\"   \"Specialty\": \"SP\"   \n",
       "2  \"nid\": 1000000003, \"atype\": 1, \"aid\": \"D3\"   \"Specialty\": \"SP\"   \n",
       "3  \"nid\": 1000000004, \"atype\": 1, \"aid\": \"D4\"  \"Specialty\": \"PCP\"   \n",
       "4  \"nid\": 1000000005, \"atype\": 1, \"aid\": \"D5\"  \"Specialty\": \"PCP\"   \n",
       "5  \"nid\": 1000000006, \"atype\": 1, \"aid\": \"D6\"  \"Specialty\": \"PCP\"   \n",
       "6  \"nid\": 1000000007, \"atype\": 1, \"aid\": \"D7\"  \"Specialty\": \"PCP\"   \n",
       "7  \"nid\": 1000000008, \"atype\": 1, \"aid\": \"D8\"   \"Specialty\": \"SP\"   \n",
       "\n",
       "        str_location                                concatenated string  \n",
       "0  \"Location\": \"011\"       {\"nid\": 1000000001, \"atype\": 1, \"aid\": \"D...  \n",
       "1  \"Location\": \"011\"       {\"nid\": 1000000002, \"atype\": 1, \"aid\": \"D...  \n",
       "2  \"Location\": \"011\"       {\"nid\": 1000000003, \"atype\": 1, \"aid\": \"D...  \n",
       "3  \"Location\": \"213\"       {\"nid\": 1000000004, \"atype\": 1, \"aid\": \"D...  \n",
       "4  \"Location\": \"213\"       {\"nid\": 1000000005, \"atype\": 1, \"aid\": \"D...  \n",
       "5  \"Location\": \"213\"       {\"nid\": 1000000006, \"atype\": 1, \"aid\": \"D...  \n",
       "6  \"Location\": \"213\"       {\"nid\": 1000000007, \"atype\": 1, \"aid\": \"D...  \n",
       "7  \"Location\": \"213\"       {\"nid\": 1000000008, \"atype\": 1, \"aid\": \"D...  "
      ]
     },
     "execution_count": 28,
     "metadata": {},
     "output_type": "execute_result"
    }
   ],
   "source": [
    "df_hcp"
   ]
  },
  {
   "cell_type": "code",
   "execution_count": 29,
   "metadata": {},
   "outputs": [],
   "source": [
    "df_hcp = df_hcp.rename(columns={'Physician_ID':'agent_id'})"
   ]
  },
  {
   "cell_type": "code",
   "execution_count": 30,
   "metadata": {},
   "outputs": [],
   "source": [
    "hcp_nodes = get_json_nodes(df_hcp,['integer_node_id','agent_id','agent_type','Specialty','Location'],'integer_node_id')"
   ]
  },
  {
   "cell_type": "code",
   "execution_count": 31,
   "metadata": {},
   "outputs": [
    {
     "data": {
      "text/plain": [
       "NodeView((1, 2, 3, 4, 5, 6, 7, 8, 9, 10, 11, 12, 13, 14, 15, 16, 17, 18, 19, 20))"
      ]
     },
     "execution_count": 31,
     "metadata": {},
     "output_type": "execute_result"
    }
   ],
   "source": [
    "H.nodes"
   ]
  },
  {
   "cell_type": "code",
   "execution_count": 33,
   "metadata": {},
   "outputs": [
    {
     "data": {
      "text/plain": [
       "[{'id': 1000000001,\n",
       "  'agent_id': 'D1',\n",
       "  'agent_type': 1,\n",
       "  'Specialty': 'PCP',\n",
       "  'Location': 11},\n",
       " {'id': 1000000002,\n",
       "  'agent_id': 'D2',\n",
       "  'agent_type': 1,\n",
       "  'Specialty': 'SP',\n",
       "  'Location': 11},\n",
       " {'id': 1000000003,\n",
       "  'agent_id': 'D3',\n",
       "  'agent_type': 1,\n",
       "  'Specialty': 'SP',\n",
       "  'Location': 11},\n",
       " {'id': 1000000004,\n",
       "  'agent_id': 'D4',\n",
       "  'agent_type': 1,\n",
       "  'Specialty': 'PCP',\n",
       "  'Location': 213},\n",
       " {'id': 1000000005,\n",
       "  'agent_id': 'D5',\n",
       "  'agent_type': 1,\n",
       "  'Specialty': 'PCP',\n",
       "  'Location': 213},\n",
       " {'id': 1000000006,\n",
       "  'agent_id': 'D6',\n",
       "  'agent_type': 1,\n",
       "  'Specialty': 'PCP',\n",
       "  'Location': 213},\n",
       " {'id': 1000000007,\n",
       "  'agent_id': 'D7',\n",
       "  'agent_type': 1,\n",
       "  'Specialty': 'PCP',\n",
       "  'Location': 213},\n",
       " {'id': 1000000008,\n",
       "  'agent_id': 'D8',\n",
       "  'agent_type': 1,\n",
       "  'Specialty': 'SP',\n",
       "  'Location': 213}]"
      ]
     },
     "execution_count": 33,
     "metadata": {},
     "output_type": "execute_result"
    }
   ],
   "source": [
    "hcp_nodes"
   ]
  },
  {
   "cell_type": "code",
   "execution_count": 34,
   "metadata": {},
   "outputs": [],
   "source": [
    "H = nx.node_link_data(H)"
   ]
  },
  {
   "cell_type": "code",
   "execution_count": 35,
   "metadata": {},
   "outputs": [
    {
     "ename": "NameError",
     "evalue": "name 'some' is not defined",
     "output_type": "error",
     "traceback": [
      "\u001b[1;31m---------------------------------------------------------------------------\u001b[0m",
      "\u001b[1;31mNameError\u001b[0m                                 Traceback (most recent call last)",
      "Cell \u001b[1;32mIn[35], line 1\u001b[0m\n\u001b[1;32m----> 1\u001b[0m \u001b[43msome\u001b[49m\n",
      "\u001b[1;31mNameError\u001b[0m: name 'some' is not defined"
     ]
    }
   ],
   "source": [
    "some"
   ]
  },
  {
   "cell_type": "code",
   "execution_count": 264,
   "metadata": {},
   "outputs": [
    {
     "data": {
      "text/plain": [
       "[{'agent_id': 'C1',\n",
       "  'agent_type': 0,\n",
       "  'age': 90,\n",
       "  'gender': 'M',\n",
       "  'recd_vac': 1,\n",
       "  'id': 1},\n",
       " {'agent_id': 'C2',\n",
       "  'agent_type': 0,\n",
       "  'age': 76,\n",
       "  'gender': 'F',\n",
       "  'recd_vac': 0,\n",
       "  'id': 2},\n",
       " {'agent_id': 'C3',\n",
       "  'agent_type': 0,\n",
       "  'age': 52,\n",
       "  'gender': 'F',\n",
       "  'recd_vac': 0,\n",
       "  'id': 3},\n",
       " {'agent_id': 'C4',\n",
       "  'agent_type': 0,\n",
       "  'age': 52,\n",
       "  'gender': 'F',\n",
       "  'recd_vac': 0,\n",
       "  'id': 4},\n",
       " {'agent_id': 'C5',\n",
       "  'agent_type': 0,\n",
       "  'age': 80,\n",
       "  'gender': 'M',\n",
       "  'recd_vac': 0,\n",
       "  'id': 5},\n",
       " {'agent_id': 'C6',\n",
       "  'agent_type': 0,\n",
       "  'age': 90,\n",
       "  'gender': 'M',\n",
       "  'recd_vac': 0,\n",
       "  'id': 6},\n",
       " {'agent_id': 'C7',\n",
       "  'agent_type': 0,\n",
       "  'age': 88,\n",
       "  'gender': 'F',\n",
       "  'recd_vac': 1,\n",
       "  'id': 7},\n",
       " {'agent_id': 'C8',\n",
       "  'agent_type': 0,\n",
       "  'age': 51,\n",
       "  'gender': 'M',\n",
       "  'recd_vac': 0,\n",
       "  'id': 8},\n",
       " {'agent_id': 'C9',\n",
       "  'agent_type': 0,\n",
       "  'age': 78,\n",
       "  'gender': 'M',\n",
       "  'recd_vac': 0,\n",
       "  'id': 9},\n",
       " {'agent_id': 'C10',\n",
       "  'agent_type': 0,\n",
       "  'age': 73,\n",
       "  'gender': 'F',\n",
       "  'recd_vac': 0,\n",
       "  'id': 10},\n",
       " {'agent_id': 'C11',\n",
       "  'agent_type': 0,\n",
       "  'age': 57,\n",
       "  'gender': 'M',\n",
       "  'recd_vac': 0,\n",
       "  'id': 11},\n",
       " {'agent_id': 'C12',\n",
       "  'agent_type': 0,\n",
       "  'age': 72,\n",
       "  'gender': 'F',\n",
       "  'recd_vac': 1,\n",
       "  'id': 12},\n",
       " {'agent_id': 'C13',\n",
       "  'agent_type': 0,\n",
       "  'age': 75,\n",
       "  'gender': 'F',\n",
       "  'recd_vac': 1,\n",
       "  'id': 13},\n",
       " {'agent_id': 'C14',\n",
       "  'agent_type': 0,\n",
       "  'age': 50,\n",
       "  'gender': 'F',\n",
       "  'recd_vac': 0,\n",
       "  'id': 14},\n",
       " {'agent_id': 'C15',\n",
       "  'agent_type': 0,\n",
       "  'age': 69,\n",
       "  'gender': 'M',\n",
       "  'recd_vac': 0,\n",
       "  'id': 15},\n",
       " {'agent_id': 'C16',\n",
       "  'agent_type': 0,\n",
       "  'age': 87,\n",
       "  'gender': 'M',\n",
       "  'recd_vac': 0,\n",
       "  'id': 16},\n",
       " {'agent_id': 'C17',\n",
       "  'agent_type': 0,\n",
       "  'age': 85,\n",
       "  'gender': 'F',\n",
       "  'recd_vac': 0,\n",
       "  'id': 17},\n",
       " {'agent_id': 'C18',\n",
       "  'agent_type': 0,\n",
       "  'age': 72,\n",
       "  'gender': 'F',\n",
       "  'recd_vac': 0,\n",
       "  'id': 18},\n",
       " {'agent_id': 'C19',\n",
       "  'agent_type': 0,\n",
       "  'age': 83,\n",
       "  'gender': 'M',\n",
       "  'recd_vac': 0,\n",
       "  'id': 19},\n",
       " {'agent_id': 'C20',\n",
       "  'agent_type': 0,\n",
       "  'age': 72,\n",
       "  'gender': 'F',\n",
       "  'recd_vac': 1,\n",
       "  'id': 20}]"
      ]
     },
     "execution_count": 264,
     "metadata": {},
     "output_type": "execute_result"
    }
   ],
   "source": [
    "H['nodes']"
   ]
  },
  {
   "cell_type": "code",
   "execution_count": 265,
   "metadata": {},
   "outputs": [],
   "source": [
    "H['nodes'] = H['nodes'] + hcp_nodes"
   ]
  },
  {
   "cell_type": "code",
   "execution_count": 266,
   "metadata": {},
   "outputs": [],
   "source": [
    "H = nx.node_link_graph(H)"
   ]
  },
  {
   "cell_type": "code",
   "execution_count": 267,
   "metadata": {},
   "outputs": [
    {
     "data": {
      "text/plain": [
       "NodeView((1, 2, 3, 4, 5, 6, 7, 8, 9, 10, 11, 12, 13, 14, 15, 16, 17, 18, 19, 20, 1000000001, 1000000002, 1000000003, 1000000004, 1000000005, 1000000006, 1000000007, 1000000008))"
      ]
     },
     "execution_count": 267,
     "metadata": {},
     "output_type": "execute_result"
    }
   ],
   "source": [
    "H.nodes"
   ]
  },
  {
   "cell_type": "code",
   "execution_count": 268,
   "metadata": {},
   "outputs": [],
   "source": [
    "edges_raw = extractSheet(filepath, 'Sheet1')"
   ]
  },
  {
   "cell_type": "code",
   "execution_count": 269,
   "metadata": {},
   "outputs": [],
   "source": [
    "edges_pat_doc = edges_raw.head(15)"
   ]
  },
  {
   "cell_type": "code",
   "execution_count": 270,
   "metadata": {},
   "outputs": [
    {
     "data": {
      "text/html": [
       "<div>\n",
       "<style scoped>\n",
       "    .dataframe tbody tr th:only-of-type {\n",
       "        vertical-align: middle;\n",
       "    }\n",
       "\n",
       "    .dataframe tbody tr th {\n",
       "        vertical-align: top;\n",
       "    }\n",
       "\n",
       "    .dataframe thead th {\n",
       "        text-align: right;\n",
       "    }\n",
       "</style>\n",
       "<table border=\"1\" class=\"dataframe\">\n",
       "  <thead>\n",
       "    <tr style=\"text-align: right;\">\n",
       "      <th></th>\n",
       "      <th>source</th>\n",
       "      <th>target</th>\n",
       "      <th>value</th>\n",
       "      <th>Unnamed: 3</th>\n",
       "      <th>source node id</th>\n",
       "      <th>target node id</th>\n",
       "      <th>str_source</th>\n",
       "      <th>str_target</th>\n",
       "      <th>str_value</th>\n",
       "      <th>concatenated string</th>\n",
       "      <th>Unnamed: 10</th>\n",
       "    </tr>\n",
       "  </thead>\n",
       "  <tbody>\n",
       "    <tr>\n",
       "      <th>0</th>\n",
       "      <td>C1</td>\n",
       "      <td>D1</td>\n",
       "      <td>CD</td>\n",
       "      <td>NaN</td>\n",
       "      <td>1</td>\n",
       "      <td>1000000001</td>\n",
       "      <td>\"source\": 1</td>\n",
       "      <td>\"target\": 1000000001</td>\n",
       "      <td>\"value\": \"CD\"</td>\n",
       "      <td>{\"source\": 1, \"target\": 1000000001, \"valu...</td>\n",
       "      <td>NaN</td>\n",
       "    </tr>\n",
       "    <tr>\n",
       "      <th>1</th>\n",
       "      <td>C2</td>\n",
       "      <td>D4</td>\n",
       "      <td>CD</td>\n",
       "      <td>NaN</td>\n",
       "      <td>2</td>\n",
       "      <td>1000000004</td>\n",
       "      <td>\"source\": 2</td>\n",
       "      <td>\"target\": 1000000004</td>\n",
       "      <td>\"value\": \"CD\"</td>\n",
       "      <td>{\"source\": 2, \"target\": 1000000004, \"valu...</td>\n",
       "      <td>NaN</td>\n",
       "    </tr>\n",
       "    <tr>\n",
       "      <th>2</th>\n",
       "      <td>C3</td>\n",
       "      <td>D3</td>\n",
       "      <td>CD</td>\n",
       "      <td>NaN</td>\n",
       "      <td>3</td>\n",
       "      <td>1000000003</td>\n",
       "      <td>\"source\": 3</td>\n",
       "      <td>\"target\": 1000000003</td>\n",
       "      <td>\"value\": \"CD\"</td>\n",
       "      <td>{\"source\": 3, \"target\": 1000000003, \"valu...</td>\n",
       "      <td>NaN</td>\n",
       "    </tr>\n",
       "    <tr>\n",
       "      <th>3</th>\n",
       "      <td>C5</td>\n",
       "      <td>D2</td>\n",
       "      <td>CD</td>\n",
       "      <td>NaN</td>\n",
       "      <td>5</td>\n",
       "      <td>1000000002</td>\n",
       "      <td>\"source\": 5</td>\n",
       "      <td>\"target\": 1000000002</td>\n",
       "      <td>\"value\": \"CD\"</td>\n",
       "      <td>{\"source\": 5, \"target\": 1000000002, \"valu...</td>\n",
       "      <td>NaN</td>\n",
       "    </tr>\n",
       "    <tr>\n",
       "      <th>4</th>\n",
       "      <td>C7</td>\n",
       "      <td>D1</td>\n",
       "      <td>CD</td>\n",
       "      <td>NaN</td>\n",
       "      <td>7</td>\n",
       "      <td>1000000001</td>\n",
       "      <td>\"source\": 7</td>\n",
       "      <td>\"target\": 1000000001</td>\n",
       "      <td>\"value\": \"CD\"</td>\n",
       "      <td>{\"source\": 7, \"target\": 1000000001, \"valu...</td>\n",
       "      <td>NaN</td>\n",
       "    </tr>\n",
       "  </tbody>\n",
       "</table>\n",
       "</div>"
      ],
      "text/plain": [
       "  source target value  Unnamed: 3  source node id  target node id  \\\n",
       "0     C1     D1    CD         NaN               1      1000000001   \n",
       "1     C2     D4    CD         NaN               2      1000000004   \n",
       "2     C3     D3    CD         NaN               3      1000000003   \n",
       "3     C5     D2    CD         NaN               5      1000000002   \n",
       "4     C7     D1    CD         NaN               7      1000000001   \n",
       "\n",
       "    str_source            str_target      str_value  \\\n",
       "0  \"source\": 1  \"target\": 1000000001  \"value\": \"CD\"   \n",
       "1  \"source\": 2  \"target\": 1000000004  \"value\": \"CD\"   \n",
       "2  \"source\": 3  \"target\": 1000000003  \"value\": \"CD\"   \n",
       "3  \"source\": 5  \"target\": 1000000002  \"value\": \"CD\"   \n",
       "4  \"source\": 7  \"target\": 1000000001  \"value\": \"CD\"   \n",
       "\n",
       "                                 concatenated string  Unnamed: 10  \n",
       "0       {\"source\": 1, \"target\": 1000000001, \"valu...          NaN  \n",
       "1       {\"source\": 2, \"target\": 1000000004, \"valu...          NaN  \n",
       "2       {\"source\": 3, \"target\": 1000000003, \"valu...          NaN  \n",
       "3       {\"source\": 5, \"target\": 1000000002, \"valu...          NaN  \n",
       "4       {\"source\": 7, \"target\": 1000000001, \"valu...          NaN  "
      ]
     },
     "execution_count": 270,
     "metadata": {},
     "output_type": "execute_result"
    }
   ],
   "source": [
    "edges_pat_doc.head()"
   ]
  },
  {
   "cell_type": "code",
   "execution_count": 271,
   "metadata": {},
   "outputs": [],
   "source": [
    "edges_pat_doc = edges_pat_doc[['source node id','target node id']]"
   ]
  },
  {
   "cell_type": "code",
   "execution_count": 272,
   "metadata": {},
   "outputs": [
    {
     "data": {
      "text/html": [
       "<div>\n",
       "<style scoped>\n",
       "    .dataframe tbody tr th:only-of-type {\n",
       "        vertical-align: middle;\n",
       "    }\n",
       "\n",
       "    .dataframe tbody tr th {\n",
       "        vertical-align: top;\n",
       "    }\n",
       "\n",
       "    .dataframe thead th {\n",
       "        text-align: right;\n",
       "    }\n",
       "</style>\n",
       "<table border=\"1\" class=\"dataframe\">\n",
       "  <thead>\n",
       "    <tr style=\"text-align: right;\">\n",
       "      <th></th>\n",
       "      <th>source node id</th>\n",
       "      <th>target node id</th>\n",
       "    </tr>\n",
       "  </thead>\n",
       "  <tbody>\n",
       "    <tr>\n",
       "      <th>0</th>\n",
       "      <td>1</td>\n",
       "      <td>1000000001</td>\n",
       "    </tr>\n",
       "    <tr>\n",
       "      <th>1</th>\n",
       "      <td>2</td>\n",
       "      <td>1000000004</td>\n",
       "    </tr>\n",
       "    <tr>\n",
       "      <th>2</th>\n",
       "      <td>3</td>\n",
       "      <td>1000000003</td>\n",
       "    </tr>\n",
       "    <tr>\n",
       "      <th>3</th>\n",
       "      <td>5</td>\n",
       "      <td>1000000002</td>\n",
       "    </tr>\n",
       "    <tr>\n",
       "      <th>4</th>\n",
       "      <td>7</td>\n",
       "      <td>1000000001</td>\n",
       "    </tr>\n",
       "    <tr>\n",
       "      <th>5</th>\n",
       "      <td>8</td>\n",
       "      <td>1000000003</td>\n",
       "    </tr>\n",
       "    <tr>\n",
       "      <th>6</th>\n",
       "      <td>9</td>\n",
       "      <td>1000000002</td>\n",
       "    </tr>\n",
       "    <tr>\n",
       "      <th>7</th>\n",
       "      <td>10</td>\n",
       "      <td>1000000004</td>\n",
       "    </tr>\n",
       "    <tr>\n",
       "      <th>8</th>\n",
       "      <td>11</td>\n",
       "      <td>1000000008</td>\n",
       "    </tr>\n",
       "    <tr>\n",
       "      <th>9</th>\n",
       "      <td>14</td>\n",
       "      <td>1000000007</td>\n",
       "    </tr>\n",
       "    <tr>\n",
       "      <th>10</th>\n",
       "      <td>15</td>\n",
       "      <td>1000000006</td>\n",
       "    </tr>\n",
       "    <tr>\n",
       "      <th>11</th>\n",
       "      <td>16</td>\n",
       "      <td>1000000005</td>\n",
       "    </tr>\n",
       "    <tr>\n",
       "      <th>12</th>\n",
       "      <td>17</td>\n",
       "      <td>1000000005</td>\n",
       "    </tr>\n",
       "    <tr>\n",
       "      <th>13</th>\n",
       "      <td>18</td>\n",
       "      <td>1000000008</td>\n",
       "    </tr>\n",
       "    <tr>\n",
       "      <th>14</th>\n",
       "      <td>19</td>\n",
       "      <td>1000000006</td>\n",
       "    </tr>\n",
       "  </tbody>\n",
       "</table>\n",
       "</div>"
      ],
      "text/plain": [
       "    source node id  target node id\n",
       "0                1      1000000001\n",
       "1                2      1000000004\n",
       "2                3      1000000003\n",
       "3                5      1000000002\n",
       "4                7      1000000001\n",
       "5                8      1000000003\n",
       "6                9      1000000002\n",
       "7               10      1000000004\n",
       "8               11      1000000008\n",
       "9               14      1000000007\n",
       "10              15      1000000006\n",
       "11              16      1000000005\n",
       "12              17      1000000005\n",
       "13              18      1000000008\n",
       "14              19      1000000006"
      ]
     },
     "execution_count": 272,
     "metadata": {},
     "output_type": "execute_result"
    }
   ],
   "source": [
    "edges_pat_doc"
   ]
  },
  {
   "cell_type": "code",
   "execution_count": 273,
   "metadata": {},
   "outputs": [],
   "source": [
    "edges_pat_doc = edges_pat_doc.rename(columns={'source node id':'source','target node id':'target'})"
   ]
  },
  {
   "cell_type": "code",
   "execution_count": 274,
   "metadata": {},
   "outputs": [],
   "source": [
    "edges_main = json.loads(edges_pat_doc.to_json(orient='records'))"
   ]
  },
  {
   "cell_type": "code",
   "execution_count": 275,
   "metadata": {},
   "outputs": [
    {
     "data": {
      "text/plain": [
       "[{'source': 1, 'target': 1000000001},\n",
       " {'source': 2, 'target': 1000000004},\n",
       " {'source': 3, 'target': 1000000003},\n",
       " {'source': 5, 'target': 1000000002},\n",
       " {'source': 7, 'target': 1000000001},\n",
       " {'source': 8, 'target': 1000000003},\n",
       " {'source': 9, 'target': 1000000002},\n",
       " {'source': 10, 'target': 1000000004},\n",
       " {'source': 11, 'target': 1000000008},\n",
       " {'source': 14, 'target': 1000000007},\n",
       " {'source': 15, 'target': 1000000006},\n",
       " {'source': 16, 'target': 1000000005},\n",
       " {'source': 17, 'target': 1000000005},\n",
       " {'source': 18, 'target': 1000000008},\n",
       " {'source': 19, 'target': 1000000006}]"
      ]
     },
     "execution_count": 275,
     "metadata": {},
     "output_type": "execute_result"
    }
   ],
   "source": [
    "edges_main"
   ]
  },
  {
   "cell_type": "code",
   "execution_count": 276,
   "metadata": {},
   "outputs": [],
   "source": [
    "H = nx.node_link_data(H)"
   ]
  },
  {
   "cell_type": "code",
   "execution_count": 277,
   "metadata": {},
   "outputs": [
    {
     "data": {
      "text/plain": [
       "{'directed': False,\n",
       " 'multigraph': False,\n",
       " 'graph': {},\n",
       " 'nodes': [{'agent_id': 'C1',\n",
       "   'agent_type': 0,\n",
       "   'age': 90,\n",
       "   'gender': 'M',\n",
       "   'recd_vac': 1,\n",
       "   'id': 1},\n",
       "  {'agent_id': 'C2',\n",
       "   'agent_type': 0,\n",
       "   'age': 76,\n",
       "   'gender': 'F',\n",
       "   'recd_vac': 0,\n",
       "   'id': 2},\n",
       "  {'agent_id': 'C3',\n",
       "   'agent_type': 0,\n",
       "   'age': 52,\n",
       "   'gender': 'F',\n",
       "   'recd_vac': 0,\n",
       "   'id': 3},\n",
       "  {'agent_id': 'C4',\n",
       "   'agent_type': 0,\n",
       "   'age': 52,\n",
       "   'gender': 'F',\n",
       "   'recd_vac': 0,\n",
       "   'id': 4},\n",
       "  {'agent_id': 'C5',\n",
       "   'agent_type': 0,\n",
       "   'age': 80,\n",
       "   'gender': 'M',\n",
       "   'recd_vac': 0,\n",
       "   'id': 5},\n",
       "  {'agent_id': 'C6',\n",
       "   'agent_type': 0,\n",
       "   'age': 90,\n",
       "   'gender': 'M',\n",
       "   'recd_vac': 0,\n",
       "   'id': 6},\n",
       "  {'agent_id': 'C7',\n",
       "   'agent_type': 0,\n",
       "   'age': 88,\n",
       "   'gender': 'F',\n",
       "   'recd_vac': 1,\n",
       "   'id': 7},\n",
       "  {'agent_id': 'C8',\n",
       "   'agent_type': 0,\n",
       "   'age': 51,\n",
       "   'gender': 'M',\n",
       "   'recd_vac': 0,\n",
       "   'id': 8},\n",
       "  {'agent_id': 'C9',\n",
       "   'agent_type': 0,\n",
       "   'age': 78,\n",
       "   'gender': 'M',\n",
       "   'recd_vac': 0,\n",
       "   'id': 9},\n",
       "  {'agent_id': 'C10',\n",
       "   'agent_type': 0,\n",
       "   'age': 73,\n",
       "   'gender': 'F',\n",
       "   'recd_vac': 0,\n",
       "   'id': 10},\n",
       "  {'agent_id': 'C11',\n",
       "   'agent_type': 0,\n",
       "   'age': 57,\n",
       "   'gender': 'M',\n",
       "   'recd_vac': 0,\n",
       "   'id': 11},\n",
       "  {'agent_id': 'C12',\n",
       "   'agent_type': 0,\n",
       "   'age': 72,\n",
       "   'gender': 'F',\n",
       "   'recd_vac': 1,\n",
       "   'id': 12},\n",
       "  {'agent_id': 'C13',\n",
       "   'agent_type': 0,\n",
       "   'age': 75,\n",
       "   'gender': 'F',\n",
       "   'recd_vac': 1,\n",
       "   'id': 13},\n",
       "  {'agent_id': 'C14',\n",
       "   'agent_type': 0,\n",
       "   'age': 50,\n",
       "   'gender': 'F',\n",
       "   'recd_vac': 0,\n",
       "   'id': 14},\n",
       "  {'agent_id': 'C15',\n",
       "   'agent_type': 0,\n",
       "   'age': 69,\n",
       "   'gender': 'M',\n",
       "   'recd_vac': 0,\n",
       "   'id': 15},\n",
       "  {'agent_id': 'C16',\n",
       "   'agent_type': 0,\n",
       "   'age': 87,\n",
       "   'gender': 'M',\n",
       "   'recd_vac': 0,\n",
       "   'id': 16},\n",
       "  {'agent_id': 'C17',\n",
       "   'agent_type': 0,\n",
       "   'age': 85,\n",
       "   'gender': 'F',\n",
       "   'recd_vac': 0,\n",
       "   'id': 17},\n",
       "  {'agent_id': 'C18',\n",
       "   'agent_type': 0,\n",
       "   'age': 72,\n",
       "   'gender': 'F',\n",
       "   'recd_vac': 0,\n",
       "   'id': 18},\n",
       "  {'agent_id': 'C19',\n",
       "   'agent_type': 0,\n",
       "   'age': 83,\n",
       "   'gender': 'M',\n",
       "   'recd_vac': 0,\n",
       "   'id': 19},\n",
       "  {'agent_id': 'C20',\n",
       "   'agent_type': 0,\n",
       "   'age': 72,\n",
       "   'gender': 'F',\n",
       "   'recd_vac': 1,\n",
       "   'id': 20},\n",
       "  {'agent_id': 'D1',\n",
       "   'agent_type': 1,\n",
       "   'Specialty': 'PCP',\n",
       "   'Location': 11,\n",
       "   'id': 1000000001},\n",
       "  {'agent_id': 'D2',\n",
       "   'agent_type': 1,\n",
       "   'Specialty': 'SP',\n",
       "   'Location': 11,\n",
       "   'id': 1000000002},\n",
       "  {'agent_id': 'D3',\n",
       "   'agent_type': 1,\n",
       "   'Specialty': 'SP',\n",
       "   'Location': 11,\n",
       "   'id': 1000000003},\n",
       "  {'agent_id': 'D4',\n",
       "   'agent_type': 1,\n",
       "   'Specialty': 'PCP',\n",
       "   'Location': 213,\n",
       "   'id': 1000000004},\n",
       "  {'agent_id': 'D5',\n",
       "   'agent_type': 1,\n",
       "   'Specialty': 'PCP',\n",
       "   'Location': 213,\n",
       "   'id': 1000000005},\n",
       "  {'agent_id': 'D6',\n",
       "   'agent_type': 1,\n",
       "   'Specialty': 'PCP',\n",
       "   'Location': 213,\n",
       "   'id': 1000000006},\n",
       "  {'agent_id': 'D7',\n",
       "   'agent_type': 1,\n",
       "   'Specialty': 'PCP',\n",
       "   'Location': 213,\n",
       "   'id': 1000000007},\n",
       "  {'agent_id': 'D8',\n",
       "   'agent_type': 1,\n",
       "   'Specialty': 'SP',\n",
       "   'Location': 213,\n",
       "   'id': 1000000008}],\n",
       " 'links': []}"
      ]
     },
     "execution_count": 277,
     "metadata": {},
     "output_type": "execute_result"
    }
   ],
   "source": [
    "H"
   ]
  },
  {
   "cell_type": "code",
   "execution_count": 278,
   "metadata": {},
   "outputs": [],
   "source": [
    "H['links'] = edges_main"
   ]
  },
  {
   "cell_type": "code",
   "execution_count": 279,
   "metadata": {},
   "outputs": [
    {
     "data": {
      "text/plain": [
       "{'directed': False,\n",
       " 'multigraph': False,\n",
       " 'graph': {},\n",
       " 'nodes': [{'agent_id': 'C1',\n",
       "   'agent_type': 0,\n",
       "   'age': 90,\n",
       "   'gender': 'M',\n",
       "   'recd_vac': 1,\n",
       "   'id': 1},\n",
       "  {'agent_id': 'C2',\n",
       "   'agent_type': 0,\n",
       "   'age': 76,\n",
       "   'gender': 'F',\n",
       "   'recd_vac': 0,\n",
       "   'id': 2},\n",
       "  {'agent_id': 'C3',\n",
       "   'agent_type': 0,\n",
       "   'age': 52,\n",
       "   'gender': 'F',\n",
       "   'recd_vac': 0,\n",
       "   'id': 3},\n",
       "  {'agent_id': 'C4',\n",
       "   'agent_type': 0,\n",
       "   'age': 52,\n",
       "   'gender': 'F',\n",
       "   'recd_vac': 0,\n",
       "   'id': 4},\n",
       "  {'agent_id': 'C5',\n",
       "   'agent_type': 0,\n",
       "   'age': 80,\n",
       "   'gender': 'M',\n",
       "   'recd_vac': 0,\n",
       "   'id': 5},\n",
       "  {'agent_id': 'C6',\n",
       "   'agent_type': 0,\n",
       "   'age': 90,\n",
       "   'gender': 'M',\n",
       "   'recd_vac': 0,\n",
       "   'id': 6},\n",
       "  {'agent_id': 'C7',\n",
       "   'agent_type': 0,\n",
       "   'age': 88,\n",
       "   'gender': 'F',\n",
       "   'recd_vac': 1,\n",
       "   'id': 7},\n",
       "  {'agent_id': 'C8',\n",
       "   'agent_type': 0,\n",
       "   'age': 51,\n",
       "   'gender': 'M',\n",
       "   'recd_vac': 0,\n",
       "   'id': 8},\n",
       "  {'agent_id': 'C9',\n",
       "   'agent_type': 0,\n",
       "   'age': 78,\n",
       "   'gender': 'M',\n",
       "   'recd_vac': 0,\n",
       "   'id': 9},\n",
       "  {'agent_id': 'C10',\n",
       "   'agent_type': 0,\n",
       "   'age': 73,\n",
       "   'gender': 'F',\n",
       "   'recd_vac': 0,\n",
       "   'id': 10},\n",
       "  {'agent_id': 'C11',\n",
       "   'agent_type': 0,\n",
       "   'age': 57,\n",
       "   'gender': 'M',\n",
       "   'recd_vac': 0,\n",
       "   'id': 11},\n",
       "  {'agent_id': 'C12',\n",
       "   'agent_type': 0,\n",
       "   'age': 72,\n",
       "   'gender': 'F',\n",
       "   'recd_vac': 1,\n",
       "   'id': 12},\n",
       "  {'agent_id': 'C13',\n",
       "   'agent_type': 0,\n",
       "   'age': 75,\n",
       "   'gender': 'F',\n",
       "   'recd_vac': 1,\n",
       "   'id': 13},\n",
       "  {'agent_id': 'C14',\n",
       "   'agent_type': 0,\n",
       "   'age': 50,\n",
       "   'gender': 'F',\n",
       "   'recd_vac': 0,\n",
       "   'id': 14},\n",
       "  {'agent_id': 'C15',\n",
       "   'agent_type': 0,\n",
       "   'age': 69,\n",
       "   'gender': 'M',\n",
       "   'recd_vac': 0,\n",
       "   'id': 15},\n",
       "  {'agent_id': 'C16',\n",
       "   'agent_type': 0,\n",
       "   'age': 87,\n",
       "   'gender': 'M',\n",
       "   'recd_vac': 0,\n",
       "   'id': 16},\n",
       "  {'agent_id': 'C17',\n",
       "   'agent_type': 0,\n",
       "   'age': 85,\n",
       "   'gender': 'F',\n",
       "   'recd_vac': 0,\n",
       "   'id': 17},\n",
       "  {'agent_id': 'C18',\n",
       "   'agent_type': 0,\n",
       "   'age': 72,\n",
       "   'gender': 'F',\n",
       "   'recd_vac': 0,\n",
       "   'id': 18},\n",
       "  {'agent_id': 'C19',\n",
       "   'agent_type': 0,\n",
       "   'age': 83,\n",
       "   'gender': 'M',\n",
       "   'recd_vac': 0,\n",
       "   'id': 19},\n",
       "  {'agent_id': 'C20',\n",
       "   'agent_type': 0,\n",
       "   'age': 72,\n",
       "   'gender': 'F',\n",
       "   'recd_vac': 1,\n",
       "   'id': 20},\n",
       "  {'agent_id': 'D1',\n",
       "   'agent_type': 1,\n",
       "   'Specialty': 'PCP',\n",
       "   'Location': 11,\n",
       "   'id': 1000000001},\n",
       "  {'agent_id': 'D2',\n",
       "   'agent_type': 1,\n",
       "   'Specialty': 'SP',\n",
       "   'Location': 11,\n",
       "   'id': 1000000002},\n",
       "  {'agent_id': 'D3',\n",
       "   'agent_type': 1,\n",
       "   'Specialty': 'SP',\n",
       "   'Location': 11,\n",
       "   'id': 1000000003},\n",
       "  {'agent_id': 'D4',\n",
       "   'agent_type': 1,\n",
       "   'Specialty': 'PCP',\n",
       "   'Location': 213,\n",
       "   'id': 1000000004},\n",
       "  {'agent_id': 'D5',\n",
       "   'agent_type': 1,\n",
       "   'Specialty': 'PCP',\n",
       "   'Location': 213,\n",
       "   'id': 1000000005},\n",
       "  {'agent_id': 'D6',\n",
       "   'agent_type': 1,\n",
       "   'Specialty': 'PCP',\n",
       "   'Location': 213,\n",
       "   'id': 1000000006},\n",
       "  {'agent_id': 'D7',\n",
       "   'agent_type': 1,\n",
       "   'Specialty': 'PCP',\n",
       "   'Location': 213,\n",
       "   'id': 1000000007},\n",
       "  {'agent_id': 'D8',\n",
       "   'agent_type': 1,\n",
       "   'Specialty': 'SP',\n",
       "   'Location': 213,\n",
       "   'id': 1000000008}],\n",
       " 'links': [{'source': 1, 'target': 1000000001},\n",
       "  {'source': 2, 'target': 1000000004},\n",
       "  {'source': 3, 'target': 1000000003},\n",
       "  {'source': 5, 'target': 1000000002},\n",
       "  {'source': 7, 'target': 1000000001},\n",
       "  {'source': 8, 'target': 1000000003},\n",
       "  {'source': 9, 'target': 1000000002},\n",
       "  {'source': 10, 'target': 1000000004},\n",
       "  {'source': 11, 'target': 1000000008},\n",
       "  {'source': 14, 'target': 1000000007},\n",
       "  {'source': 15, 'target': 1000000006},\n",
       "  {'source': 16, 'target': 1000000005},\n",
       "  {'source': 17, 'target': 1000000005},\n",
       "  {'source': 18, 'target': 1000000008},\n",
       "  {'source': 19, 'target': 1000000006}]}"
      ]
     },
     "execution_count": 279,
     "metadata": {},
     "output_type": "execute_result"
    }
   ],
   "source": [
    "H"
   ]
  },
  {
   "cell_type": "code",
   "execution_count": 280,
   "metadata": {},
   "outputs": [],
   "source": [
    "H = nx.node_link_graph(H)"
   ]
  },
  {
   "cell_type": "code",
   "execution_count": 281,
   "metadata": {},
   "outputs": [
    {
     "data": {
      "text/plain": [
       "<networkx.classes.graph.Graph at 0x7f24aa8605e0>"
      ]
     },
     "execution_count": 281,
     "metadata": {},
     "output_type": "execute_result"
    }
   ],
   "source": [
    "H"
   ]
  },
  {
   "cell_type": "code",
   "execution_count": 282,
   "metadata": {},
   "outputs": [
    {
     "data": {
      "text/plain": [
       "EdgeView([(1, 1000000001), (2, 1000000004), (3, 1000000003), (5, 1000000002), (7, 1000000001), (8, 1000000003), (9, 1000000002), (10, 1000000004), (11, 1000000008), (14, 1000000007), (15, 1000000006), (16, 1000000005), (17, 1000000005), (18, 1000000008), (19, 1000000006)])"
      ]
     },
     "execution_count": 282,
     "metadata": {},
     "output_type": "execute_result"
    }
   ],
   "source": [
    "H.edges"
   ]
  },
  {
   "cell_type": "code",
   "execution_count": 283,
   "metadata": {},
   "outputs": [
    {
     "data": {
      "text/plain": [
       "NodeView((1, 2, 3, 4, 5, 6, 7, 8, 9, 10, 11, 12, 13, 14, 15, 16, 17, 18, 19, 20, 1000000001, 1000000002, 1000000003, 1000000004, 1000000005, 1000000006, 1000000007, 1000000008))"
      ]
     },
     "execution_count": 283,
     "metadata": {},
     "output_type": "execute_result"
    }
   ],
   "source": [
    "H.nodes"
   ]
  },
  {
   "cell_type": "code",
   "execution_count": 284,
   "metadata": {},
   "outputs": [
    {
     "data": {
      "text/plain": [
       "<networkx.classes.graph.Graph at 0x7f24aa8605e0>"
      ]
     },
     "execution_count": 284,
     "metadata": {},
     "output_type": "execute_result"
    }
   ],
   "source": [
    "H"
   ]
  },
  {
   "cell_type": "code",
   "execution_count": 285,
   "metadata": {},
   "outputs": [],
   "source": [
    "pos = nx.spring_layout(H)  # Layout algorithm for node positioning\n",
    "node_labels = nx.get_node_attributes(H, 'agent_id')  # Label nodes by agent type\n",
    "# edge_labels = {edge: '' for edge in edges}  # Empty edge labels"
   ]
  },
  {
   "cell_type": "code",
   "execution_count": 286,
   "metadata": {},
   "outputs": [
    {
     "data": {
      "image/png": "[encoded data removed]",
      "text/plain": [
       "<Figure size 1000x800 with 1 Axes>"
      ]
     },
     "metadata": {},
     "output_type": "display_data"
    }
   ],
   "source": [
    "plt.figure(figsize=(10, 8))\n",
    "nx.draw_networkx_nodes(H, pos, node_size=500, node_color='lightblue')\n",
    "nx.draw_networkx_edges(H, pos, width=1, alpha=0.7, edge_color='gray', style='dashed')\n",
    "nx.draw_networkx_labels(H, pos, node_labels, font_size=10, font_color='black')\n",
    "# nx.draw_networkx_edge_labels(H, pos, edge_labels, font_size=8)\n",
    "plt.title('Network Visualization')\n",
    "plt.axis('off')\n",
    "plt.show()"
   ]
  }
 ],
 "metadata": {
  "kernelspec": {
   "display_name": "Python 3",
   "language": "python",
   "name": "python3"
  },
  "language_info": {
   "codemirror_mode": {
    "name": "ipython",
    "version": 3
   },
   "file_extension": ".py",
   "mimetype": "text/x-python",
   "name": "python",
   "nbconvert_exporter": "python",
   "pygments_lexer": "ipython3",
   "version": "3.10.6"
  },
  "orig_nbformat": 4
 },
 "nbformat": 4,
 "nbformat_minor": 2
}
