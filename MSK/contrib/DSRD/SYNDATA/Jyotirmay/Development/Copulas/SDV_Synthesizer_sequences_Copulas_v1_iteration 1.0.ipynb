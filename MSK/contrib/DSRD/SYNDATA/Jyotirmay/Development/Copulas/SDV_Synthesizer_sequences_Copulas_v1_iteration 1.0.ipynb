{
 "cells": [
  {
   "cell_type": "markdown",
   "id": "835be2f8-7d12-4a26-acca-1f9f0b710292",
   "metadata": {},
   "source": [
    "# Synthesize a Table (Gaussian Coupla)\n",
    "\n",
    "In this notebook, we'll use the SDV to create synthetic data for a single table and evaluate it. The SDV uses machine learning to learn patterns from real data and emulates them when creating synthetic data.\n",
    "\n",
    "We'll use the **Gaussian Copula** algorithm to do this. Gaussian Copula is a fast, customizable and transparent way to synthesize data.\n",
    "\n",
    "_Last Edit: Dec 12, 2023_"
   ]
  },
  {
   "cell_type": "code",
   "execution_count": 1,
   "id": "e0630768-1a49-4a87-b701-dcba3fb0c9eb",
   "metadata": {},
   "outputs": [],
   "source": [
    "from sdv.datasets.demo import download_demo\n",
    "\n",
    "real_data, metadata = download_demo(\n",
    "    modality='sequential',\n",
    "    dataset_name='nasdaq100_2019'\n",
    ")"
   ]
  },
  {
   "cell_type": "code",
   "execution_count": 2,
   "id": "b0aef598-9d39-4dbf-ba8e-ca3424c36bc4",
   "metadata": {},
   "outputs": [],
   "source": [
    "categories_to_filter = ['AAPL', 'AMZN', 'MSFT', 'FB', 'TSLA', 'GOOGL', 'GOOG', 'NVDA',\n",
    "       'ADBE', 'PYPL', 'NFLX', 'INTC', 'CMCSA', 'PEP', 'CSCO', 'COST'\n",
    "       ]\n",
    "data = real_data[real_data['Symbol'].isin(categories_to_filter)]"
   ]
  },
  {
   "cell_type": "code",
   "execution_count": 3,
   "id": "410d0ab4-64b5-4cec-8dee-3cb2c157846a",
   "metadata": {},
   "outputs": [
    {
     "data": {
      "text/plain": [
       "(4032, 8)"
      ]
     },
     "execution_count": 3,
     "metadata": {},
     "output_type": "execute_result"
    }
   ],
   "source": [
    "data.shape"
   ]
  },
  {
   "cell_type": "code",
   "execution_count": 4,
   "id": "590cb5d0-d821-4f38-b862-8a21e2e41930",
   "metadata": {},
   "outputs": [],
   "source": [
    "data.to_csv('copulas_i1_real.csv')"
   ]
  },
  {
   "cell_type": "code",
   "execution_count": 6,
   "id": "65b608c9-4c5c-4a62-80e7-127b9bd8a25b",
   "metadata": {},
   "outputs": [],
   "source": [
    "from sdv.single_table import GaussianCopulaSynthesizer\n",
    "\n",
    "synthesizer = GaussianCopulaSynthesizer(metadata)\n",
    "synthesizer.fit(data)"
   ]
  },
  {
   "cell_type": "code",
   "execution_count": 7,
   "id": "0b65a056-7204-453a-a80f-ceb6fc76a80e",
   "metadata": {},
   "outputs": [
    {
     "name": "stderr",
     "output_type": "stream",
     "text": [
      "C:\\Users\\ghoshjy\\AppData\\Roaming\\Python\\Python310\\site-packages\\rdt\\transformers\\categorical.py:196: FutureWarning: The behavior of Series.replace (and DataFrame.replace) with CategoricalDtype is deprecated. In a future version, replace will only be used for cases that preserve the categories. To change the categories, use ser.cat.rename_categories instead.\n",
      "  result = result.replace(nan_name, np.nan)\n",
      "C:\\Users\\ghoshjy\\AppData\\Roaming\\Python\\Python310\\site-packages\\rdt\\transformers\\categorical.py:196: FutureWarning: The behavior of Series.replace (and DataFrame.replace) with CategoricalDtype is deprecated. In a future version, replace will only be used for cases that preserve the categories. To change the categories, use ser.cat.rename_categories instead.\n",
      "  result = result.replace(nan_name, np.nan)\n"
     ]
    },
    {
     "data": {
      "text/html": [
       "<div>\n",
       "<style scoped>\n",
       "    .dataframe tbody tr th:only-of-type {\n",
       "        vertical-align: middle;\n",
       "    }\n",
       "\n",
       "    .dataframe tbody tr th {\n",
       "        vertical-align: top;\n",
       "    }\n",
       "\n",
       "    .dataframe thead th {\n",
       "        text-align: right;\n",
       "    }\n",
       "</style>\n",
       "<table border=\"1\" class=\"dataframe\">\n",
       "  <thead>\n",
       "    <tr style=\"text-align: right;\">\n",
       "      <th></th>\n",
       "      <th>Symbol</th>\n",
       "      <th>Date</th>\n",
       "      <th>Open</th>\n",
       "      <th>Close</th>\n",
       "      <th>Volume</th>\n",
       "      <th>MarketCap</th>\n",
       "      <th>Sector</th>\n",
       "      <th>Industry</th>\n",
       "    </tr>\n",
       "  </thead>\n",
       "  <tbody>\n",
       "    <tr>\n",
       "      <th>0</th>\n",
       "      <td>AAAA</td>\n",
       "      <td>2019-10-15</td>\n",
       "      <td>1607.835907</td>\n",
       "      <td>1579.254939</td>\n",
       "      <td>999062</td>\n",
       "      <td>1.032597e+11</td>\n",
       "      <td>Technology</td>\n",
       "      <td>Auto Manufacturing</td>\n",
       "    </tr>\n",
       "    <tr>\n",
       "      <th>1</th>\n",
       "      <td>AAAB</td>\n",
       "      <td>2019-05-20</td>\n",
       "      <td>106.126611</td>\n",
       "      <td>73.948409</td>\n",
       "      <td>18717669</td>\n",
       "      <td>3.736759e+11</td>\n",
       "      <td>NaN</td>\n",
       "      <td>Television Services</td>\n",
       "    </tr>\n",
       "    <tr>\n",
       "      <th>2</th>\n",
       "      <td>AAAC</td>\n",
       "      <td>2019-09-24</td>\n",
       "      <td>37.125899</td>\n",
       "      <td>38.309563</td>\n",
       "      <td>24239242</td>\n",
       "      <td>NaN</td>\n",
       "      <td>Consumer Services</td>\n",
       "      <td>Semiconductors</td>\n",
       "    </tr>\n",
       "    <tr>\n",
       "      <th>3</th>\n",
       "      <td>AAAD</td>\n",
       "      <td>2019-05-02</td>\n",
       "      <td>953.324635</td>\n",
       "      <td>1103.521687</td>\n",
       "      <td>3144318</td>\n",
       "      <td>5.226456e+10</td>\n",
       "      <td>NaN</td>\n",
       "      <td>Computer Software: Programming, Data Processing</td>\n",
       "    </tr>\n",
       "    <tr>\n",
       "      <th>4</th>\n",
       "      <td>AAAE</td>\n",
       "      <td>2019-02-16</td>\n",
       "      <td>448.058051</td>\n",
       "      <td>163.562205</td>\n",
       "      <td>26473287</td>\n",
       "      <td>3.304114e+11</td>\n",
       "      <td>Technology</td>\n",
       "      <td>Computer Software: Programming, Data Processing</td>\n",
       "    </tr>\n",
       "  </tbody>\n",
       "</table>\n",
       "</div>"
      ],
      "text/plain": [
       "  Symbol        Date         Open        Close    Volume     MarketCap  \\\n",
       "0   AAAA  2019-10-15  1607.835907  1579.254939    999062  1.032597e+11   \n",
       "1   AAAB  2019-05-20   106.126611    73.948409  18717669  3.736759e+11   \n",
       "2   AAAC  2019-09-24    37.125899    38.309563  24239242           NaN   \n",
       "3   AAAD  2019-05-02   953.324635  1103.521687   3144318  5.226456e+10   \n",
       "4   AAAE  2019-02-16   448.058051   163.562205  26473287  3.304114e+11   \n",
       "\n",
       "              Sector                                         Industry  \n",
       "0         Technology                               Auto Manufacturing  \n",
       "1                NaN                              Television Services  \n",
       "2  Consumer Services                                   Semiconductors  \n",
       "3                NaN  Computer Software: Programming, Data Processing  \n",
       "4         Technology  Computer Software: Programming, Data Processing  "
      ]
     },
     "execution_count": 7,
     "metadata": {},
     "output_type": "execute_result"
    }
   ],
   "source": [
    "synthetic_data = synthesizer.sample(num_rows=20000)\n",
    "synthetic_data.head()"
   ]
  },
  {
   "cell_type": "code",
   "execution_count": 8,
   "id": "77dc1c3b-19a2-4992-856c-ba7fb3f93a39",
   "metadata": {},
   "outputs": [],
   "source": [
    "synthetic_data.to_csv('copulas_i1_synthetic.csv')"
   ]
  },
  {
   "cell_type": "code",
   "execution_count": 9,
   "id": "d229073d-9768-4349-ab1e-caa03631ee6b",
   "metadata": {},
   "outputs": [
    {
     "data": {
      "text/plain": [
       "Date\n",
       "2019-07-24    89\n",
       "2019-02-14    83\n",
       "2019-11-20    78\n",
       "2019-12-28    75\n",
       "2019-03-24    73\n",
       "              ..\n",
       "2019-01-13    39\n",
       "2019-01-22    37\n",
       "2019-10-08    36\n",
       "2019-09-21    35\n",
       "2019-05-17    34\n",
       "Name: count, Length: 364, dtype: int64"
      ]
     },
     "execution_count": 9,
     "metadata": {},
     "output_type": "execute_result"
    }
   ],
   "source": [
    "synthetic_data.Date.value_counts(dropna = False\n",
    "                                )"
   ]
  },
  {
   "cell_type": "code",
   "execution_count": 10,
   "id": "79310bc1-3d5c-4c17-a385-52d08907503b",
   "metadata": {},
   "outputs": [
    {
     "name": "stdout",
     "output_type": "stream",
     "text": [
      "Generating report ...\n",
      "(1/2) Evaluating Data Validity: : 100%|█████████████████████████████████████████████████| 8/8 [00:00<00:00, 470.54it/s]\n",
      "(2/2) Evaluating Data Structure: : 100%|█████████████████████████████████████████████████| 1/1 [00:00<00:00, 47.94it/s]\n",
      "\n",
      "Overall Score: 100.0%\n",
      "\n",
      "Properties:\n",
      "- Data Validity: 100.0%\n",
      "- Data Structure: 100.0%\n"
     ]
    }
   ],
   "source": [
    "from sdv.evaluation.single_table import run_diagnostic\n",
    "\n",
    "diagnostic = run_diagnostic(\n",
    "    real_data=data,\n",
    "    synthetic_data=synthetic_data,\n",
    "    metadata=metadata\n",
    ")"
   ]
  },
  {
   "cell_type": "code",
   "execution_count": 11,
   "id": "1f566dc1-17ff-4bb5-a36f-44f098776fda",
   "metadata": {},
   "outputs": [
    {
     "name": "stdout",
     "output_type": "stream",
     "text": [
      "Generating report ...\n",
      "(1/2) Evaluating Column Shapes: : 100%|█████████████████████████████████████████████████| 8/8 [00:00<00:00, 132.23it/s]\n",
      "(2/2) Evaluating Column Pair Trends: : 100%|███████████████████████████████████████████| 28/28 [00:00<00:00, 71.11it/s]\n",
      "\n",
      "Overall Score: 82.31%\n",
      "\n",
      "Properties:\n",
      "- Column Shapes: 86.82%\n",
      "- Column Pair Trends: 77.79%\n"
     ]
    }
   ],
   "source": [
    "from sdv.evaluation.single_table import evaluate_quality\n",
    "\n",
    "quality_report = evaluate_quality(\n",
    "    data,\n",
    "    synthetic_data,\n",
    "    metadata\n",
    ")"
   ]
  },
  {
   "cell_type": "code",
   "execution_count": 12,
   "id": "9ef9d7a0-2fb5-4cc4-a74e-fdc57eb4a001",
   "metadata": {},
   "outputs": [
    {
     "data": {
      "text/html": [
       "<iframe\n",
       "    scrolling=\"no\"\n",
       "    width=\"100%\"\n",
       "    height=\"545px\"\n",
       "    src=\"iframe_figures/figure_12.html\"\n",
       "    frameborder=\"0\"\n",
       "    allowfullscreen\n",
       "></iframe>\n"
      ]
     },
     "metadata": {},
     "output_type": "display_data"
    }
   ],
   "source": [
    "from sdv.evaluation.single_table import get_column_plot\n",
    "\n",
    "fig = get_column_plot(\n",
    "    real_data=data,\n",
    "    synthetic_data=synthetic_data,\n",
    "    column_name='Date',\n",
    "    metadata=metadata\n",
    ")\n",
    "\n",
    "fig.show()"
   ]
  },
  {
   "cell_type": "code",
   "execution_count": 13,
   "id": "2f39b786-4128-4b10-b7e6-caa7dc1f44fe",
   "metadata": {},
   "outputs": [
    {
     "data": {
      "text/html": [
       "<iframe\n",
       "    scrolling=\"no\"\n",
       "    width=\"100%\"\n",
       "    height=\"545px\"\n",
       "    src=\"iframe_figures/figure_13.html\"\n",
       "    frameborder=\"0\"\n",
       "    allowfullscreen\n",
       "></iframe>\n"
      ]
     },
     "metadata": {},
     "output_type": "display_data"
    }
   ],
   "source": [
    "from sdv.evaluation.single_table import get_column_plot\n",
    "\n",
    "fig = get_column_plot(\n",
    "    real_data=data,\n",
    "    synthetic_data=synthetic_data,\n",
    "    column_name='Open',\n",
    "    metadata=metadata\n",
    ")\n",
    "\n",
    "fig.show()"
   ]
  },
  {
   "cell_type": "code",
   "execution_count": 14,
   "id": "48bb21ce-1b23-4362-b4af-ff0a84382f01",
   "metadata": {},
   "outputs": [
    {
     "data": {
      "text/html": [
       "<iframe\n",
       "    scrolling=\"no\"\n",
       "    width=\"100%\"\n",
       "    height=\"545px\"\n",
       "    src=\"iframe_figures/figure_14.html\"\n",
       "    frameborder=\"0\"\n",
       "    allowfullscreen\n",
       "></iframe>\n"
      ]
     },
     "metadata": {},
     "output_type": "display_data"
    }
   ],
   "source": [
    "from sdv.evaluation.single_table import get_column_plot\n",
    "\n",
    "fig = get_column_plot(\n",
    "    real_data=data,\n",
    "    synthetic_data=synthetic_data,\n",
    "    column_name='Close',\n",
    "    metadata=metadata\n",
    ")\n",
    "\n",
    "fig.show()"
   ]
  },
  {
   "cell_type": "code",
   "execution_count": 16,
   "id": "da325e92-670c-4b79-99d9-46953ee9409b",
   "metadata": {},
   "outputs": [
    {
     "data": {
      "text/html": [
       "<iframe\n",
       "    scrolling=\"no\"\n",
       "    width=\"100%\"\n",
       "    height=\"545px\"\n",
       "    src=\"iframe_figures/figure_16.html\"\n",
       "    frameborder=\"0\"\n",
       "    allowfullscreen\n",
       "></iframe>\n"
      ]
     },
     "metadata": {},
     "output_type": "display_data"
    }
   ],
   "source": [
    "from sdv.evaluation.single_table import get_column_plot\n",
    "\n",
    "fig = get_column_plot(\n",
    "    real_data=data,\n",
    "    synthetic_data=synthetic_data,\n",
    "    column_name='Volume',\n",
    "    metadata=metadata\n",
    ")\n",
    "\n",
    "fig.show()"
   ]
  },
  {
   "cell_type": "code",
   "execution_count": null,
   "id": "c9f954ec-89cc-4eb5-9836-276c1843d5e8",
   "metadata": {},
   "outputs": [],
   "source": []
  },
  {
   "cell_type": "markdown",
   "id": "e704725b-772c-4fda-a444-f3977cac2035",
   "metadata": {},
   "source": [
    "## Iteration2 "
   ]
  },
  {
   "cell_type": "markdown",
   "id": "492109fa-5796-4e9f-852a-85a91d777545",
   "metadata": {},
   "source": [
    "## AMAZON"
   ]
  },
  {
   "cell_type": "markdown",
   "id": "583aab27-ad91-4aa2-a206-a9504fe163ad",
   "metadata": {},
   "source": [
    "### Here we are going to pick each sequence and check for the synthetic data"
   ]
  },
  {
   "cell_type": "code",
   "execution_count": 26,
   "id": "f2936e7d-e9dd-449f-ba9b-3a763b1da961",
   "metadata": {},
   "outputs": [
    {
     "data": {
      "text/html": [
       "<div>\n",
       "<style scoped>\n",
       "    .dataframe tbody tr th:only-of-type {\n",
       "        vertical-align: middle;\n",
       "    }\n",
       "\n",
       "    .dataframe tbody tr th {\n",
       "        vertical-align: top;\n",
       "    }\n",
       "\n",
       "    .dataframe thead th {\n",
       "        text-align: right;\n",
       "    }\n",
       "</style>\n",
       "<table border=\"1\" class=\"dataframe\">\n",
       "  <thead>\n",
       "    <tr style=\"text-align: right;\">\n",
       "      <th></th>\n",
       "      <th>Symbol</th>\n",
       "      <th>Date</th>\n",
       "      <th>Open</th>\n",
       "      <th>Close</th>\n",
       "      <th>Volume</th>\n",
       "      <th>MarketCap</th>\n",
       "      <th>Sector</th>\n",
       "      <th>Industry</th>\n",
       "    </tr>\n",
       "  </thead>\n",
       "  <tbody>\n",
       "    <tr>\n",
       "      <th>252</th>\n",
       "      <td>AMZN</td>\n",
       "      <td>2018-12-31</td>\n",
       "      <td>1510.800049</td>\n",
       "      <td>1501.969971</td>\n",
       "      <td>6954500</td>\n",
       "      <td>4.035002e+11</td>\n",
       "      <td>Consumer Services</td>\n",
       "      <td>Catalog/Specialty Distribution</td>\n",
       "    </tr>\n",
       "    <tr>\n",
       "      <th>253</th>\n",
       "      <td>AMZN</td>\n",
       "      <td>2019-01-02</td>\n",
       "      <td>1465.199951</td>\n",
       "      <td>1539.130005</td>\n",
       "      <td>7983100</td>\n",
       "      <td>4.035002e+11</td>\n",
       "      <td>Consumer Services</td>\n",
       "      <td>Catalog/Specialty Distribution</td>\n",
       "    </tr>\n",
       "    <tr>\n",
       "      <th>254</th>\n",
       "      <td>AMZN</td>\n",
       "      <td>2019-01-03</td>\n",
       "      <td>1520.010010</td>\n",
       "      <td>1500.280029</td>\n",
       "      <td>6975600</td>\n",
       "      <td>4.035002e+11</td>\n",
       "      <td>Consumer Services</td>\n",
       "      <td>Catalog/Specialty Distribution</td>\n",
       "    </tr>\n",
       "    <tr>\n",
       "      <th>255</th>\n",
       "      <td>AMZN</td>\n",
       "      <td>2019-01-04</td>\n",
       "      <td>1530.000000</td>\n",
       "      <td>1575.390015</td>\n",
       "      <td>9182600</td>\n",
       "      <td>4.035002e+11</td>\n",
       "      <td>Consumer Services</td>\n",
       "      <td>Catalog/Specialty Distribution</td>\n",
       "    </tr>\n",
       "    <tr>\n",
       "      <th>256</th>\n",
       "      <td>AMZN</td>\n",
       "      <td>2019-01-07</td>\n",
       "      <td>1602.310059</td>\n",
       "      <td>1629.510010</td>\n",
       "      <td>7993200</td>\n",
       "      <td>4.035002e+11</td>\n",
       "      <td>Consumer Services</td>\n",
       "      <td>Catalog/Specialty Distribution</td>\n",
       "    </tr>\n",
       "  </tbody>\n",
       "</table>\n",
       "</div>"
      ],
      "text/plain": [
       "    Symbol        Date         Open        Close   Volume     MarketCap  \\\n",
       "252   AMZN  2018-12-31  1510.800049  1501.969971  6954500  4.035002e+11   \n",
       "253   AMZN  2019-01-02  1465.199951  1539.130005  7983100  4.035002e+11   \n",
       "254   AMZN  2019-01-03  1520.010010  1500.280029  6975600  4.035002e+11   \n",
       "255   AMZN  2019-01-04  1530.000000  1575.390015  9182600  4.035002e+11   \n",
       "256   AMZN  2019-01-07  1602.310059  1629.510010  7993200  4.035002e+11   \n",
       "\n",
       "                Sector                        Industry  \n",
       "252  Consumer Services  Catalog/Specialty Distribution  \n",
       "253  Consumer Services  Catalog/Specialty Distribution  \n",
       "254  Consumer Services  Catalog/Specialty Distribution  \n",
       "255  Consumer Services  Catalog/Specialty Distribution  \n",
       "256  Consumer Services  Catalog/Specialty Distribution  "
      ]
     },
     "execution_count": 26,
     "metadata": {},
     "output_type": "execute_result"
    }
   ],
   "source": [
    "amzn_sequence = real_data[real_data['Symbol'] == 'AMZN']\n",
    "amzn_sequence.head()"
   ]
  },
  {
   "cell_type": "code",
   "execution_count": 27,
   "id": "2aaf10d0-efef-4a40-a1b5-a51958e11b35",
   "metadata": {},
   "outputs": [
    {
     "data": {
      "text/plain": [
       "(252, 8)"
      ]
     },
     "execution_count": 27,
     "metadata": {},
     "output_type": "execute_result"
    }
   ],
   "source": [
    "amzn_sequence.shape"
   ]
  },
  {
   "cell_type": "code",
   "execution_count": 28,
   "id": "400ea543-4275-4b3e-9beb-4d4ee936bdb8",
   "metadata": {},
   "outputs": [],
   "source": [
    "from sdv.single_table import GaussianCopulaSynthesizer\n",
    "\n",
    "synthesizer = GaussianCopulaSynthesizer(metadata)\n",
    "synthesizer.fit(amzn_sequence)"
   ]
  },
  {
   "cell_type": "code",
   "execution_count": 29,
   "id": "fa7179f2-a6b0-4c0e-821c-f44f2d3eddba",
   "metadata": {},
   "outputs": [
    {
     "data": {
      "text/html": [
       "<div>\n",
       "<style scoped>\n",
       "    .dataframe tbody tr th:only-of-type {\n",
       "        vertical-align: middle;\n",
       "    }\n",
       "\n",
       "    .dataframe tbody tr th {\n",
       "        vertical-align: top;\n",
       "    }\n",
       "\n",
       "    .dataframe thead th {\n",
       "        text-align: right;\n",
       "    }\n",
       "</style>\n",
       "<table border=\"1\" class=\"dataframe\">\n",
       "  <thead>\n",
       "    <tr style=\"text-align: right;\">\n",
       "      <th></th>\n",
       "      <th>Symbol</th>\n",
       "      <th>Date</th>\n",
       "      <th>Open</th>\n",
       "      <th>Close</th>\n",
       "      <th>Volume</th>\n",
       "      <th>MarketCap</th>\n",
       "      <th>Sector</th>\n",
       "      <th>Industry</th>\n",
       "    </tr>\n",
       "  </thead>\n",
       "  <tbody>\n",
       "    <tr>\n",
       "      <th>0</th>\n",
       "      <td>AAAA</td>\n",
       "      <td>2019-12-10</td>\n",
       "      <td>1861.387501</td>\n",
       "      <td>1846.968838</td>\n",
       "      <td>2209516</td>\n",
       "      <td>4.035002e+11</td>\n",
       "      <td>Consumer Services</td>\n",
       "      <td>Catalog/Specialty Distribution</td>\n",
       "    </tr>\n",
       "    <tr>\n",
       "      <th>1</th>\n",
       "      <td>AAAB</td>\n",
       "      <td>2019-02-09</td>\n",
       "      <td>1740.570472</td>\n",
       "      <td>1755.326643</td>\n",
       "      <td>1938526</td>\n",
       "      <td>4.035002e+11</td>\n",
       "      <td>Consumer Services</td>\n",
       "      <td>Catalog/Specialty Distribution</td>\n",
       "    </tr>\n",
       "    <tr>\n",
       "      <th>2</th>\n",
       "      <td>AAAC</td>\n",
       "      <td>2019-06-11</td>\n",
       "      <td>1720.340942</td>\n",
       "      <td>1732.246223</td>\n",
       "      <td>4042632</td>\n",
       "      <td>4.035002e+11</td>\n",
       "      <td>Consumer Services</td>\n",
       "      <td>Catalog/Specialty Distribution</td>\n",
       "    </tr>\n",
       "    <tr>\n",
       "      <th>3</th>\n",
       "      <td>AAAD</td>\n",
       "      <td>2019-08-17</td>\n",
       "      <td>1829.675739</td>\n",
       "      <td>1804.681874</td>\n",
       "      <td>2569571</td>\n",
       "      <td>4.035002e+11</td>\n",
       "      <td>Consumer Services</td>\n",
       "      <td>Catalog/Specialty Distribution</td>\n",
       "    </tr>\n",
       "    <tr>\n",
       "      <th>4</th>\n",
       "      <td>AAAE</td>\n",
       "      <td>2019-06-18</td>\n",
       "      <td>1826.698514</td>\n",
       "      <td>1847.280198</td>\n",
       "      <td>6743629</td>\n",
       "      <td>4.035002e+11</td>\n",
       "      <td>Consumer Services</td>\n",
       "      <td>Catalog/Specialty Distribution</td>\n",
       "    </tr>\n",
       "  </tbody>\n",
       "</table>\n",
       "</div>"
      ],
      "text/plain": [
       "  Symbol        Date         Open        Close   Volume     MarketCap  \\\n",
       "0   AAAA  2019-12-10  1861.387501  1846.968838  2209516  4.035002e+11   \n",
       "1   AAAB  2019-02-09  1740.570472  1755.326643  1938526  4.035002e+11   \n",
       "2   AAAC  2019-06-11  1720.340942  1732.246223  4042632  4.035002e+11   \n",
       "3   AAAD  2019-08-17  1829.675739  1804.681874  2569571  4.035002e+11   \n",
       "4   AAAE  2019-06-18  1826.698514  1847.280198  6743629  4.035002e+11   \n",
       "\n",
       "              Sector                        Industry  \n",
       "0  Consumer Services  Catalog/Specialty Distribution  \n",
       "1  Consumer Services  Catalog/Specialty Distribution  \n",
       "2  Consumer Services  Catalog/Specialty Distribution  \n",
       "3  Consumer Services  Catalog/Specialty Distribution  \n",
       "4  Consumer Services  Catalog/Specialty Distribution  "
      ]
     },
     "execution_count": 29,
     "metadata": {},
     "output_type": "execute_result"
    }
   ],
   "source": [
    "synthetic_data = synthesizer.sample(num_rows=25200)\n",
    "synthetic_data.head()"
   ]
  },
  {
   "cell_type": "code",
   "execution_count": 34,
   "id": "148d867d-0d15-4e90-9d94-91be69b9b96d",
   "metadata": {},
   "outputs": [],
   "source": [
    "synthetic_data.to_csv('copulas_amazon_synthetic.csv')"
   ]
  },
  {
   "cell_type": "code",
   "execution_count": 30,
   "id": "e36583d2-715b-491a-8d94-9c8304f3cbd8",
   "metadata": {},
   "outputs": [
    {
     "name": "stdout",
     "output_type": "stream",
     "text": [
      "Generating report ...\n",
      "(1/2) Evaluating Data Validity: : 100%|█████████████████████████████████████████████████| 8/8 [00:00<00:00, 639.03it/s]\n",
      "(2/2) Evaluating Data Structure: : 100%|████████████████████████████████████████████████| 1/1 [00:00<00:00, 332.99it/s]\n",
      "\n",
      "Overall Score: 100.0%\n",
      "\n",
      "Properties:\n",
      "- Data Validity: 100.0%\n",
      "- Data Structure: 100.0%\n"
     ]
    }
   ],
   "source": [
    "from sdv.evaluation.single_table import run_diagnostic\n",
    "\n",
    "diagnostic = run_diagnostic(\n",
    "    real_data=amzn_sequence,\n",
    "    synthetic_data=synthetic_data,\n",
    "    metadata=metadata\n",
    ")"
   ]
  },
  {
   "cell_type": "code",
   "execution_count": 31,
   "id": "62467f67-2021-467d-a105-8782e4c0f645",
   "metadata": {},
   "outputs": [
    {
     "name": "stdout",
     "output_type": "stream",
     "text": [
      "Generating report ...\n",
      "(1/2) Evaluating Column Shapes: : 100%|█████████████████████████████████████████████████| 8/8 [00:00<00:00, 190.50it/s]\n",
      "(2/2) Evaluating Column Pair Trends: : 100%|███████████████████████████████████████████| 28/28 [00:00<00:00, 58.41it/s]\n",
      "\n",
      "Overall Score: 68.0%\n",
      "\n",
      "Properties:\n",
      "- Column Shapes: 95.53%\n",
      "- Column Pair Trends: 40.47%\n"
     ]
    }
   ],
   "source": [
    "from sdv.evaluation.single_table import evaluate_quality\n",
    "\n",
    "quality_report = evaluate_quality(\n",
    "    amzn_sequence,\n",
    "    synthetic_data,\n",
    "    metadata\n",
    ")"
   ]
  },
  {
   "cell_type": "code",
   "execution_count": 32,
   "id": "b3801913-1ed5-4334-bdbf-ee7a01bdffe2",
   "metadata": {},
   "outputs": [
    {
     "data": {
      "text/html": [
       "<iframe\n",
       "    scrolling=\"no\"\n",
       "    width=\"100%\"\n",
       "    height=\"545px\"\n",
       "    src=\"iframe_figures/figure_32.html\"\n",
       "    frameborder=\"0\"\n",
       "    allowfullscreen\n",
       "></iframe>\n"
      ]
     },
     "metadata": {},
     "output_type": "display_data"
    }
   ],
   "source": [
    "from sdv.evaluation.single_table import get_column_plot\n",
    "\n",
    "fig = get_column_plot(\n",
    "    real_data=amzn_sequence,\n",
    "    synthetic_data=synthetic_data,\n",
    "    column_name='Date',\n",
    "    metadata=metadata\n",
    ")\n",
    "\n",
    "fig.show()"
   ]
  },
  {
   "cell_type": "code",
   "execution_count": 24,
   "id": "caa772b5-08cd-4fb6-afc9-d0087efbc567",
   "metadata": {},
   "outputs": [
    {
     "data": {
      "text/html": [
       "<iframe\n",
       "    scrolling=\"no\"\n",
       "    width=\"100%\"\n",
       "    height=\"545px\"\n",
       "    src=\"iframe_figures/figure_24.html\"\n",
       "    frameborder=\"0\"\n",
       "    allowfullscreen\n",
       "></iframe>\n"
      ]
     },
     "metadata": {},
     "output_type": "display_data"
    }
   ],
   "source": [
    "from sdv.evaluation.single_table import get_column_plot\n",
    "\n",
    "fig = get_column_plot(\n",
    "    real_data=amzn_sequence,\n",
    "    synthetic_data=synthetic_data,\n",
    "    column_name='Open',\n",
    "    metadata=metadata\n",
    ")\n",
    "\n",
    "fig.show()"
   ]
  },
  {
   "cell_type": "code",
   "execution_count": 25,
   "id": "0f5a0730-b1e8-4ec0-9561-1f196eeaca6f",
   "metadata": {},
   "outputs": [
    {
     "data": {
      "text/html": [
       "<iframe\n",
       "    scrolling=\"no\"\n",
       "    width=\"100%\"\n",
       "    height=\"545px\"\n",
       "    src=\"iframe_figures/figure_25.html\"\n",
       "    frameborder=\"0\"\n",
       "    allowfullscreen\n",
       "></iframe>\n"
      ]
     },
     "metadata": {},
     "output_type": "display_data"
    }
   ],
   "source": [
    "from sdv.evaluation.single_table import get_column_plot\n",
    "\n",
    "fig = get_column_plot(\n",
    "    real_data=amzn_sequence,\n",
    "    synthetic_data=synthetic_data,\n",
    "    column_name='Close',\n",
    "    metadata=metadata\n",
    ")\n",
    "\n",
    "fig.show()"
   ]
  },
  {
   "cell_type": "code",
   "execution_count": 104,
   "id": "aafd364c-b176-4f22-abb6-8e0684a55435",
   "metadata": {},
   "outputs": [
    {
     "data": {
      "text/html": [
       "<iframe\n",
       "    scrolling=\"no\"\n",
       "    width=\"100%\"\n",
       "    height=\"545px\"\n",
       "    src=\"iframe_figures/figure_104.html\"\n",
       "    frameborder=\"0\"\n",
       "    allowfullscreen\n",
       "></iframe>\n"
      ]
     },
     "metadata": {},
     "output_type": "display_data"
    }
   ],
   "source": [
    "from sdv.evaluation.single_table import get_column_plot\n",
    "\n",
    "fig = get_column_plot(\n",
    "    real_data=amzn_sequence,\n",
    "    synthetic_data=synthetic_data,\n",
    "    column_name='Volume',\n",
    "    metadata=metadata\n",
    ")\n",
    "\n",
    "fig.show()"
   ]
  },
  {
   "cell_type": "code",
   "execution_count": 46,
   "id": "8f6f631d-330d-44b4-9cf0-8f015d1d720a",
   "metadata": {},
   "outputs": [],
   "source": [
    "import plotly.subplots as sp\n",
    "import plotly.graph_objects as go\n",
    "from sdv.evaluation.single_table import get_column_plot"
   ]
  },
  {
   "cell_type": "code",
   "execution_count": 55,
   "id": "d2f4416e-faf2-47d4-8f1f-00651bf630b9",
   "metadata": {},
   "outputs": [],
   "source": [
    "# figs = []\n",
    "# for i, j in enumerate(list(amzn_sequence.columns)[1:5]):\n",
    "\n",
    "#     fig = get_column_plot(\n",
    "#         real_data = amzn_sequence,\n",
    "#         synthetic_data = synthetic_data,\n",
    "#         column_name = j,\n",
    "#         metadata = metadata\n",
    "#     )\n",
    "#     figs.append(fig)\n",
    "\n",
    "# fig = sp.make_subplots(rows = 2, cols = 3, subplot_titles = list(amzn_sequence.columns)[1:5])\n",
    "# rows = 2\n",
    "# columns = 3\n",
    "\n",
    "# for i in range(rows):\n",
    "#     for j in range(columns):\n",
    "#         count = i+j\n",
    "\n",
    "# fig.add_trace(figs[count]['data'][0], row = i+1, col = j+1)\n",
    "# fig.add_trace(figs[count]['data'][1], row = i+1, col = j+1)\n",
    "\n",
    "# fig.update_layout(height = 500, width = 2000, title_text = 'gg')\n",
    "# fig.show()"
   ]
  },
  {
   "cell_type": "code",
   "execution_count": 55,
   "id": "7589c25e-89e9-4a29-a271-8a533527ca70",
   "metadata": {},
   "outputs": [],
   "source": [
    "# figs = []\n",
    "# for i, j in enumerate(list(amzn_sequence.columns)[1:5]):\n",
    "\n",
    "#     fig = get_column_plot(\n",
    "#         real_data = amzn_sequence,\n",
    "#         synthetic_data = synthetic_data,\n",
    "#         column_name = j,\n",
    "#         metadata = metadata\n",
    "#     )\n",
    "#     figs.append(fig)\n",
    "\n",
    "# fig = sp.make_subplots(rows = 2, cols = 3, subplot_titles = list(amzn_sequence.columns)[1:5])\n",
    "# rows = 2\n",
    "# columns = 3\n",
    "\n",
    "# for i in range(rows):\n",
    "#     for j in range(columns):\n",
    "#         count = i+j\n",
    "\n",
    "# fig.add_trace(figs[count]['data'][0], row = i+1, col = j+1)\n",
    "# fig.add_trace(figs[count]['data'][1], row = i+1, col = j+1)\n",
    "\n",
    "# fig.update_layout(height = 500, width = 2000, title_text = 'gg')\n",
    "# fig.show()"
   ]
  },
  {
   "cell_type": "markdown",
   "id": "1057fb2f-bf3f-4724-9563-f92289c30798",
   "metadata": {},
   "source": [
    "## AAPL"
   ]
  },
  {
   "cell_type": "markdown",
   "id": "d58ec0d0-292f-4c44-8fdd-f7912ff085d0",
   "metadata": {},
   "source": [
    "### Here we are going to pick each sequence and check for the synthetic data"
   ]
  },
  {
   "cell_type": "code",
   "execution_count": 35,
   "id": "782bcd5d-542f-41bb-b8dd-70fc27786a3c",
   "metadata": {},
   "outputs": [
    {
     "data": {
      "text/html": [
       "<div>\n",
       "<style scoped>\n",
       "    .dataframe tbody tr th:only-of-type {\n",
       "        vertical-align: middle;\n",
       "    }\n",
       "\n",
       "    .dataframe tbody tr th {\n",
       "        vertical-align: top;\n",
       "    }\n",
       "\n",
       "    .dataframe thead th {\n",
       "        text-align: right;\n",
       "    }\n",
       "</style>\n",
       "<table border=\"1\" class=\"dataframe\">\n",
       "  <thead>\n",
       "    <tr style=\"text-align: right;\">\n",
       "      <th></th>\n",
       "      <th>Symbol</th>\n",
       "      <th>Date</th>\n",
       "      <th>Open</th>\n",
       "      <th>Close</th>\n",
       "      <th>Volume</th>\n",
       "      <th>MarketCap</th>\n",
       "      <th>Sector</th>\n",
       "      <th>Industry</th>\n",
       "    </tr>\n",
       "  </thead>\n",
       "  <tbody>\n",
       "    <tr>\n",
       "      <th>0</th>\n",
       "      <td>AAPL</td>\n",
       "      <td>2018-12-31</td>\n",
       "      <td>39.632500</td>\n",
       "      <td>39.435001</td>\n",
       "      <td>140014000</td>\n",
       "      <td>7.378734e+11</td>\n",
       "      <td>Technology</td>\n",
       "      <td>Computer Manufacturing</td>\n",
       "    </tr>\n",
       "    <tr>\n",
       "      <th>1</th>\n",
       "      <td>AAPL</td>\n",
       "      <td>2019-01-02</td>\n",
       "      <td>38.722500</td>\n",
       "      <td>39.480000</td>\n",
       "      <td>148158800</td>\n",
       "      <td>7.378734e+11</td>\n",
       "      <td>Technology</td>\n",
       "      <td>Computer Manufacturing</td>\n",
       "    </tr>\n",
       "    <tr>\n",
       "      <th>2</th>\n",
       "      <td>AAPL</td>\n",
       "      <td>2019-01-03</td>\n",
       "      <td>35.994999</td>\n",
       "      <td>35.547501</td>\n",
       "      <td>365248800</td>\n",
       "      <td>7.378734e+11</td>\n",
       "      <td>Technology</td>\n",
       "      <td>Computer Manufacturing</td>\n",
       "    </tr>\n",
       "    <tr>\n",
       "      <th>3</th>\n",
       "      <td>AAPL</td>\n",
       "      <td>2019-01-04</td>\n",
       "      <td>36.132500</td>\n",
       "      <td>37.064999</td>\n",
       "      <td>234428400</td>\n",
       "      <td>7.378734e+11</td>\n",
       "      <td>Technology</td>\n",
       "      <td>Computer Manufacturing</td>\n",
       "    </tr>\n",
       "    <tr>\n",
       "      <th>4</th>\n",
       "      <td>AAPL</td>\n",
       "      <td>2019-01-07</td>\n",
       "      <td>37.174999</td>\n",
       "      <td>36.982498</td>\n",
       "      <td>219111200</td>\n",
       "      <td>7.378734e+11</td>\n",
       "      <td>Technology</td>\n",
       "      <td>Computer Manufacturing</td>\n",
       "    </tr>\n",
       "  </tbody>\n",
       "</table>\n",
       "</div>"
      ],
      "text/plain": [
       "  Symbol        Date       Open      Close     Volume     MarketCap  \\\n",
       "0   AAPL  2018-12-31  39.632500  39.435001  140014000  7.378734e+11   \n",
       "1   AAPL  2019-01-02  38.722500  39.480000  148158800  7.378734e+11   \n",
       "2   AAPL  2019-01-03  35.994999  35.547501  365248800  7.378734e+11   \n",
       "3   AAPL  2019-01-04  36.132500  37.064999  234428400  7.378734e+11   \n",
       "4   AAPL  2019-01-07  37.174999  36.982498  219111200  7.378734e+11   \n",
       "\n",
       "       Sector                Industry  \n",
       "0  Technology  Computer Manufacturing  \n",
       "1  Technology  Computer Manufacturing  \n",
       "2  Technology  Computer Manufacturing  \n",
       "3  Technology  Computer Manufacturing  \n",
       "4  Technology  Computer Manufacturing  "
      ]
     },
     "execution_count": 35,
     "metadata": {},
     "output_type": "execute_result"
    }
   ],
   "source": [
    "amzn_sequence = real_data[real_data['Symbol'] == 'AAPL']\n",
    "amzn_sequence.head()"
   ]
  },
  {
   "cell_type": "code",
   "execution_count": 36,
   "id": "513f33de-41de-4c73-b845-38b547f590f9",
   "metadata": {},
   "outputs": [
    {
     "data": {
      "text/plain": [
       "(252, 8)"
      ]
     },
     "execution_count": 36,
     "metadata": {},
     "output_type": "execute_result"
    }
   ],
   "source": [
    "amzn_sequence.shape"
   ]
  },
  {
   "cell_type": "code",
   "execution_count": 37,
   "id": "62f88db1-a26f-4bd1-83d5-2477d9921016",
   "metadata": {},
   "outputs": [],
   "source": [
    "from sdv.single_table import GaussianCopulaSynthesizer\n",
    "\n",
    "synthesizer = GaussianCopulaSynthesizer(metadata)\n",
    "synthesizer.fit(amzn_sequence)"
   ]
  },
  {
   "cell_type": "code",
   "execution_count": 38,
   "id": "d080083a-b822-46b6-8c87-934eb7e4b9b2",
   "metadata": {},
   "outputs": [
    {
     "data": {
      "text/html": [
       "<div>\n",
       "<style scoped>\n",
       "    .dataframe tbody tr th:only-of-type {\n",
       "        vertical-align: middle;\n",
       "    }\n",
       "\n",
       "    .dataframe tbody tr th {\n",
       "        vertical-align: top;\n",
       "    }\n",
       "\n",
       "    .dataframe thead th {\n",
       "        text-align: right;\n",
       "    }\n",
       "</style>\n",
       "<table border=\"1\" class=\"dataframe\">\n",
       "  <thead>\n",
       "    <tr style=\"text-align: right;\">\n",
       "      <th></th>\n",
       "      <th>Symbol</th>\n",
       "      <th>Date</th>\n",
       "      <th>Open</th>\n",
       "      <th>Close</th>\n",
       "      <th>Volume</th>\n",
       "      <th>MarketCap</th>\n",
       "      <th>Sector</th>\n",
       "      <th>Industry</th>\n",
       "    </tr>\n",
       "  </thead>\n",
       "  <tbody>\n",
       "    <tr>\n",
       "      <th>0</th>\n",
       "      <td>AAAA</td>\n",
       "      <td>2019-11-24</td>\n",
       "      <td>61.716011</td>\n",
       "      <td>60.717243</td>\n",
       "      <td>103853504</td>\n",
       "      <td>7.378734e+11</td>\n",
       "      <td>Technology</td>\n",
       "      <td>Computer Manufacturing</td>\n",
       "    </tr>\n",
       "    <tr>\n",
       "      <th>1</th>\n",
       "      <td>AAAB</td>\n",
       "      <td>2019-03-15</td>\n",
       "      <td>49.924154</td>\n",
       "      <td>51.874086</td>\n",
       "      <td>130561525</td>\n",
       "      <td>7.378734e+11</td>\n",
       "      <td>Technology</td>\n",
       "      <td>Computer Manufacturing</td>\n",
       "    </tr>\n",
       "    <tr>\n",
       "      <th>2</th>\n",
       "      <td>AAAC</td>\n",
       "      <td>2019-04-28</td>\n",
       "      <td>45.442901</td>\n",
       "      <td>45.790072</td>\n",
       "      <td>140215634</td>\n",
       "      <td>7.378734e+11</td>\n",
       "      <td>Technology</td>\n",
       "      <td>Computer Manufacturing</td>\n",
       "    </tr>\n",
       "    <tr>\n",
       "      <th>3</th>\n",
       "      <td>AAAD</td>\n",
       "      <td>2019-09-22</td>\n",
       "      <td>57.724595</td>\n",
       "      <td>55.651331</td>\n",
       "      <td>246043646</td>\n",
       "      <td>7.378734e+11</td>\n",
       "      <td>Technology</td>\n",
       "      <td>Computer Manufacturing</td>\n",
       "    </tr>\n",
       "    <tr>\n",
       "      <th>4</th>\n",
       "      <td>AAAE</td>\n",
       "      <td>2019-08-04</td>\n",
       "      <td>49.474526</td>\n",
       "      <td>50.852676</td>\n",
       "      <td>82866719</td>\n",
       "      <td>7.378734e+11</td>\n",
       "      <td>Technology</td>\n",
       "      <td>Computer Manufacturing</td>\n",
       "    </tr>\n",
       "  </tbody>\n",
       "</table>\n",
       "</div>"
      ],
      "text/plain": [
       "  Symbol        Date       Open      Close     Volume     MarketCap  \\\n",
       "0   AAAA  2019-11-24  61.716011  60.717243  103853504  7.378734e+11   \n",
       "1   AAAB  2019-03-15  49.924154  51.874086  130561525  7.378734e+11   \n",
       "2   AAAC  2019-04-28  45.442901  45.790072  140215634  7.378734e+11   \n",
       "3   AAAD  2019-09-22  57.724595  55.651331  246043646  7.378734e+11   \n",
       "4   AAAE  2019-08-04  49.474526  50.852676   82866719  7.378734e+11   \n",
       "\n",
       "       Sector                Industry  \n",
       "0  Technology  Computer Manufacturing  \n",
       "1  Technology  Computer Manufacturing  \n",
       "2  Technology  Computer Manufacturing  \n",
       "3  Technology  Computer Manufacturing  \n",
       "4  Technology  Computer Manufacturing  "
      ]
     },
     "execution_count": 38,
     "metadata": {},
     "output_type": "execute_result"
    }
   ],
   "source": [
    "synthetic_data = synthesizer.sample(num_rows=25200)\n",
    "synthetic_data.head()"
   ]
  },
  {
   "cell_type": "code",
   "execution_count": 39,
   "id": "885e52b3-114e-40ca-83eb-70181782a167",
   "metadata": {},
   "outputs": [],
   "source": [
    "synthetic_data.to_csv('copulas_aapl_synthetic.csv')"
   ]
  },
  {
   "cell_type": "code",
   "execution_count": 40,
   "id": "d710d224-623f-45ab-bf07-b731164ee4d5",
   "metadata": {},
   "outputs": [
    {
     "name": "stdout",
     "output_type": "stream",
     "text": [
      "Generating report ...\n",
      "(1/2) Evaluating Data Validity: : 100%|█████████████████████████████████████████████████| 8/8 [00:00<00:00, 571.37it/s]\n",
      "(2/2) Evaluating Data Structure: : 100%|████████████████████████████████████████████████| 1/1 [00:00<00:00, 333.07it/s]\n",
      "\n",
      "Overall Score: 100.0%\n",
      "\n",
      "Properties:\n",
      "- Data Validity: 100.0%\n",
      "- Data Structure: 100.0%\n"
     ]
    }
   ],
   "source": [
    "from sdv.evaluation.single_table import run_diagnostic\n",
    "\n",
    "diagnostic = run_diagnostic(\n",
    "    real_data=amzn_sequence,\n",
    "    synthetic_data=synthetic_data,\n",
    "    metadata=metadata\n",
    ")"
   ]
  },
  {
   "cell_type": "code",
   "execution_count": 41,
   "id": "f47e7f12-9b85-44c2-93ac-139cebcaa608",
   "metadata": {},
   "outputs": [
    {
     "name": "stdout",
     "output_type": "stream",
     "text": [
      "Generating report ...\n",
      "(1/2) Evaluating Column Shapes: : 100%|█████████████████████████████████████████████████| 8/8 [00:00<00:00, 231.55it/s]\n",
      "(2/2) Evaluating Column Pair Trends: : 100%|███████████████████████████████████████████| 28/28 [00:00<00:00, 79.35it/s]\n",
      "\n",
      "Overall Score: 95.11%\n",
      "\n",
      "Properties:\n",
      "- Column Shapes: 96.08%\n",
      "- Column Pair Trends: 94.15%\n"
     ]
    }
   ],
   "source": [
    "from sdv.evaluation.single_table import evaluate_quality\n",
    "\n",
    "quality_report = evaluate_quality(\n",
    "    amzn_sequence,\n",
    "    synthetic_data,\n",
    "    metadata\n",
    ")"
   ]
  },
  {
   "cell_type": "code",
   "execution_count": 42,
   "id": "dbd781cf-4e62-41a6-aa90-393fb8f5b3b2",
   "metadata": {},
   "outputs": [
    {
     "data": {
      "text/html": [
       "<iframe\n",
       "    scrolling=\"no\"\n",
       "    width=\"100%\"\n",
       "    height=\"545px\"\n",
       "    src=\"iframe_figures/figure_42.html\"\n",
       "    frameborder=\"0\"\n",
       "    allowfullscreen\n",
       "></iframe>\n"
      ]
     },
     "metadata": {},
     "output_type": "display_data"
    }
   ],
   "source": [
    "from sdv.evaluation.single_table import get_column_plot\n",
    "\n",
    "fig = get_column_plot(\n",
    "    real_data=amzn_sequence,\n",
    "    synthetic_data=synthetic_data,\n",
    "    column_name='Date',\n",
    "    metadata=metadata\n",
    ")\n",
    "\n",
    "fig.show()"
   ]
  },
  {
   "cell_type": "code",
   "execution_count": 43,
   "id": "ffa59540-5b82-4e20-9c66-04109f888725",
   "metadata": {},
   "outputs": [
    {
     "data": {
      "text/html": [
       "<iframe\n",
       "    scrolling=\"no\"\n",
       "    width=\"100%\"\n",
       "    height=\"545px\"\n",
       "    src=\"iframe_figures/figure_43.html\"\n",
       "    frameborder=\"0\"\n",
       "    allowfullscreen\n",
       "></iframe>\n"
      ]
     },
     "metadata": {},
     "output_type": "display_data"
    }
   ],
   "source": [
    "from sdv.evaluation.single_table import get_column_plot\n",
    "\n",
    "fig = get_column_plot(\n",
    "    real_data=amzn_sequence,\n",
    "    synthetic_data=synthetic_data,\n",
    "    column_name='Open',\n",
    "    metadata=metadata\n",
    ")\n",
    "\n",
    "fig.show()"
   ]
  },
  {
   "cell_type": "code",
   "execution_count": 44,
   "id": "bd2411f5-2626-4116-bf68-97c118471080",
   "metadata": {},
   "outputs": [
    {
     "data": {
      "text/html": [
       "<iframe\n",
       "    scrolling=\"no\"\n",
       "    width=\"100%\"\n",
       "    height=\"545px\"\n",
       "    src=\"iframe_figures/figure_44.html\"\n",
       "    frameborder=\"0\"\n",
       "    allowfullscreen\n",
       "></iframe>\n"
      ]
     },
     "metadata": {},
     "output_type": "display_data"
    }
   ],
   "source": [
    "from sdv.evaluation.single_table import get_column_plot\n",
    "\n",
    "fig = get_column_plot(\n",
    "    real_data=amzn_sequence,\n",
    "    synthetic_data=synthetic_data,\n",
    "    column_name='Close',\n",
    "    metadata=metadata\n",
    ")\n",
    "\n",
    "fig.show()"
   ]
  },
  {
   "cell_type": "code",
   "execution_count": 45,
   "id": "cfe9d214-0af9-47df-aa0f-e22ca5f88a83",
   "metadata": {
    "scrolled": true
   },
   "outputs": [
    {
     "data": {
      "text/html": [
       "<iframe\n",
       "    scrolling=\"no\"\n",
       "    width=\"100%\"\n",
       "    height=\"545px\"\n",
       "    src=\"iframe_figures/figure_45.html\"\n",
       "    frameborder=\"0\"\n",
       "    allowfullscreen\n",
       "></iframe>\n"
      ]
     },
     "metadata": {},
     "output_type": "display_data"
    }
   ],
   "source": [
    "from sdv.evaluation.single_table import get_column_plot\n",
    "\n",
    "fig = get_column_plot(\n",
    "    real_data=amzn_sequence,\n",
    "    synthetic_data=synthetic_data,\n",
    "    column_name='Volume',\n",
    "    metadata=metadata\n",
    ")\n",
    "\n",
    "fig.show()"
   ]
  },
  {
   "cell_type": "code",
   "execution_count": null,
   "id": "24560cb8-804a-4f4d-8f4a-06465cf72472",
   "metadata": {},
   "outputs": [],
   "source": []
  },
  {
   "cell_type": "code",
   "execution_count": 46,
   "id": "b6cf6dfc-2590-413b-9b27-14aed50042ab",
   "metadata": {},
   "outputs": [
    {
     "data": {
      "text/plain": [
       "Symbol\n",
       "AAPL    252\n",
       "KLAC    252\n",
       "MRNA    252\n",
       "PAYX    252\n",
       "ASML    252\n",
       "       ... \n",
       "JD      252\n",
       "GILD    252\n",
       "FOXA    204\n",
       "FOX     203\n",
       "ZM      177\n",
       "Name: count, Length: 103, dtype: int64"
      ]
     },
     "execution_count": 46,
     "metadata": {},
     "output_type": "execute_result"
    }
   ],
   "source": [
    "real_data.Symbol.value_counts()"
   ]
  },
  {
   "cell_type": "markdown",
   "id": "a2944baa-4ea6-4548-8a3f-48ce9049be47",
   "metadata": {},
   "source": [
    "## PAYX"
   ]
  },
  {
   "cell_type": "markdown",
   "id": "730d1d1d-e468-4e12-81f5-0de4cda703c7",
   "metadata": {},
   "source": [
    "### Here we are going to pick each sequence and check for the synthetic data"
   ]
  },
  {
   "cell_type": "code",
   "execution_count": 47,
   "id": "4b0a3cb2-286b-4807-8901-0806d446098d",
   "metadata": {},
   "outputs": [
    {
     "data": {
      "text/html": [
       "<div>\n",
       "<style scoped>\n",
       "    .dataframe tbody tr th:only-of-type {\n",
       "        vertical-align: middle;\n",
       "    }\n",
       "\n",
       "    .dataframe tbody tr th {\n",
       "        vertical-align: top;\n",
       "    }\n",
       "\n",
       "    .dataframe thead th {\n",
       "        text-align: right;\n",
       "    }\n",
       "</style>\n",
       "<table border=\"1\" class=\"dataframe\">\n",
       "  <thead>\n",
       "    <tr style=\"text-align: right;\">\n",
       "      <th></th>\n",
       "      <th>Symbol</th>\n",
       "      <th>Date</th>\n",
       "      <th>Open</th>\n",
       "      <th>Close</th>\n",
       "      <th>Volume</th>\n",
       "      <th>MarketCap</th>\n",
       "      <th>Sector</th>\n",
       "      <th>Industry</th>\n",
       "    </tr>\n",
       "  </thead>\n",
       "  <tbody>\n",
       "    <tr>\n",
       "      <th>18321</th>\n",
       "      <td>PAYX</td>\n",
       "      <td>2018-12-31</td>\n",
       "      <td>65.180000</td>\n",
       "      <td>65.150002</td>\n",
       "      <td>1599800</td>\n",
       "      <td>2.211192e+10</td>\n",
       "      <td>Consumer Services</td>\n",
       "      <td>Diversified Commercial Services</td>\n",
       "    </tr>\n",
       "    <tr>\n",
       "      <th>18322</th>\n",
       "      <td>PAYX</td>\n",
       "      <td>2019-01-02</td>\n",
       "      <td>64.080002</td>\n",
       "      <td>65.070000</td>\n",
       "      <td>2589400</td>\n",
       "      <td>2.211192e+10</td>\n",
       "      <td>Consumer Services</td>\n",
       "      <td>Diversified Commercial Services</td>\n",
       "    </tr>\n",
       "    <tr>\n",
       "      <th>18323</th>\n",
       "      <td>PAYX</td>\n",
       "      <td>2019-01-03</td>\n",
       "      <td>64.389999</td>\n",
       "      <td>63.970001</td>\n",
       "      <td>2231000</td>\n",
       "      <td>2.211192e+10</td>\n",
       "      <td>Consumer Services</td>\n",
       "      <td>Diversified Commercial Services</td>\n",
       "    </tr>\n",
       "    <tr>\n",
       "      <th>18324</th>\n",
       "      <td>PAYX</td>\n",
       "      <td>2019-01-04</td>\n",
       "      <td>65.139999</td>\n",
       "      <td>66.199997</td>\n",
       "      <td>2137200</td>\n",
       "      <td>2.211192e+10</td>\n",
       "      <td>Consumer Services</td>\n",
       "      <td>Diversified Commercial Services</td>\n",
       "    </tr>\n",
       "    <tr>\n",
       "      <th>18325</th>\n",
       "      <td>PAYX</td>\n",
       "      <td>2019-01-07</td>\n",
       "      <td>66.000000</td>\n",
       "      <td>65.849998</td>\n",
       "      <td>1708100</td>\n",
       "      <td>2.211192e+10</td>\n",
       "      <td>Consumer Services</td>\n",
       "      <td>Diversified Commercial Services</td>\n",
       "    </tr>\n",
       "  </tbody>\n",
       "</table>\n",
       "</div>"
      ],
      "text/plain": [
       "      Symbol        Date       Open      Close   Volume     MarketCap  \\\n",
       "18321   PAYX  2018-12-31  65.180000  65.150002  1599800  2.211192e+10   \n",
       "18322   PAYX  2019-01-02  64.080002  65.070000  2589400  2.211192e+10   \n",
       "18323   PAYX  2019-01-03  64.389999  63.970001  2231000  2.211192e+10   \n",
       "18324   PAYX  2019-01-04  65.139999  66.199997  2137200  2.211192e+10   \n",
       "18325   PAYX  2019-01-07  66.000000  65.849998  1708100  2.211192e+10   \n",
       "\n",
       "                  Sector                         Industry  \n",
       "18321  Consumer Services  Diversified Commercial Services  \n",
       "18322  Consumer Services  Diversified Commercial Services  \n",
       "18323  Consumer Services  Diversified Commercial Services  \n",
       "18324  Consumer Services  Diversified Commercial Services  \n",
       "18325  Consumer Services  Diversified Commercial Services  "
      ]
     },
     "execution_count": 47,
     "metadata": {},
     "output_type": "execute_result"
    }
   ],
   "source": [
    "amzn_sequence = real_data[real_data['Symbol'] == 'PAYX']\n",
    "amzn_sequence.head()"
   ]
  },
  {
   "cell_type": "code",
   "execution_count": 48,
   "id": "78a8c4a2-e9a9-4221-891c-4976cac49ef9",
   "metadata": {},
   "outputs": [],
   "source": [
    "synthetic_data.to_csv('copulas_payx_synthetic.csv')"
   ]
  },
  {
   "cell_type": "code",
   "execution_count": 49,
   "id": "ded00235-cdc5-47f0-9d3b-d534512677a8",
   "metadata": {},
   "outputs": [
    {
     "data": {
      "text/plain": [
       "(252, 8)"
      ]
     },
     "execution_count": 49,
     "metadata": {},
     "output_type": "execute_result"
    }
   ],
   "source": [
    "amzn_sequence.shape"
   ]
  },
  {
   "cell_type": "code",
   "execution_count": 50,
   "id": "5fca10a6-40a4-49ba-a94a-9a49be749066",
   "metadata": {},
   "outputs": [],
   "source": [
    "from sdv.single_table import GaussianCopulaSynthesizer\n",
    "\n",
    "synthesizer = GaussianCopulaSynthesizer(metadata)\n",
    "synthesizer.fit(amzn_sequence)"
   ]
  },
  {
   "cell_type": "code",
   "execution_count": 51,
   "id": "37e4a23e-8020-4c52-b905-1f1072b4394a",
   "metadata": {},
   "outputs": [
    {
     "data": {
      "text/html": [
       "<div>\n",
       "<style scoped>\n",
       "    .dataframe tbody tr th:only-of-type {\n",
       "        vertical-align: middle;\n",
       "    }\n",
       "\n",
       "    .dataframe tbody tr th {\n",
       "        vertical-align: top;\n",
       "    }\n",
       "\n",
       "    .dataframe thead th {\n",
       "        text-align: right;\n",
       "    }\n",
       "</style>\n",
       "<table border=\"1\" class=\"dataframe\">\n",
       "  <thead>\n",
       "    <tr style=\"text-align: right;\">\n",
       "      <th></th>\n",
       "      <th>Symbol</th>\n",
       "      <th>Date</th>\n",
       "      <th>Open</th>\n",
       "      <th>Close</th>\n",
       "      <th>Volume</th>\n",
       "      <th>MarketCap</th>\n",
       "      <th>Sector</th>\n",
       "      <th>Industry</th>\n",
       "    </tr>\n",
       "  </thead>\n",
       "  <tbody>\n",
       "    <tr>\n",
       "      <th>0</th>\n",
       "      <td>AAAA</td>\n",
       "      <td>2019-11-23</td>\n",
       "      <td>85.872620</td>\n",
       "      <td>86.346630</td>\n",
       "      <td>1224555</td>\n",
       "      <td>2.211192e+10</td>\n",
       "      <td>Consumer Services</td>\n",
       "      <td>Diversified Commercial Services</td>\n",
       "    </tr>\n",
       "    <tr>\n",
       "      <th>1</th>\n",
       "      <td>AAAB</td>\n",
       "      <td>2019-02-02</td>\n",
       "      <td>78.235251</td>\n",
       "      <td>86.358901</td>\n",
       "      <td>1386844</td>\n",
       "      <td>2.211192e+10</td>\n",
       "      <td>Consumer Services</td>\n",
       "      <td>Diversified Commercial Services</td>\n",
       "    </tr>\n",
       "    <tr>\n",
       "      <th>2</th>\n",
       "      <td>AAAC</td>\n",
       "      <td>2019-05-12</td>\n",
       "      <td>71.994881</td>\n",
       "      <td>78.159492</td>\n",
       "      <td>1447815</td>\n",
       "      <td>2.211192e+10</td>\n",
       "      <td>Consumer Services</td>\n",
       "      <td>Diversified Commercial Services</td>\n",
       "    </tr>\n",
       "    <tr>\n",
       "      <th>3</th>\n",
       "      <td>AAAD</td>\n",
       "      <td>2019-09-25</td>\n",
       "      <td>80.567565</td>\n",
       "      <td>78.511100</td>\n",
       "      <td>795521</td>\n",
       "      <td>2.211192e+10</td>\n",
       "      <td>Consumer Services</td>\n",
       "      <td>Diversified Commercial Services</td>\n",
       "    </tr>\n",
       "    <tr>\n",
       "      <th>4</th>\n",
       "      <td>AAAE</td>\n",
       "      <td>2019-10-01</td>\n",
       "      <td>82.027020</td>\n",
       "      <td>86.601940</td>\n",
       "      <td>2237979</td>\n",
       "      <td>2.211192e+10</td>\n",
       "      <td>Consumer Services</td>\n",
       "      <td>Diversified Commercial Services</td>\n",
       "    </tr>\n",
       "  </tbody>\n",
       "</table>\n",
       "</div>"
      ],
      "text/plain": [
       "  Symbol        Date       Open      Close   Volume     MarketCap  \\\n",
       "0   AAAA  2019-11-23  85.872620  86.346630  1224555  2.211192e+10   \n",
       "1   AAAB  2019-02-02  78.235251  86.358901  1386844  2.211192e+10   \n",
       "2   AAAC  2019-05-12  71.994881  78.159492  1447815  2.211192e+10   \n",
       "3   AAAD  2019-09-25  80.567565  78.511100   795521  2.211192e+10   \n",
       "4   AAAE  2019-10-01  82.027020  86.601940  2237979  2.211192e+10   \n",
       "\n",
       "              Sector                         Industry  \n",
       "0  Consumer Services  Diversified Commercial Services  \n",
       "1  Consumer Services  Diversified Commercial Services  \n",
       "2  Consumer Services  Diversified Commercial Services  \n",
       "3  Consumer Services  Diversified Commercial Services  \n",
       "4  Consumer Services  Diversified Commercial Services  "
      ]
     },
     "execution_count": 51,
     "metadata": {},
     "output_type": "execute_result"
    }
   ],
   "source": [
    "synthetic_data = synthesizer.sample(num_rows=25200)\n",
    "synthetic_data.head()"
   ]
  },
  {
   "cell_type": "code",
   "execution_count": 52,
   "id": "a9eb8927-3723-44fc-a39f-700bd37b83ed",
   "metadata": {},
   "outputs": [
    {
     "name": "stdout",
     "output_type": "stream",
     "text": [
      "Generating report ...\n",
      "(1/2) Evaluating Data Validity: : 100%|█████████████████████████████████████████████████| 8/8 [00:00<00:00, 370.87it/s]\n",
      "(2/2) Evaluating Data Structure: : 100%|████████████████████████████████████████████████| 1/1 [00:00<00:00, 331.78it/s]\n",
      "\n",
      "Overall Score: 100.0%\n",
      "\n",
      "Properties:\n",
      "- Data Validity: 100.0%\n",
      "- Data Structure: 100.0%\n"
     ]
    }
   ],
   "source": [
    "from sdv.evaluation.single_table import run_diagnostic\n",
    "\n",
    "diagnostic = run_diagnostic(\n",
    "    real_data=amzn_sequence,\n",
    "    synthetic_data=synthetic_data,\n",
    "    metadata=metadata\n",
    ")"
   ]
  },
  {
   "cell_type": "code",
   "execution_count": 53,
   "id": "2936901c-dfe5-459b-b6f9-9daed26aeb45",
   "metadata": {},
   "outputs": [
    {
     "name": "stdout",
     "output_type": "stream",
     "text": [
      "Generating report ...\n",
      "(1/2) Evaluating Column Shapes: : 100%|█████████████████████████████████████████████████| 8/8 [00:00<00:00, 109.49it/s]\n",
      "(2/2) Evaluating Column Pair Trends: : 100%|███████████████████████████████████████████| 28/28 [00:00<00:00, 62.50it/s]\n",
      "\n",
      "Overall Score: 65.71%\n",
      "\n",
      "Properties:\n",
      "- Column Shapes: 91.73%\n",
      "- Column Pair Trends: 39.68%\n"
     ]
    }
   ],
   "source": [
    "from sdv.evaluation.single_table import evaluate_quality\n",
    "\n",
    "quality_report = evaluate_quality(\n",
    "    amzn_sequence,\n",
    "    synthetic_data,\n",
    "    metadata\n",
    ")"
   ]
  },
  {
   "cell_type": "code",
   "execution_count": 54,
   "id": "5b48622a-4f71-46e8-a392-5627d82a2de0",
   "metadata": {},
   "outputs": [
    {
     "data": {
      "text/html": [
       "<iframe\n",
       "    scrolling=\"no\"\n",
       "    width=\"100%\"\n",
       "    height=\"545px\"\n",
       "    src=\"iframe_figures/figure_54.html\"\n",
       "    frameborder=\"0\"\n",
       "    allowfullscreen\n",
       "></iframe>\n"
      ]
     },
     "metadata": {},
     "output_type": "display_data"
    }
   ],
   "source": [
    "from sdv.evaluation.single_table import get_column_plot\n",
    "\n",
    "fig = get_column_plot(\n",
    "    real_data=amzn_sequence,\n",
    "    synthetic_data=synthetic_data,\n",
    "    column_name='Date',\n",
    "    metadata=metadata\n",
    ")\n",
    "\n",
    "fig.show()"
   ]
  },
  {
   "cell_type": "code",
   "execution_count": 55,
   "id": "ae6f1c5b-3c7e-410b-8acb-ae0d71c68b75",
   "metadata": {},
   "outputs": [
    {
     "data": {
      "text/html": [
       "<iframe\n",
       "    scrolling=\"no\"\n",
       "    width=\"100%\"\n",
       "    height=\"545px\"\n",
       "    src=\"iframe_figures/figure_55.html\"\n",
       "    frameborder=\"0\"\n",
       "    allowfullscreen\n",
       "></iframe>\n"
      ]
     },
     "metadata": {},
     "output_type": "display_data"
    }
   ],
   "source": [
    "from sdv.evaluation.single_table import get_column_plot\n",
    "\n",
    "fig = get_column_plot(\n",
    "    real_data=amzn_sequence,\n",
    "    synthetic_data=synthetic_data,\n",
    "    column_name='Open',\n",
    "    metadata=metadata\n",
    ")\n",
    "\n",
    "fig.show()"
   ]
  },
  {
   "cell_type": "code",
   "execution_count": 56,
   "id": "dba63107-0fbd-4308-97b8-8d7bce534a44",
   "metadata": {},
   "outputs": [
    {
     "data": {
      "text/html": [
       "<iframe\n",
       "    scrolling=\"no\"\n",
       "    width=\"100%\"\n",
       "    height=\"545px\"\n",
       "    src=\"iframe_figures/figure_56.html\"\n",
       "    frameborder=\"0\"\n",
       "    allowfullscreen\n",
       "></iframe>\n"
      ]
     },
     "metadata": {},
     "output_type": "display_data"
    }
   ],
   "source": [
    "from sdv.evaluation.single_table import get_column_plot\n",
    "\n",
    "fig = get_column_plot(\n",
    "    real_data=amzn_sequence,\n",
    "    synthetic_data=synthetic_data,\n",
    "    column_name='Close',\n",
    "    metadata=metadata\n",
    ")\n",
    "\n",
    "fig.show()"
   ]
  },
  {
   "cell_type": "code",
   "execution_count": 57,
   "id": "a072645a-0990-4c00-96e8-d5b9d154b3e5",
   "metadata": {},
   "outputs": [
    {
     "data": {
      "text/html": [
       "<iframe\n",
       "    scrolling=\"no\"\n",
       "    width=\"100%\"\n",
       "    height=\"545px\"\n",
       "    src=\"iframe_figures/figure_57.html\"\n",
       "    frameborder=\"0\"\n",
       "    allowfullscreen\n",
       "></iframe>\n"
      ]
     },
     "metadata": {},
     "output_type": "display_data"
    }
   ],
   "source": [
    "from sdv.evaluation.single_table import get_column_plot\n",
    "\n",
    "fig = get_column_plot(\n",
    "    real_data=amzn_sequence,\n",
    "    synthetic_data=synthetic_data,\n",
    "    column_name='Volume',\n",
    "    metadata=metadata\n",
    ")\n",
    "\n",
    "fig.show()"
   ]
  },
  {
   "cell_type": "code",
   "execution_count": null,
   "id": "dfb94757-8494-4ad8-ae26-1b50ac91296e",
   "metadata": {},
   "outputs": [],
   "source": []
  },
  {
   "cell_type": "code",
   "execution_count": null,
   "id": "ebedcebf-d58a-45c5-9609-9ab766596eb0",
   "metadata": {},
   "outputs": [],
   "source": []
  },
  {
   "cell_type": "code",
   "execution_count": 118,
   "id": "90f65c14-c1c0-4e98-a7b4-9bbd1131847c",
   "metadata": {},
   "outputs": [
    {
     "data": {
      "text/plain": [
       "Symbol\n",
       "AAPL    252\n",
       "KLAC    252\n",
       "MRNA    252\n",
       "PAYX    252\n",
       "ASML    252\n",
       "       ... \n",
       "JD      252\n",
       "GILD    252\n",
       "FOXA    204\n",
       "FOX     203\n",
       "ZM      177\n",
       "Name: count, Length: 103, dtype: int64"
      ]
     },
     "execution_count": 118,
     "metadata": {},
     "output_type": "execute_result"
    }
   ],
   "source": [
    "real_data.Symbol.value_counts()"
   ]
  },
  {
   "cell_type": "markdown",
   "id": "9460fa9e-f6cd-4acf-a4ee-fd02f059a32b",
   "metadata": {},
   "source": [
    "## ASML"
   ]
  },
  {
   "cell_type": "markdown",
   "id": "4dd8d440-4244-4205-adc6-132253809d5b",
   "metadata": {},
   "source": [
    "### Here we are going to pick each sequence and check for the synthetic data"
   ]
  },
  {
   "cell_type": "code",
   "execution_count": 58,
   "id": "69a9b22d-0476-4f71-8b43-02dfd20a682f",
   "metadata": {},
   "outputs": [
    {
     "data": {
      "text/html": [
       "<div>\n",
       "<style scoped>\n",
       "    .dataframe tbody tr th:only-of-type {\n",
       "        vertical-align: middle;\n",
       "    }\n",
       "\n",
       "    .dataframe tbody tr th {\n",
       "        vertical-align: top;\n",
       "    }\n",
       "\n",
       "    .dataframe thead th {\n",
       "        text-align: right;\n",
       "    }\n",
       "</style>\n",
       "<table border=\"1\" class=\"dataframe\">\n",
       "  <thead>\n",
       "    <tr style=\"text-align: right;\">\n",
       "      <th></th>\n",
       "      <th>Symbol</th>\n",
       "      <th>Date</th>\n",
       "      <th>Open</th>\n",
       "      <th>Close</th>\n",
       "      <th>Volume</th>\n",
       "      <th>MarketCap</th>\n",
       "      <th>Sector</th>\n",
       "      <th>Industry</th>\n",
       "    </tr>\n",
       "  </thead>\n",
       "  <tbody>\n",
       "    <tr>\n",
       "      <th>18069</th>\n",
       "      <td>ASML</td>\n",
       "      <td>2018-12-31</td>\n",
       "      <td>156.039993</td>\n",
       "      <td>155.619995</td>\n",
       "      <td>356500</td>\n",
       "      <td>9.002084e+09</td>\n",
       "      <td>Technology</td>\n",
       "      <td>Industrial Machinery/Components</td>\n",
       "    </tr>\n",
       "    <tr>\n",
       "      <th>18070</th>\n",
       "      <td>ASML</td>\n",
       "      <td>2019-01-02</td>\n",
       "      <td>154.279999</td>\n",
       "      <td>156.300003</td>\n",
       "      <td>602500</td>\n",
       "      <td>9.002084e+09</td>\n",
       "      <td>Technology</td>\n",
       "      <td>Industrial Machinery/Components</td>\n",
       "    </tr>\n",
       "    <tr>\n",
       "      <th>18071</th>\n",
       "      <td>ASML</td>\n",
       "      <td>2019-01-03</td>\n",
       "      <td>151.190002</td>\n",
       "      <td>147.679993</td>\n",
       "      <td>1078600</td>\n",
       "      <td>9.002084e+09</td>\n",
       "      <td>Technology</td>\n",
       "      <td>Industrial Machinery/Components</td>\n",
       "    </tr>\n",
       "    <tr>\n",
       "      <th>18072</th>\n",
       "      <td>ASML</td>\n",
       "      <td>2019-01-04</td>\n",
       "      <td>150.649994</td>\n",
       "      <td>154.070007</td>\n",
       "      <td>589500</td>\n",
       "      <td>9.002084e+09</td>\n",
       "      <td>Technology</td>\n",
       "      <td>Industrial Machinery/Components</td>\n",
       "    </tr>\n",
       "    <tr>\n",
       "      <th>18073</th>\n",
       "      <td>ASML</td>\n",
       "      <td>2019-01-07</td>\n",
       "      <td>156.500000</td>\n",
       "      <td>157.589996</td>\n",
       "      <td>971900</td>\n",
       "      <td>9.002084e+09</td>\n",
       "      <td>Technology</td>\n",
       "      <td>Industrial Machinery/Components</td>\n",
       "    </tr>\n",
       "  </tbody>\n",
       "</table>\n",
       "</div>"
      ],
      "text/plain": [
       "      Symbol        Date        Open       Close   Volume     MarketCap  \\\n",
       "18069   ASML  2018-12-31  156.039993  155.619995   356500  9.002084e+09   \n",
       "18070   ASML  2019-01-02  154.279999  156.300003   602500  9.002084e+09   \n",
       "18071   ASML  2019-01-03  151.190002  147.679993  1078600  9.002084e+09   \n",
       "18072   ASML  2019-01-04  150.649994  154.070007   589500  9.002084e+09   \n",
       "18073   ASML  2019-01-07  156.500000  157.589996   971900  9.002084e+09   \n",
       "\n",
       "           Sector                         Industry  \n",
       "18069  Technology  Industrial Machinery/Components  \n",
       "18070  Technology  Industrial Machinery/Components  \n",
       "18071  Technology  Industrial Machinery/Components  \n",
       "18072  Technology  Industrial Machinery/Components  \n",
       "18073  Technology  Industrial Machinery/Components  "
      ]
     },
     "execution_count": 58,
     "metadata": {},
     "output_type": "execute_result"
    }
   ],
   "source": [
    "amzn_sequence = real_data[real_data['Symbol'] == 'ASML']\n",
    "amzn_sequence.head()"
   ]
  },
  {
   "cell_type": "code",
   "execution_count": 59,
   "id": "51fc90df-fa42-49c0-94ca-125d154ff7f6",
   "metadata": {},
   "outputs": [
    {
     "data": {
      "text/plain": [
       "(252, 8)"
      ]
     },
     "execution_count": 59,
     "metadata": {},
     "output_type": "execute_result"
    }
   ],
   "source": [
    "amzn_sequence.shape"
   ]
  },
  {
   "cell_type": "code",
   "execution_count": 60,
   "id": "fb0a338a-b0e1-45d8-9048-397f7bab22e7",
   "metadata": {},
   "outputs": [],
   "source": [
    "from sdv.single_table import GaussianCopulaSynthesizer\n",
    "\n",
    "synthesizer = GaussianCopulaSynthesizer(metadata)\n",
    "synthesizer.fit(amzn_sequence)"
   ]
  },
  {
   "cell_type": "code",
   "execution_count": 61,
   "id": "daae7af4-30b2-49e8-862e-4a9bee92392b",
   "metadata": {},
   "outputs": [
    {
     "data": {
      "text/html": [
       "<div>\n",
       "<style scoped>\n",
       "    .dataframe tbody tr th:only-of-type {\n",
       "        vertical-align: middle;\n",
       "    }\n",
       "\n",
       "    .dataframe tbody tr th {\n",
       "        vertical-align: top;\n",
       "    }\n",
       "\n",
       "    .dataframe thead th {\n",
       "        text-align: right;\n",
       "    }\n",
       "</style>\n",
       "<table border=\"1\" class=\"dataframe\">\n",
       "  <thead>\n",
       "    <tr style=\"text-align: right;\">\n",
       "      <th></th>\n",
       "      <th>Symbol</th>\n",
       "      <th>Date</th>\n",
       "      <th>Open</th>\n",
       "      <th>Close</th>\n",
       "      <th>Volume</th>\n",
       "      <th>MarketCap</th>\n",
       "      <th>Sector</th>\n",
       "      <th>Industry</th>\n",
       "    </tr>\n",
       "  </thead>\n",
       "  <tbody>\n",
       "    <tr>\n",
       "      <th>0</th>\n",
       "      <td>AAAA</td>\n",
       "      <td>2019-11-20</td>\n",
       "      <td>258.086983</td>\n",
       "      <td>259.437719</td>\n",
       "      <td>594918</td>\n",
       "      <td>9.002084e+09</td>\n",
       "      <td>Technology</td>\n",
       "      <td>Industrial Machinery/Components</td>\n",
       "    </tr>\n",
       "    <tr>\n",
       "      <th>1</th>\n",
       "      <td>AAAB</td>\n",
       "      <td>2019-03-14</td>\n",
       "      <td>212.859381</td>\n",
       "      <td>211.366230</td>\n",
       "      <td>761015</td>\n",
       "      <td>9.002084e+09</td>\n",
       "      <td>Technology</td>\n",
       "      <td>Industrial Machinery/Components</td>\n",
       "    </tr>\n",
       "    <tr>\n",
       "      <th>2</th>\n",
       "      <td>AAAC</td>\n",
       "      <td>2019-04-21</td>\n",
       "      <td>192.859926</td>\n",
       "      <td>191.905743</td>\n",
       "      <td>837442</td>\n",
       "      <td>9.002084e+09</td>\n",
       "      <td>Technology</td>\n",
       "      <td>Industrial Machinery/Components</td>\n",
       "    </tr>\n",
       "    <tr>\n",
       "      <th>3</th>\n",
       "      <td>AAAD</td>\n",
       "      <td>2019-08-26</td>\n",
       "      <td>236.633025</td>\n",
       "      <td>241.653675</td>\n",
       "      <td>1668567</td>\n",
       "      <td>9.002084e+09</td>\n",
       "      <td>Technology</td>\n",
       "      <td>Industrial Machinery/Components</td>\n",
       "    </tr>\n",
       "    <tr>\n",
       "      <th>4</th>\n",
       "      <td>AAAE</td>\n",
       "      <td>2019-08-10</td>\n",
       "      <td>215.724727</td>\n",
       "      <td>211.113530</td>\n",
       "      <td>450733</td>\n",
       "      <td>9.002084e+09</td>\n",
       "      <td>Technology</td>\n",
       "      <td>Industrial Machinery/Components</td>\n",
       "    </tr>\n",
       "  </tbody>\n",
       "</table>\n",
       "</div>"
      ],
      "text/plain": [
       "  Symbol        Date        Open       Close   Volume     MarketCap  \\\n",
       "0   AAAA  2019-11-20  258.086983  259.437719   594918  9.002084e+09   \n",
       "1   AAAB  2019-03-14  212.859381  211.366230   761015  9.002084e+09   \n",
       "2   AAAC  2019-04-21  192.859926  191.905743   837442  9.002084e+09   \n",
       "3   AAAD  2019-08-26  236.633025  241.653675  1668567  9.002084e+09   \n",
       "4   AAAE  2019-08-10  215.724727  211.113530   450733  9.002084e+09   \n",
       "\n",
       "       Sector                         Industry  \n",
       "0  Technology  Industrial Machinery/Components  \n",
       "1  Technology  Industrial Machinery/Components  \n",
       "2  Technology  Industrial Machinery/Components  \n",
       "3  Technology  Industrial Machinery/Components  \n",
       "4  Technology  Industrial Machinery/Components  "
      ]
     },
     "execution_count": 61,
     "metadata": {},
     "output_type": "execute_result"
    }
   ],
   "source": [
    "synthetic_data = synthesizer.sample(num_rows=25200)\n",
    "synthetic_data.head()"
   ]
  },
  {
   "cell_type": "code",
   "execution_count": 62,
   "id": "6e078c2e-8c05-4347-8700-127e90eff993",
   "metadata": {},
   "outputs": [],
   "source": [
    "synthetic_data.to_csv('copulas_asml_synthetic.csv')"
   ]
  },
  {
   "cell_type": "code",
   "execution_count": 63,
   "id": "54938d57-9112-4575-a83c-93b4bab914df",
   "metadata": {},
   "outputs": [
    {
     "name": "stdout",
     "output_type": "stream",
     "text": [
      "Generating report ...\n",
      "(1/2) Evaluating Data Validity: : 100%|█████████████████████████████████████████████████| 8/8 [00:00<00:00, 571.61it/s]\n",
      "(2/2) Evaluating Data Structure: : 100%|████████████████████████████████████████████████| 1/1 [00:00<00:00, 332.64it/s]\n",
      "\n",
      "Overall Score: 100.0%\n",
      "\n",
      "Properties:\n",
      "- Data Validity: 100.0%\n",
      "- Data Structure: 100.0%\n"
     ]
    }
   ],
   "source": [
    "from sdv.evaluation.single_table import run_diagnostic\n",
    "\n",
    "diagnostic = run_diagnostic(\n",
    "    real_data=amzn_sequence,\n",
    "    synthetic_data=synthetic_data,\n",
    "    metadata=metadata\n",
    ")"
   ]
  },
  {
   "cell_type": "code",
   "execution_count": 64,
   "id": "ce1d5490-ad53-47f4-bc7f-17b971143586",
   "metadata": {},
   "outputs": [
    {
     "name": "stdout",
     "output_type": "stream",
     "text": [
      "Generating report ...\n",
      "(1/2) Evaluating Column Shapes: : 100%|█████████████████████████████████████████████████| 8/8 [00:00<00:00, 231.63it/s]\n",
      "(2/2) Evaluating Column Pair Trends: : 100%|███████████████████████████████████████████| 28/28 [00:01<00:00, 14.97it/s]\n",
      "\n",
      "Overall Score: 68.46%\n",
      "\n",
      "Properties:\n",
      "- Column Shapes: 96.17%\n",
      "- Column Pair Trends: 40.76%\n"
     ]
    }
   ],
   "source": [
    "from sdv.evaluation.single_table import evaluate_quality\n",
    "\n",
    "quality_report = evaluate_quality(\n",
    "    amzn_sequence,\n",
    "    synthetic_data,\n",
    "    metadata\n",
    ")"
   ]
  },
  {
   "cell_type": "code",
   "execution_count": 65,
   "id": "ac16ab94-82b7-4856-b675-46e618f71f02",
   "metadata": {},
   "outputs": [
    {
     "data": {
      "text/html": [
       "<iframe\n",
       "    scrolling=\"no\"\n",
       "    width=\"100%\"\n",
       "    height=\"545px\"\n",
       "    src=\"iframe_figures/figure_65.html\"\n",
       "    frameborder=\"0\"\n",
       "    allowfullscreen\n",
       "></iframe>\n"
      ]
     },
     "metadata": {},
     "output_type": "display_data"
    }
   ],
   "source": [
    "from sdv.evaluation.single_table import get_column_plot\n",
    "\n",
    "fig = get_column_plot(\n",
    "    real_data=amzn_sequence,\n",
    "    synthetic_data=synthetic_data,\n",
    "    column_name='Date',\n",
    "    metadata=metadata\n",
    ")\n",
    "\n",
    "fig.show()"
   ]
  },
  {
   "cell_type": "code",
   "execution_count": 66,
   "id": "2f462dfa-207f-438a-9468-2ce13d15fae5",
   "metadata": {},
   "outputs": [
    {
     "data": {
      "text/html": [
       "<iframe\n",
       "    scrolling=\"no\"\n",
       "    width=\"100%\"\n",
       "    height=\"545px\"\n",
       "    src=\"iframe_figures/figure_66.html\"\n",
       "    frameborder=\"0\"\n",
       "    allowfullscreen\n",
       "></iframe>\n"
      ]
     },
     "metadata": {},
     "output_type": "display_data"
    }
   ],
   "source": [
    "from sdv.evaluation.single_table import get_column_plot\n",
    "\n",
    "fig = get_column_plot(\n",
    "    real_data=amzn_sequence,\n",
    "    synthetic_data=synthetic_data,\n",
    "    column_name='Open',\n",
    "    metadata=metadata\n",
    ")\n",
    "\n",
    "fig.show()"
   ]
  },
  {
   "cell_type": "code",
   "execution_count": 67,
   "id": "3bb44fb4-4db4-48dc-8ab2-f12984b3fac9",
   "metadata": {},
   "outputs": [
    {
     "data": {
      "text/html": [
       "<iframe\n",
       "    scrolling=\"no\"\n",
       "    width=\"100%\"\n",
       "    height=\"545px\"\n",
       "    src=\"iframe_figures/figure_67.html\"\n",
       "    frameborder=\"0\"\n",
       "    allowfullscreen\n",
       "></iframe>\n"
      ]
     },
     "metadata": {},
     "output_type": "display_data"
    }
   ],
   "source": [
    "from sdv.evaluation.single_table import get_column_plot\n",
    "\n",
    "fig = get_column_plot(\n",
    "    real_data=amzn_sequence,\n",
    "    synthetic_data=synthetic_data,\n",
    "    column_name='Close',\n",
    "    metadata=metadata\n",
    ")\n",
    "\n",
    "fig.show()"
   ]
  },
  {
   "cell_type": "code",
   "execution_count": 68,
   "id": "9ba7f72c-28cf-41c8-a9c6-1665f6a0d90f",
   "metadata": {},
   "outputs": [
    {
     "data": {
      "text/html": [
       "<iframe\n",
       "    scrolling=\"no\"\n",
       "    width=\"100%\"\n",
       "    height=\"545px\"\n",
       "    src=\"iframe_figures/figure_68.html\"\n",
       "    frameborder=\"0\"\n",
       "    allowfullscreen\n",
       "></iframe>\n"
      ]
     },
     "metadata": {},
     "output_type": "display_data"
    }
   ],
   "source": [
    "from sdv.evaluation.single_table import get_column_plot\n",
    "\n",
    "fig = get_column_plot(\n",
    "    real_data=amzn_sequence,\n",
    "    synthetic_data=synthetic_data,\n",
    "    column_name='Volume',\n",
    "    metadata=metadata\n",
    ")\n",
    "\n",
    "fig.show()"
   ]
  }
 ],
 "metadata": {
  "kernelspec": {
   "display_name": "Python 3 (ipykernel)",
   "language": "python",
   "name": "python3"
  },
  "language_info": {
   "codemirror_mode": {
    "name": "ipython",
    "version": 3
   },
   "file_extension": ".py",
   "mimetype": "text/x-python",
   "name": "python",
   "nbconvert_exporter": "python",
   "pygments_lexer": "ipython3",
   "version": "3.10.6"
  }
 },
 "nbformat": 4,
 "nbformat_minor": 5
}
