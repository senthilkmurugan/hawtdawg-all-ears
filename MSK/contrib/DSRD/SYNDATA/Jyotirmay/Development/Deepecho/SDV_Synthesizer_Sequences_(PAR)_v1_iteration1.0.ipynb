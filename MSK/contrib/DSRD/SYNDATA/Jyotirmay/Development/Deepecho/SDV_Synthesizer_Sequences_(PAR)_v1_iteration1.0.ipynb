{
 "cells": [
  {
   "cell_type": "markdown",
   "metadata": {
    "id": "8bORDkGXJcgr"
   },
   "source": [
    "# Synthesize Sequences (PAR)\n",
    "\n",
    "In this notebook, we'll use the SDV library to create multiple, synthetic sequences. The SDV uses machine learning to learn patterns from real data and emulates them when creating synthetic data.\n",
    "\n",
    "We'll use the **PAR** algorithm to do this. PAR uses a neural network to create sequences."
   ]
  },
  {
   "cell_type": "markdown",
   "metadata": {
    "id": "dpXl4XLoJkRJ"
   },
   "source": [
    "# 1. Loading the demo data\n",
    "For this demo, we'll use a fake dataset that describes the daily prices of the 100 largest companies listed in the NASDAQ stock exchanges."
   ]
  },
  {
   "cell_type": "code",
   "execution_count": 75,
   "metadata": {
    "id": "S3lUE8o7JexH"
   },
   "outputs": [],
   "source": [
    "from sdv.datasets.demo import download_demo\n",
    "\n",
    "real_data, metadata = download_demo(\n",
    "    modality='sequential',\n",
    "    dataset_name='nasdaq100_2019'\n",
    ")"
   ]
  },
  {
   "cell_type": "markdown",
   "metadata": {
    "id": "nhDMl8RdJpmE"
   },
   "source": [
    "**Details**: The data is available as a single table.\n",
    "- `Symbol` describes the ticker symbol of the company\n",
    "- `Date` describes the point of time that the prices correspond to\n",
    "-  Columns such as `Open`, `Close` and `Volume` are measurements that change daily\n",
    "- Columns such `Sector` and `Industry` describe fixed, unchanging values for every company"
   ]
  },
  {
   "cell_type": "code",
   "execution_count": 76,
   "metadata": {
    "colab": {
     "base_uri": "https://localhost:8080/",
     "height": 206
    },
    "id": "afXlHtrDJoNk",
    "outputId": "6635c6bd-fc19-48a9-dfcf-7477699c5983"
   },
   "outputs": [
    {
     "data": {
      "text/html": [
       "<div>\n",
       "<style scoped>\n",
       "    .dataframe tbody tr th:only-of-type {\n",
       "        vertical-align: middle;\n",
       "    }\n",
       "\n",
       "    .dataframe tbody tr th {\n",
       "        vertical-align: top;\n",
       "    }\n",
       "\n",
       "    .dataframe thead th {\n",
       "        text-align: right;\n",
       "    }\n",
       "</style>\n",
       "<table border=\"1\" class=\"dataframe\">\n",
       "  <thead>\n",
       "    <tr style=\"text-align: right;\">\n",
       "      <th></th>\n",
       "      <th>Symbol</th>\n",
       "      <th>Date</th>\n",
       "      <th>Open</th>\n",
       "      <th>Close</th>\n",
       "      <th>Volume</th>\n",
       "      <th>MarketCap</th>\n",
       "      <th>Sector</th>\n",
       "      <th>Industry</th>\n",
       "    </tr>\n",
       "  </thead>\n",
       "  <tbody>\n",
       "    <tr>\n",
       "      <th>0</th>\n",
       "      <td>AAPL</td>\n",
       "      <td>2018-12-31</td>\n",
       "      <td>39.632500</td>\n",
       "      <td>39.435001</td>\n",
       "      <td>140014000</td>\n",
       "      <td>7.378734e+11</td>\n",
       "      <td>Technology</td>\n",
       "      <td>Computer Manufacturing</td>\n",
       "    </tr>\n",
       "    <tr>\n",
       "      <th>1</th>\n",
       "      <td>AAPL</td>\n",
       "      <td>2019-01-02</td>\n",
       "      <td>38.722500</td>\n",
       "      <td>39.480000</td>\n",
       "      <td>148158800</td>\n",
       "      <td>7.378734e+11</td>\n",
       "      <td>Technology</td>\n",
       "      <td>Computer Manufacturing</td>\n",
       "    </tr>\n",
       "    <tr>\n",
       "      <th>2</th>\n",
       "      <td>AAPL</td>\n",
       "      <td>2019-01-03</td>\n",
       "      <td>35.994999</td>\n",
       "      <td>35.547501</td>\n",
       "      <td>365248800</td>\n",
       "      <td>7.378734e+11</td>\n",
       "      <td>Technology</td>\n",
       "      <td>Computer Manufacturing</td>\n",
       "    </tr>\n",
       "    <tr>\n",
       "      <th>3</th>\n",
       "      <td>AAPL</td>\n",
       "      <td>2019-01-04</td>\n",
       "      <td>36.132500</td>\n",
       "      <td>37.064999</td>\n",
       "      <td>234428400</td>\n",
       "      <td>7.378734e+11</td>\n",
       "      <td>Technology</td>\n",
       "      <td>Computer Manufacturing</td>\n",
       "    </tr>\n",
       "    <tr>\n",
       "      <th>4</th>\n",
       "      <td>AAPL</td>\n",
       "      <td>2019-01-07</td>\n",
       "      <td>37.174999</td>\n",
       "      <td>36.982498</td>\n",
       "      <td>219111200</td>\n",
       "      <td>7.378734e+11</td>\n",
       "      <td>Technology</td>\n",
       "      <td>Computer Manufacturing</td>\n",
       "    </tr>\n",
       "  </tbody>\n",
       "</table>\n",
       "</div>"
      ],
      "text/plain": [
       "  Symbol        Date       Open      Close     Volume     MarketCap  \\\n",
       "0   AAPL  2018-12-31  39.632500  39.435001  140014000  7.378734e+11   \n",
       "1   AAPL  2019-01-02  38.722500  39.480000  148158800  7.378734e+11   \n",
       "2   AAPL  2019-01-03  35.994999  35.547501  365248800  7.378734e+11   \n",
       "3   AAPL  2019-01-04  36.132500  37.064999  234428400  7.378734e+11   \n",
       "4   AAPL  2019-01-07  37.174999  36.982498  219111200  7.378734e+11   \n",
       "\n",
       "       Sector                Industry  \n",
       "0  Technology  Computer Manufacturing  \n",
       "1  Technology  Computer Manufacturing  \n",
       "2  Technology  Computer Manufacturing  \n",
       "3  Technology  Computer Manufacturing  \n",
       "4  Technology  Computer Manufacturing  "
      ]
     },
     "execution_count": 76,
     "metadata": {},
     "output_type": "execute_result"
    }
   ],
   "source": [
    "real_data.head()"
   ]
  },
  {
   "cell_type": "code",
   "execution_count": 77,
   "metadata": {},
   "outputs": [
    {
     "data": {
      "text/plain": [
       "(25784, 8)"
      ]
     },
     "execution_count": 77,
     "metadata": {},
     "output_type": "execute_result"
    }
   ],
   "source": [
    "real_data.shape"
   ]
  },
  {
   "cell_type": "markdown",
   "metadata": {
    "id": "cHJiByqHJw9z"
   },
   "source": [
    "## 1.1 What is sequential data?\n",
    "\n",
    "A **sequence** is a set of measurements taken in a particular order, such as the `Open`, `Close` and `Volume` of stock prices. Some datasets have a **sequence index** that prescribes this order. In our case, the `Date` column.\n",
    "\n",
    "In a single sequence, all measurements belong to the same entity. For example, if we isolate only the stock from Amazon (`Symbol='AMZN'`), then we have a single sequence of data. This sequence has 252 measurements with a `Date` ranging from the end of 2018 to 2019 ."
   ]
  },
  {
   "cell_type": "code",
   "execution_count": 78,
   "metadata": {
    "colab": {
     "base_uri": "https://localhost:8080/",
     "height": 424
    },
    "id": "hXxt_0v-JuZI",
    "outputId": "022d9604-af54-4f09-8a1b-966bc7519c70"
   },
   "outputs": [
    {
     "data": {
      "text/html": [
       "<div>\n",
       "<style scoped>\n",
       "    .dataframe tbody tr th:only-of-type {\n",
       "        vertical-align: middle;\n",
       "    }\n",
       "\n",
       "    .dataframe tbody tr th {\n",
       "        vertical-align: top;\n",
       "    }\n",
       "\n",
       "    .dataframe thead th {\n",
       "        text-align: right;\n",
       "    }\n",
       "</style>\n",
       "<table border=\"1\" class=\"dataframe\">\n",
       "  <thead>\n",
       "    <tr style=\"text-align: right;\">\n",
       "      <th></th>\n",
       "      <th>Symbol</th>\n",
       "      <th>Date</th>\n",
       "      <th>Open</th>\n",
       "      <th>Close</th>\n",
       "      <th>Volume</th>\n",
       "      <th>MarketCap</th>\n",
       "      <th>Sector</th>\n",
       "      <th>Industry</th>\n",
       "    </tr>\n",
       "  </thead>\n",
       "  <tbody>\n",
       "    <tr>\n",
       "      <th>252</th>\n",
       "      <td>AMZN</td>\n",
       "      <td>2018-12-31</td>\n",
       "      <td>1510.800049</td>\n",
       "      <td>1501.969971</td>\n",
       "      <td>6954500</td>\n",
       "      <td>4.035002e+11</td>\n",
       "      <td>Consumer Services</td>\n",
       "      <td>Catalog/Specialty Distribution</td>\n",
       "    </tr>\n",
       "    <tr>\n",
       "      <th>253</th>\n",
       "      <td>AMZN</td>\n",
       "      <td>2019-01-02</td>\n",
       "      <td>1465.199951</td>\n",
       "      <td>1539.130005</td>\n",
       "      <td>7983100</td>\n",
       "      <td>4.035002e+11</td>\n",
       "      <td>Consumer Services</td>\n",
       "      <td>Catalog/Specialty Distribution</td>\n",
       "    </tr>\n",
       "    <tr>\n",
       "      <th>254</th>\n",
       "      <td>AMZN</td>\n",
       "      <td>2019-01-03</td>\n",
       "      <td>1520.010010</td>\n",
       "      <td>1500.280029</td>\n",
       "      <td>6975600</td>\n",
       "      <td>4.035002e+11</td>\n",
       "      <td>Consumer Services</td>\n",
       "      <td>Catalog/Specialty Distribution</td>\n",
       "    </tr>\n",
       "    <tr>\n",
       "      <th>255</th>\n",
       "      <td>AMZN</td>\n",
       "      <td>2019-01-04</td>\n",
       "      <td>1530.000000</td>\n",
       "      <td>1575.390015</td>\n",
       "      <td>9182600</td>\n",
       "      <td>4.035002e+11</td>\n",
       "      <td>Consumer Services</td>\n",
       "      <td>Catalog/Specialty Distribution</td>\n",
       "    </tr>\n",
       "    <tr>\n",
       "      <th>256</th>\n",
       "      <td>AMZN</td>\n",
       "      <td>2019-01-07</td>\n",
       "      <td>1602.310059</td>\n",
       "      <td>1629.510010</td>\n",
       "      <td>7993200</td>\n",
       "      <td>4.035002e+11</td>\n",
       "      <td>Consumer Services</td>\n",
       "      <td>Catalog/Specialty Distribution</td>\n",
       "    </tr>\n",
       "    <tr>\n",
       "      <th>...</th>\n",
       "      <td>...</td>\n",
       "      <td>...</td>\n",
       "      <td>...</td>\n",
       "      <td>...</td>\n",
       "      <td>...</td>\n",
       "      <td>...</td>\n",
       "      <td>...</td>\n",
       "      <td>...</td>\n",
       "    </tr>\n",
       "    <tr>\n",
       "      <th>499</th>\n",
       "      <td>AMZN</td>\n",
       "      <td>2019-12-23</td>\n",
       "      <td>1788.260010</td>\n",
       "      <td>1793.000000</td>\n",
       "      <td>2136400</td>\n",
       "      <td>4.035002e+11</td>\n",
       "      <td>Consumer Services</td>\n",
       "      <td>Catalog/Specialty Distribution</td>\n",
       "    </tr>\n",
       "    <tr>\n",
       "      <th>500</th>\n",
       "      <td>AMZN</td>\n",
       "      <td>2019-12-24</td>\n",
       "      <td>1793.810059</td>\n",
       "      <td>1789.209961</td>\n",
       "      <td>881300</td>\n",
       "      <td>4.035002e+11</td>\n",
       "      <td>Consumer Services</td>\n",
       "      <td>Catalog/Specialty Distribution</td>\n",
       "    </tr>\n",
       "    <tr>\n",
       "      <th>501</th>\n",
       "      <td>AMZN</td>\n",
       "      <td>2019-12-26</td>\n",
       "      <td>1801.010010</td>\n",
       "      <td>1868.770020</td>\n",
       "      <td>6005400</td>\n",
       "      <td>4.035002e+11</td>\n",
       "      <td>Consumer Services</td>\n",
       "      <td>Catalog/Specialty Distribution</td>\n",
       "    </tr>\n",
       "    <tr>\n",
       "      <th>502</th>\n",
       "      <td>AMZN</td>\n",
       "      <td>2019-12-27</td>\n",
       "      <td>1882.920044</td>\n",
       "      <td>1869.800049</td>\n",
       "      <td>6186600</td>\n",
       "      <td>4.035002e+11</td>\n",
       "      <td>Consumer Services</td>\n",
       "      <td>Catalog/Specialty Distribution</td>\n",
       "    </tr>\n",
       "    <tr>\n",
       "      <th>503</th>\n",
       "      <td>AMZN</td>\n",
       "      <td>2019-12-30</td>\n",
       "      <td>1874.000000</td>\n",
       "      <td>1846.890015</td>\n",
       "      <td>3674700</td>\n",
       "      <td>4.035002e+11</td>\n",
       "      <td>Consumer Services</td>\n",
       "      <td>Catalog/Specialty Distribution</td>\n",
       "    </tr>\n",
       "  </tbody>\n",
       "</table>\n",
       "<p>252 rows × 8 columns</p>\n",
       "</div>"
      ],
      "text/plain": [
       "    Symbol        Date         Open        Close   Volume     MarketCap  \\\n",
       "252   AMZN  2018-12-31  1510.800049  1501.969971  6954500  4.035002e+11   \n",
       "253   AMZN  2019-01-02  1465.199951  1539.130005  7983100  4.035002e+11   \n",
       "254   AMZN  2019-01-03  1520.010010  1500.280029  6975600  4.035002e+11   \n",
       "255   AMZN  2019-01-04  1530.000000  1575.390015  9182600  4.035002e+11   \n",
       "256   AMZN  2019-01-07  1602.310059  1629.510010  7993200  4.035002e+11   \n",
       "..     ...         ...          ...          ...      ...           ...   \n",
       "499   AMZN  2019-12-23  1788.260010  1793.000000  2136400  4.035002e+11   \n",
       "500   AMZN  2019-12-24  1793.810059  1789.209961   881300  4.035002e+11   \n",
       "501   AMZN  2019-12-26  1801.010010  1868.770020  6005400  4.035002e+11   \n",
       "502   AMZN  2019-12-27  1882.920044  1869.800049  6186600  4.035002e+11   \n",
       "503   AMZN  2019-12-30  1874.000000  1846.890015  3674700  4.035002e+11   \n",
       "\n",
       "                Sector                        Industry  \n",
       "252  Consumer Services  Catalog/Specialty Distribution  \n",
       "253  Consumer Services  Catalog/Specialty Distribution  \n",
       "254  Consumer Services  Catalog/Specialty Distribution  \n",
       "255  Consumer Services  Catalog/Specialty Distribution  \n",
       "256  Consumer Services  Catalog/Specialty Distribution  \n",
       "..                 ...                             ...  \n",
       "499  Consumer Services  Catalog/Specialty Distribution  \n",
       "500  Consumer Services  Catalog/Specialty Distribution  \n",
       "501  Consumer Services  Catalog/Specialty Distribution  \n",
       "502  Consumer Services  Catalog/Specialty Distribution  \n",
       "503  Consumer Services  Catalog/Specialty Distribution  \n",
       "\n",
       "[252 rows x 8 columns]"
      ]
     },
     "execution_count": 78,
     "metadata": {},
     "output_type": "execute_result"
    }
   ],
   "source": [
    "amzn_sequence = real_data[real_data['Symbol'] == 'AMZN']\n",
    "amzn_sequence"
   ]
  },
  {
   "cell_type": "markdown",
   "metadata": {
    "id": "C8Jjz20tJ0Mg"
   },
   "source": [
    "In a **multi-sequence** dataset, there are multiple sequences existing in the same table. For example, in our dataset, there are different sequences for each company: Amazon, Google, Netflix, etc.\n",
    "\n",
    "A **sequence key** is a column that can be used to identify each sequence. In this case, the `Symbol` column. If we inspect it, we can see that it contains 100 unique values -- which means there are 100 sequences in the data."
   ]
  },
  {
   "cell_type": "code",
   "execution_count": 79,
   "metadata": {
    "colab": {
     "base_uri": "https://localhost:8080/"
    },
    "id": "vj20z8HDJyEe",
    "outputId": "d035c87e-f865-40fe-bc54-577ae6f40cc4"
   },
   "outputs": [
    {
     "data": {
      "text/plain": [
       "array(['AAPL', 'AMZN', 'MSFT', 'FB', 'TSLA', 'GOOGL', 'GOOG', 'NVDA',\n",
       "       'ADBE', 'PYPL', 'NFLX', 'INTC', 'CMCSA', 'PEP', 'CSCO', 'COST',\n",
       "       'AVGO', 'QCOM', 'TMUS', 'TXN', 'AMGN', 'CHTR', 'SBUX', 'AMD', 'ZM',\n",
       "       'INTU', 'ISRG', 'MDLZ', 'GILD', 'JD', 'BKNG', 'VRTX', 'FISV',\n",
       "       'ADP', 'ATVI', 'REGN', 'MELI', 'CSX', 'AMAT', 'MU', 'LRCX', 'ADSK',\n",
       "       'ILMN', 'BIIB', 'ADI', 'DOCU', 'LULU', 'MNST', 'WDAY', 'CTSH',\n",
       "       'EXC', 'EBAY', 'KHC', 'EA', 'NXPI', 'BIDU', 'XEL', 'DXCM', 'SGEN',\n",
       "       'CTAS', 'IDXX', 'ORLY', 'SNPS', 'ROST', 'KLAC', 'SPLK', 'CDNS',\n",
       "       'NTES', 'MAR', 'VRSK', 'WBA', 'PCAR', 'ASML', 'PAYX', 'MRNA',\n",
       "       'ANSS', 'XLNX', 'MCHP', 'CPRT', 'ALXN', 'ALGN', 'FAST', 'SWKS',\n",
       "       'SIRI', 'VRSN', 'PDD', 'CERN', 'DLTR', 'INCY', 'MXIM', 'TTWO',\n",
       "       'CDW', 'CHKP', 'CTXS', 'TCOM', 'BMRN', 'ULTA', 'EXPE', 'WDC',\n",
       "       'FOXA', 'LBTYK', 'FOX', 'LBTYA'], dtype=object)"
      ]
     },
     "execution_count": 79,
     "metadata": {},
     "output_type": "execute_result"
    }
   ],
   "source": [
    "real_data['Symbol'].unique()"
   ]
  },
  {
   "cell_type": "markdown",
   "metadata": {
    "id": "vYAopJAGJ2w7"
   },
   "source": [
    "**The PAR synthesizer is suited for multi-sequence data.** So this dataset with 100 sequences is a perfect candidate."
   ]
  },
  {
   "cell_type": "code",
   "execution_count": 80,
   "metadata": {},
   "outputs": [],
   "source": [
    "categories_to_filter = ['AAPL', 'AMZN', 'MSFT', 'FB', 'TSLA', 'GOOGL', 'GOOG', 'NVDA',\n",
    "       'ADBE', 'PYPL', 'NFLX', 'INTC', 'CMCSA', 'PEP', 'CSCO', 'COST'\n",
    "       ]\n",
    "data = real_data[real_data['Symbol'].isin(categories_to_filter)]"
   ]
  },
  {
   "cell_type": "code",
   "execution_count": 81,
   "metadata": {},
   "outputs": [
    {
     "data": {
      "text/plain": [
       "array(['AAPL', 'AMZN', 'MSFT', 'FB', 'TSLA', 'GOOGL', 'GOOG', 'NVDA',\n",
       "       'ADBE', 'PYPL', 'NFLX', 'INTC', 'CMCSA', 'PEP', 'CSCO', 'COST'],\n",
       "      dtype=object)"
      ]
     },
     "execution_count": 81,
     "metadata": {},
     "output_type": "execute_result"
    }
   ],
   "source": [
    "data.Symbol.unique()"
   ]
  },
  {
   "cell_type": "code",
   "execution_count": 82,
   "metadata": {},
   "outputs": [
    {
     "data": {
      "text/plain": [
       "(4032, 8)"
      ]
     },
     "execution_count": 82,
     "metadata": {},
     "output_type": "execute_result"
    }
   ],
   "source": [
    "data.shape"
   ]
  },
  {
   "cell_type": "code",
   "execution_count": 83,
   "metadata": {},
   "outputs": [
    {
     "data": {
      "text/plain": [
       "'2018-12-31'"
      ]
     },
     "execution_count": 83,
     "metadata": {},
     "output_type": "execute_result"
    }
   ],
   "source": [
    "data.Date.min()"
   ]
  },
  {
   "cell_type": "code",
   "execution_count": 84,
   "metadata": {},
   "outputs": [
    {
     "data": {
      "text/plain": [
       "'2019-12-30'"
      ]
     },
     "execution_count": 84,
     "metadata": {},
     "output_type": "execute_result"
    }
   ],
   "source": [
    "data.Date.max()"
   ]
  },
  {
   "cell_type": "code",
   "execution_count": 85,
   "metadata": {},
   "outputs": [
    {
     "data": {
      "text/plain": [
       "Date\n",
       "2018-12-31    16\n",
       "2019-09-09    16\n",
       "2019-08-20    16\n",
       "2019-08-21    16\n",
       "2019-08-22    16\n",
       "              ..\n",
       "2019-05-08    16\n",
       "2019-05-09    16\n",
       "2019-05-10    16\n",
       "2019-05-13    16\n",
       "2019-12-30    16\n",
       "Name: count, Length: 252, dtype: int64"
      ]
     },
     "execution_count": 85,
     "metadata": {},
     "output_type": "execute_result"
    }
   ],
   "source": [
    "data.Date.value_counts()"
   ]
  },
  {
   "cell_type": "code",
   "execution_count": 86,
   "metadata": {},
   "outputs": [],
   "source": [
    "data_trimmed = data[data['Date']<= '2019-04-01']"
   ]
  },
  {
   "cell_type": "code",
   "execution_count": 87,
   "metadata": {},
   "outputs": [
    {
     "data": {
      "text/plain": [
       "(1008, 8)"
      ]
     },
     "execution_count": 87,
     "metadata": {},
     "output_type": "execute_result"
    }
   ],
   "source": [
    "data_trimmed.shape"
   ]
  },
  {
   "cell_type": "code",
   "execution_count": 88,
   "metadata": {},
   "outputs": [
    {
     "data": {
      "text/plain": [
       "16"
      ]
     },
     "execution_count": 88,
     "metadata": {},
     "output_type": "execute_result"
    }
   ],
   "source": [
    "data_trimmed.Symbol.nunique()"
   ]
  },
  {
   "cell_type": "code",
   "execution_count": 89,
   "metadata": {},
   "outputs": [
    {
     "data": {
      "text/plain": [
       "array(['AAPL', 'AMZN', 'MSFT', 'FB', 'TSLA', 'GOOGL', 'GOOG', 'NVDA',\n",
       "       'ADBE', 'PYPL', 'NFLX', 'INTC', 'CMCSA', 'PEP', 'CSCO', 'COST'],\n",
       "      dtype=object)"
      ]
     },
     "execution_count": 89,
     "metadata": {},
     "output_type": "execute_result"
    }
   ],
   "source": [
    "data_trimmed.Symbol.unique()"
   ]
  },
  {
   "cell_type": "code",
   "execution_count": 90,
   "metadata": {},
   "outputs": [
    {
     "data": {
      "text/plain": [
       "Date\n",
       "2018-12-31    16\n",
       "2019-03-11    16\n",
       "2019-02-20    16\n",
       "2019-02-21    16\n",
       "2019-02-22    16\n",
       "              ..\n",
       "2019-02-07    16\n",
       "2019-02-08    16\n",
       "2019-02-11    16\n",
       "2019-02-12    16\n",
       "2019-04-01    16\n",
       "Name: count, Length: 63, dtype: int64"
      ]
     },
     "execution_count": 90,
     "metadata": {},
     "output_type": "execute_result"
    }
   ],
   "source": [
    "data_trimmed.Date.value_counts()"
   ]
  },
  {
   "cell_type": "code",
   "execution_count": 91,
   "metadata": {},
   "outputs": [],
   "source": [
    "data_trimmed['Date'].dropna(inplace = True)"
   ]
  },
  {
   "cell_type": "code",
   "execution_count": 92,
   "metadata": {},
   "outputs": [
    {
     "data": {
      "text/plain": [
       "63"
      ]
     },
     "execution_count": 92,
     "metadata": {},
     "output_type": "execute_result"
    }
   ],
   "source": [
    "data_trimmed.Date.nunique()"
   ]
  },
  {
   "cell_type": "code",
   "execution_count": 93,
   "metadata": {},
   "outputs": [
    {
     "data": {
      "text/html": [
       "<div>\n",
       "<style scoped>\n",
       "    .dataframe tbody tr th:only-of-type {\n",
       "        vertical-align: middle;\n",
       "    }\n",
       "\n",
       "    .dataframe tbody tr th {\n",
       "        vertical-align: top;\n",
       "    }\n",
       "\n",
       "    .dataframe thead th {\n",
       "        text-align: right;\n",
       "    }\n",
       "</style>\n",
       "<table border=\"1\" class=\"dataframe\">\n",
       "  <thead>\n",
       "    <tr style=\"text-align: right;\">\n",
       "      <th></th>\n",
       "      <th>Symbol</th>\n",
       "      <th>Date</th>\n",
       "      <th>Open</th>\n",
       "      <th>Close</th>\n",
       "      <th>Volume</th>\n",
       "      <th>MarketCap</th>\n",
       "      <th>Sector</th>\n",
       "      <th>Industry</th>\n",
       "    </tr>\n",
       "  </thead>\n",
       "  <tbody>\n",
       "    <tr>\n",
       "      <th>0</th>\n",
       "      <td>AAPL</td>\n",
       "      <td>2018-12-31</td>\n",
       "      <td>39.632500</td>\n",
       "      <td>39.435001</td>\n",
       "      <td>140014000</td>\n",
       "      <td>7.378734e+11</td>\n",
       "      <td>Technology</td>\n",
       "      <td>Computer Manufacturing</td>\n",
       "    </tr>\n",
       "    <tr>\n",
       "      <th>1</th>\n",
       "      <td>AAPL</td>\n",
       "      <td>2019-01-02</td>\n",
       "      <td>38.722500</td>\n",
       "      <td>39.480000</td>\n",
       "      <td>148158800</td>\n",
       "      <td>7.378734e+11</td>\n",
       "      <td>Technology</td>\n",
       "      <td>Computer Manufacturing</td>\n",
       "    </tr>\n",
       "    <tr>\n",
       "      <th>2</th>\n",
       "      <td>AAPL</td>\n",
       "      <td>2019-01-03</td>\n",
       "      <td>35.994999</td>\n",
       "      <td>35.547501</td>\n",
       "      <td>365248800</td>\n",
       "      <td>7.378734e+11</td>\n",
       "      <td>Technology</td>\n",
       "      <td>Computer Manufacturing</td>\n",
       "    </tr>\n",
       "    <tr>\n",
       "      <th>3</th>\n",
       "      <td>AAPL</td>\n",
       "      <td>2019-01-04</td>\n",
       "      <td>36.132500</td>\n",
       "      <td>37.064999</td>\n",
       "      <td>234428400</td>\n",
       "      <td>7.378734e+11</td>\n",
       "      <td>Technology</td>\n",
       "      <td>Computer Manufacturing</td>\n",
       "    </tr>\n",
       "    <tr>\n",
       "      <th>4</th>\n",
       "      <td>AAPL</td>\n",
       "      <td>2019-01-07</td>\n",
       "      <td>37.174999</td>\n",
       "      <td>36.982498</td>\n",
       "      <td>219111200</td>\n",
       "      <td>7.378734e+11</td>\n",
       "      <td>Technology</td>\n",
       "      <td>Computer Manufacturing</td>\n",
       "    </tr>\n",
       "  </tbody>\n",
       "</table>\n",
       "</div>"
      ],
      "text/plain": [
       "  Symbol        Date       Open      Close     Volume     MarketCap  \\\n",
       "0   AAPL  2018-12-31  39.632500  39.435001  140014000  7.378734e+11   \n",
       "1   AAPL  2019-01-02  38.722500  39.480000  148158800  7.378734e+11   \n",
       "2   AAPL  2019-01-03  35.994999  35.547501  365248800  7.378734e+11   \n",
       "3   AAPL  2019-01-04  36.132500  37.064999  234428400  7.378734e+11   \n",
       "4   AAPL  2019-01-07  37.174999  36.982498  219111200  7.378734e+11   \n",
       "\n",
       "       Sector                Industry  \n",
       "0  Technology  Computer Manufacturing  \n",
       "1  Technology  Computer Manufacturing  \n",
       "2  Technology  Computer Manufacturing  \n",
       "3  Technology  Computer Manufacturing  \n",
       "4  Technology  Computer Manufacturing  "
      ]
     },
     "execution_count": 93,
     "metadata": {},
     "output_type": "execute_result"
    }
   ],
   "source": [
    "data_trimmed.head()"
   ]
  },
  {
   "cell_type": "markdown",
   "metadata": {
    "id": "HPDpEPCKJ4EJ"
   },
   "source": [
    "## 1.2 What are Context Columns?\n",
    "A **context** column does not change during the course of a sequence.  In our case, `Sector` and `Industry` are context columns.\n",
    "\n",
    "If we choose a sequence -- such as Amazon (`Symbol='AMZN'`) -- then we'll see that the context values don't change. Amazon is always a `'Consumer Services'` company."
   ]
  },
  {
   "cell_type": "code",
   "execution_count": 73,
   "metadata": {
    "scrolled": true
   },
   "outputs": [],
   "source": [
    "data_trimmed.to_excel('data_trimmed.xlsx')"
   ]
  },
  {
   "cell_type": "markdown",
   "metadata": {
    "id": "pg9b8y8yJ8MG"
   },
   "source": [
    "# 2. Basic Usage"
   ]
  },
  {
   "cell_type": "markdown",
   "metadata": {
    "id": "LfYr6FJhJ9M_"
   },
   "source": [
    "## 2.1 Creating a Synthesizer\n",
    "\n",
    "An SDV **synthesizer** is an object that you can use to create synthetic data. It learns patterns from the real data and replicates them to generate synthetic data."
   ]
  },
  {
   "cell_type": "code",
   "execution_count": 95,
   "metadata": {
    "colab": {
     "base_uri": "https://localhost:8080/"
    },
    "id": "YYVfVBOnJ5Jd",
    "outputId": "d20a8162-3b4b-4e72-f50c-6883c472e6b7"
   },
   "outputs": [
    {
     "name": "stderr",
     "output_type": "stream",
     "text": [
      "Loss (-4.864): 100%|█████████████████████████████████████████████████████████████████| 500/500 [00:41<00:00, 12.08it/s]\n"
     ]
    }
   ],
   "source": [
    "from sdv.sequential import PARSynthesizer\n",
    "\n",
    "synthesizer = PARSynthesizer(\n",
    "    metadata,\n",
    "    epochs=500,\n",
    "    context_columns=['MarketCap', 'Sector', 'Industry'],\n",
    "    enforce_min_max_values=True,\n",
    "    verbose=True)\n",
    "\n",
    "synthesizer.fit(data_trimmed)"
   ]
  },
  {
   "cell_type": "markdown",
   "metadata": {
    "id": "MK82YwFYKIzQ"
   },
   "source": [
    "## 2.2 Generating Synthetic Data\n",
    "\n",
    "Use the `sample` function and pass in any number of sequences to synthesize. The synthesizer algorithmically determines how long to make each sequence."
   ]
  },
  {
   "cell_type": "code",
   "execution_count": 48,
   "metadata": {
    "colab": {
     "base_uri": "https://localhost:8080/",
     "height": 224
    },
    "id": "D19y1UOOJ-Pv",
    "outputId": "867c9a86-6a8d-4d1b-edc9-637fea8c055e"
   },
   "outputs": [
    {
     "name": "stderr",
     "output_type": "stream",
     "text": [
      "C:\\Users\\ghoshjy\\AppData\\Roaming\\Python\\Python310\\site-packages\\rdt\\transformers\\categorical.py:196: FutureWarning:\n",
      "\n",
      "The behavior of Series.replace (and DataFrame.replace) with CategoricalDtype is deprecated. In a future version, replace will only be used for cases that preserve the categories. To change the categories, use ser.cat.rename_categories instead.\n",
      "\n",
      "C:\\Users\\ghoshjy\\AppData\\Roaming\\Python\\Python310\\site-packages\\rdt\\transformers\\categorical.py:196: FutureWarning:\n",
      "\n",
      "The behavior of Series.replace (and DataFrame.replace) with CategoricalDtype is deprecated. In a future version, replace will only be used for cases that preserve the categories. To change the categories, use ser.cat.rename_categories instead.\n",
      "\n",
      "100%|██████████████████████████████████████████████████████████████████████████████| 1008/1008 [04:58<00:00,  3.38it/s]\n"
     ]
    },
    {
     "data": {
      "text/html": [
       "<div>\n",
       "<style scoped>\n",
       "    .dataframe tbody tr th:only-of-type {\n",
       "        vertical-align: middle;\n",
       "    }\n",
       "\n",
       "    .dataframe tbody tr th {\n",
       "        vertical-align: top;\n",
       "    }\n",
       "\n",
       "    .dataframe thead th {\n",
       "        text-align: right;\n",
       "    }\n",
       "</style>\n",
       "<table border=\"1\" class=\"dataframe\">\n",
       "  <thead>\n",
       "    <tr style=\"text-align: right;\">\n",
       "      <th></th>\n",
       "      <th>Symbol</th>\n",
       "      <th>Date</th>\n",
       "      <th>Open</th>\n",
       "      <th>Close</th>\n",
       "      <th>Volume</th>\n",
       "      <th>MarketCap</th>\n",
       "      <th>Sector</th>\n",
       "      <th>Industry</th>\n",
       "    </tr>\n",
       "  </thead>\n",
       "  <tbody>\n",
       "    <tr>\n",
       "      <th>0</th>\n",
       "      <td>AAFC</td>\n",
       "      <td>NaN</td>\n",
       "      <td>85.980261</td>\n",
       "      <td>99.023256</td>\n",
       "      <td>27711095</td>\n",
       "      <td>4.227660e+11</td>\n",
       "      <td>Miscellaneous</td>\n",
       "      <td>Consumer Electronics/Video Chains</td>\n",
       "    </tr>\n",
       "    <tr>\n",
       "      <th>1</th>\n",
       "      <td>AAFC</td>\n",
       "      <td>NaN</td>\n",
       "      <td>88.404471</td>\n",
       "      <td>100.912420</td>\n",
       "      <td>10806184</td>\n",
       "      <td>4.227660e+11</td>\n",
       "      <td>Miscellaneous</td>\n",
       "      <td>Consumer Electronics/Video Chains</td>\n",
       "    </tr>\n",
       "    <tr>\n",
       "      <th>2</th>\n",
       "      <td>AAFC</td>\n",
       "      <td>NaN</td>\n",
       "      <td>55.546494</td>\n",
       "      <td>34.049999</td>\n",
       "      <td>21019612</td>\n",
       "      <td>4.227660e+11</td>\n",
       "      <td>Miscellaneous</td>\n",
       "      <td>Consumer Electronics/Video Chains</td>\n",
       "    </tr>\n",
       "    <tr>\n",
       "      <th>3</th>\n",
       "      <td>AAFC</td>\n",
       "      <td>NaN</td>\n",
       "      <td>33.490002</td>\n",
       "      <td>34.049999</td>\n",
       "      <td>34958548</td>\n",
       "      <td>4.227660e+11</td>\n",
       "      <td>Miscellaneous</td>\n",
       "      <td>Consumer Electronics/Video Chains</td>\n",
       "    </tr>\n",
       "    <tr>\n",
       "      <th>4</th>\n",
       "      <td>AAFC</td>\n",
       "      <td>NaN</td>\n",
       "      <td>44.669461</td>\n",
       "      <td>34.049999</td>\n",
       "      <td>36660069</td>\n",
       "      <td>4.227660e+11</td>\n",
       "      <td>Miscellaneous</td>\n",
       "      <td>Consumer Electronics/Video Chains</td>\n",
       "    </tr>\n",
       "  </tbody>\n",
       "</table>\n",
       "</div>"
      ],
      "text/plain": [
       "  Symbol Date       Open       Close    Volume     MarketCap         Sector  \\\n",
       "0   AAFC  NaN  85.980261   99.023256  27711095  4.227660e+11  Miscellaneous   \n",
       "1   AAFC  NaN  88.404471  100.912420  10806184  4.227660e+11  Miscellaneous   \n",
       "2   AAFC  NaN  55.546494   34.049999  21019612  4.227660e+11  Miscellaneous   \n",
       "3   AAFC  NaN  33.490002   34.049999  34958548  4.227660e+11  Miscellaneous   \n",
       "4   AAFC  NaN  44.669461   34.049999  36660069  4.227660e+11  Miscellaneous   \n",
       "\n",
       "                            Industry  \n",
       "0  Consumer Electronics/Video Chains  \n",
       "1  Consumer Electronics/Video Chains  \n",
       "2  Consumer Electronics/Video Chains  \n",
       "3  Consumer Electronics/Video Chains  \n",
       "4  Consumer Electronics/Video Chains  "
      ]
     },
     "execution_count": 48,
     "metadata": {},
     "output_type": "execute_result"
    }
   ],
   "source": [
    "synthetic_data = synthesizer.sample(num_sequences = 1008)\n",
    "synthetic_data.head()"
   ]
  },
  {
   "cell_type": "code",
   "execution_count": 98,
   "metadata": {},
   "outputs": [
    {
     "data": {
      "text/plain": [
       "(4032, 8)"
      ]
     },
     "execution_count": 98,
     "metadata": {},
     "output_type": "execute_result"
    }
   ],
   "source": [
    "data.shape"
   ]
  },
  {
   "cell_type": "code",
   "execution_count": 99,
   "metadata": {},
   "outputs": [],
   "source": [
    "data.to_excel('de_real_data1.xlsx')"
   ]
  },
  {
   "cell_type": "code",
   "execution_count": 97,
   "metadata": {},
   "outputs": [],
   "source": [
    "synthetic_data.to_excel('de_synthetic_data1.xlsx')"
   ]
  },
  {
   "cell_type": "code",
   "execution_count": 96,
   "metadata": {},
   "outputs": [
    {
     "data": {
      "text/plain": [
       "(63504, 8)"
      ]
     },
     "execution_count": 96,
     "metadata": {},
     "output_type": "execute_result"
    }
   ],
   "source": [
    "synthetic_data.shape"
   ]
  },
  {
   "cell_type": "code",
   "execution_count": 51,
   "metadata": {},
   "outputs": [
    {
     "data": {
      "text/plain": [
       "Date\n",
       "NaN           62499\n",
       "2018-12-31      207\n",
       "2019-01-01       86\n",
       "2019-01-03       52\n",
       "2019-01-02       45\n",
       "              ...  \n",
       "2019-02-21        2\n",
       "2019-02-25        1\n",
       "2019-03-24        1\n",
       "2019-03-25        1\n",
       "2019-03-26        1\n",
       "Name: count, Length: 87, dtype: int64"
      ]
     },
     "execution_count": 51,
     "metadata": {},
     "output_type": "execute_result"
    }
   ],
   "source": [
    "synthetic_data.Date.value_counts(dropna = False)"
   ]
  },
  {
   "cell_type": "code",
   "execution_count": 52,
   "metadata": {},
   "outputs": [
    {
     "data": {
      "text/plain": [
       "array([nan, '2018-12-31', '2019-01-02', '2019-01-01', '2019-01-03',\n",
       "       '2019-01-05', '2019-01-06', '2019-01-07', '2019-01-04',\n",
       "       '2019-01-08', '2019-01-11', '2019-01-12', '2019-01-15',\n",
       "       '2019-01-16', '2019-01-17', '2019-01-18', '2019-01-19',\n",
       "       '2019-01-20', '2019-01-21', '2019-01-23', '2019-01-24',\n",
       "       '2019-01-25', '2019-01-26', '2019-01-27', '2019-01-28',\n",
       "       '2019-01-30', '2019-01-31', '2019-02-01', '2019-02-02',\n",
       "       '2019-02-04', '2019-02-05', '2019-02-06', '2019-02-07',\n",
       "       '2019-02-09', '2019-02-10', '2019-02-11', '2019-02-12',\n",
       "       '2019-02-13', '2019-02-14', '2019-02-15', '2019-02-16',\n",
       "       '2019-02-17', '2019-02-18', '2019-02-19', '2019-02-20',\n",
       "       '2019-02-22', '2019-02-23', '2019-01-09', '2019-01-10',\n",
       "       '2019-01-14', '2019-01-22', '2019-01-29', '2019-02-03',\n",
       "       '2019-01-13', '2019-02-08', '2019-02-21', '2019-02-25',\n",
       "       '2019-02-26', '2019-02-27', '2019-02-28', '2019-03-01',\n",
       "       '2019-03-02', '2019-03-04', '2019-03-05', '2019-02-24',\n",
       "       '2019-03-03', '2019-03-06', '2019-03-07', '2019-03-08',\n",
       "       '2019-03-09', '2019-03-10', '2019-03-11', '2019-03-12',\n",
       "       '2019-03-13', '2019-03-14', '2019-03-15', '2019-03-16',\n",
       "       '2019-03-17', '2019-03-18', '2019-03-19', '2019-03-20',\n",
       "       '2019-03-21', '2019-03-22', '2019-03-23', '2019-03-24',\n",
       "       '2019-03-25', '2019-03-26'], dtype=object)"
      ]
     },
     "execution_count": 52,
     "metadata": {},
     "output_type": "execute_result"
    }
   ],
   "source": [
    "synthetic_data.Date.unique()"
   ]
  },
  {
   "cell_type": "code",
   "execution_count": 53,
   "metadata": {},
   "outputs": [
    {
     "data": {
      "text/plain": [
       "86"
      ]
     },
     "execution_count": 53,
     "metadata": {},
     "output_type": "execute_result"
    }
   ],
   "source": [
    "synthetic_data.Date.nunique()"
   ]
  },
  {
   "cell_type": "code",
   "execution_count": 54,
   "metadata": {},
   "outputs": [
    {
     "data": {
      "text/plain": [
       "63"
      ]
     },
     "execution_count": 54,
     "metadata": {},
     "output_type": "execute_result"
    }
   ],
   "source": [
    "data_trimmed.Date.nunique()"
   ]
  },
  {
   "cell_type": "code",
   "execution_count": 55,
   "metadata": {},
   "outputs": [
    {
     "data": {
      "text/plain": [
       "1008"
      ]
     },
     "execution_count": 55,
     "metadata": {},
     "output_type": "execute_result"
    }
   ],
   "source": [
    "synthetic_data.Symbol.nunique()"
   ]
  },
  {
   "cell_type": "code",
   "execution_count": 56,
   "metadata": {},
   "outputs": [
    {
     "data": {
      "text/plain": [
       "(63504, 8)"
      ]
     },
     "execution_count": 56,
     "metadata": {},
     "output_type": "execute_result"
    }
   ],
   "source": [
    "synthetic_data.shape"
   ]
  },
  {
   "cell_type": "code",
   "execution_count": 57,
   "metadata": {},
   "outputs": [],
   "source": [
    "loss_values = synthesizer.get_loss_values()"
   ]
  },
  {
   "cell_type": "code",
   "execution_count": 58,
   "metadata": {},
   "outputs": [],
   "source": [
    "import plotly.express as px\n",
    "\n",
    "loss_df = synthesizer.get_loss_values()\n",
    "#loss_df['Deepecho_loss'] = loss_df['Loss'].apply(lambda x: x.iteam())"
   ]
  },
  {
   "cell_type": "code",
   "execution_count": 59,
   "metadata": {},
   "outputs": [
    {
     "data": {
      "text/html": [
       "<iframe\n",
       "    scrolling=\"no\"\n",
       "    width=\"100%\"\n",
       "    height=\"545px\"\n",
       "    src=\"iframe_figures/figure_59.html\"\n",
       "    frameborder=\"0\"\n",
       "    allowfullscreen\n",
       "></iframe>\n"
      ]
     },
     "metadata": {},
     "output_type": "display_data"
    }
   ],
   "source": [
    "fig = px.line(loss_df, x = 'Epoch', y = ['Loss'])\n",
    "fig.update_layout(template = 'plotly_white', legend_title_text = '', legend_orientation = \"v\", legend = dict(x = 1.1, y = 0.3))\n",
    "\n",
    "fig.show()"
   ]
  },
  {
   "cell_type": "markdown",
   "metadata": {
    "id": "IjvfTOMVKQot"
   },
   "source": [
    "The synthesizer is generating entirely new sequences in the same format as the real data. **Each sequence represents an entirely new company** based on the overall patterns from the dataset. **_They do not map or correspond to any real company._**\n",
    "\n",
    "For example, fictitious company `AAAA` is a generic Consumer Electronics/Video Chains company and `AAAB` is a Business Services company. A full list of our synthetic companies is shown below."
   ]
  },
  {
   "cell_type": "code",
   "execution_count": 60,
   "metadata": {},
   "outputs": [
    {
     "data": {
      "text/plain": [
       "(63504, 8)"
      ]
     },
     "execution_count": 60,
     "metadata": {},
     "output_type": "execute_result"
    }
   ],
   "source": [
    "synthetic_data.shape"
   ]
  },
  {
   "cell_type": "code",
   "execution_count": 61,
   "metadata": {
    "colab": {
     "base_uri": "https://localhost:8080/",
     "height": 363
    },
    "id": "5Uc9QUz0KQyX",
    "outputId": "c96c3fff-828f-4e94-cb4e-ea6d88590ebf"
   },
   "outputs": [
    {
     "data": {
      "text/html": [
       "<div>\n",
       "<style scoped>\n",
       "    .dataframe tbody tr th:only-of-type {\n",
       "        vertical-align: middle;\n",
       "    }\n",
       "\n",
       "    .dataframe tbody tr th {\n",
       "        vertical-align: top;\n",
       "    }\n",
       "\n",
       "    .dataframe thead th {\n",
       "        text-align: right;\n",
       "    }\n",
       "</style>\n",
       "<table border=\"1\" class=\"dataframe\">\n",
       "  <thead>\n",
       "    <tr style=\"text-align: right;\">\n",
       "      <th></th>\n",
       "      <th>Symbol</th>\n",
       "      <th>Sector</th>\n",
       "      <th>Industry</th>\n",
       "      <th>MarketCap</th>\n",
       "    </tr>\n",
       "  </thead>\n",
       "  <tbody>\n",
       "    <tr>\n",
       "      <th>0</th>\n",
       "      <td>AAFC</td>\n",
       "      <td>Miscellaneous</td>\n",
       "      <td>Consumer Electronics/Video Chains</td>\n",
       "      <td>4.227660e+11</td>\n",
       "    </tr>\n",
       "    <tr>\n",
       "      <th>1</th>\n",
       "      <td>AAFD</td>\n",
       "      <td>Technology</td>\n",
       "      <td>Computer Software: Prepackaged Software</td>\n",
       "      <td>NaN</td>\n",
       "    </tr>\n",
       "    <tr>\n",
       "      <th>2</th>\n",
       "      <td>AAFE</td>\n",
       "      <td>Consumer Services</td>\n",
       "      <td>Computer Software: Programming, Data Processing</td>\n",
       "      <td>4.873686e+11</td>\n",
       "    </tr>\n",
       "    <tr>\n",
       "      <th>3</th>\n",
       "      <td>AAFF</td>\n",
       "      <td>Technology</td>\n",
       "      <td>Catalog/Specialty Distribution</td>\n",
       "      <td>7.182782e+11</td>\n",
       "    </tr>\n",
       "    <tr>\n",
       "      <th>4</th>\n",
       "      <td>AAFG</td>\n",
       "      <td>Technology</td>\n",
       "      <td>Computer Software: Prepackaged Software</td>\n",
       "      <td>7.266094e+11</td>\n",
       "    </tr>\n",
       "    <tr>\n",
       "      <th>...</th>\n",
       "      <td>...</td>\n",
       "      <td>...</td>\n",
       "      <td>...</td>\n",
       "      <td>...</td>\n",
       "    </tr>\n",
       "    <tr>\n",
       "      <th>1003</th>\n",
       "      <td>ABRR</td>\n",
       "      <td>None</td>\n",
       "      <td>Semiconductors</td>\n",
       "      <td>1.904565e+11</td>\n",
       "    </tr>\n",
       "    <tr>\n",
       "      <th>1004</th>\n",
       "      <td>ABRS</td>\n",
       "      <td>Miscellaneous</td>\n",
       "      <td>Auto Manufacturing</td>\n",
       "      <td>5.436237e+10</td>\n",
       "    </tr>\n",
       "    <tr>\n",
       "      <th>1005</th>\n",
       "      <td>ABRT</td>\n",
       "      <td>Technology</td>\n",
       "      <td>Computer Communications Equipment</td>\n",
       "      <td>2.644218e+11</td>\n",
       "    </tr>\n",
       "    <tr>\n",
       "      <th>1006</th>\n",
       "      <td>ABRU</td>\n",
       "      <td>Technology</td>\n",
       "      <td>Computer Software: Prepackaged Software</td>\n",
       "      <td>7.368885e+11</td>\n",
       "    </tr>\n",
       "    <tr>\n",
       "      <th>1007</th>\n",
       "      <td>ABRV</td>\n",
       "      <td>Technology</td>\n",
       "      <td>Computer Software: Prepackaged Software</td>\n",
       "      <td>6.821049e+11</td>\n",
       "    </tr>\n",
       "  </tbody>\n",
       "</table>\n",
       "<p>1008 rows × 4 columns</p>\n",
       "</div>"
      ],
      "text/plain": [
       "     Symbol             Sector  \\\n",
       "0      AAFC      Miscellaneous   \n",
       "1      AAFD         Technology   \n",
       "2      AAFE  Consumer Services   \n",
       "3      AAFF         Technology   \n",
       "4      AAFG         Technology   \n",
       "...     ...                ...   \n",
       "1003   ABRR               None   \n",
       "1004   ABRS      Miscellaneous   \n",
       "1005   ABRT         Technology   \n",
       "1006   ABRU         Technology   \n",
       "1007   ABRV         Technology   \n",
       "\n",
       "                                             Industry     MarketCap  \n",
       "0                   Consumer Electronics/Video Chains  4.227660e+11  \n",
       "1             Computer Software: Prepackaged Software           NaN  \n",
       "2     Computer Software: Programming, Data Processing  4.873686e+11  \n",
       "3                      Catalog/Specialty Distribution  7.182782e+11  \n",
       "4             Computer Software: Prepackaged Software  7.266094e+11  \n",
       "...                                               ...           ...  \n",
       "1003                                   Semiconductors  1.904565e+11  \n",
       "1004                               Auto Manufacturing  5.436237e+10  \n",
       "1005                Computer Communications Equipment  2.644218e+11  \n",
       "1006          Computer Software: Prepackaged Software  7.368885e+11  \n",
       "1007          Computer Software: Prepackaged Software  6.821049e+11  \n",
       "\n",
       "[1008 rows x 4 columns]"
      ]
     },
     "execution_count": 61,
     "metadata": {},
     "output_type": "execute_result"
    }
   ],
   "source": [
    "synthetic_data[['Symbol', 'Sector', 'Industry', 'MarketCap']].groupby(['Symbol']).first().reset_index()"
   ]
  },
  {
   "cell_type": "code",
   "execution_count": 62,
   "metadata": {},
   "outputs": [
    {
     "name": "stdout",
     "output_type": "stream",
     "text": [
      "Generating report ...\n",
      "(1/2) Evaluating Column Shapes: : 100%|██████████████████████████████████████████████████| 8/8 [00:00<00:00, 95.19it/s]\n",
      "(2/2) Evaluating Column Pair Trends: : 100%|███████████████████████████████████████████| 28/28 [00:00<00:00, 36.03it/s]\n",
      "\n",
      "Overall Score: 61.44%\n",
      "\n",
      "Properties:\n",
      "- Column Shapes: 77.46%\n",
      "- Column Pair Trends: 45.42%\n"
     ]
    }
   ],
   "source": [
    "from sdv.evaluation.single_table import evaluate_quality\n",
    "\n",
    "quality_report = evaluate_quality(\n",
    "    data_trimmed,\n",
    "    synthetic_data,\n",
    "    metadata)"
   ]
  },
  {
   "cell_type": "code",
   "execution_count": 63,
   "metadata": {},
   "outputs": [
    {
     "data": {
      "text/html": [
       "<iframe\n",
       "    scrolling=\"no\"\n",
       "    width=\"100%\"\n",
       "    height=\"545px\"\n",
       "    src=\"iframe_figures/figure_63.html\"\n",
       "    frameborder=\"0\"\n",
       "    allowfullscreen\n",
       "></iframe>\n"
      ]
     },
     "metadata": {},
     "output_type": "display_data"
    }
   ],
   "source": [
    "fig = quality_report.get_visualization(property_name='Column Shapes')\n",
    "fig.show()"
   ]
  },
  {
   "cell_type": "code",
   "execution_count": 64,
   "metadata": {},
   "outputs": [],
   "source": [
    "import plotly.subplots as sp\n",
    "import plotly.graph_objects as go \n",
    "from sdv.evaluation.single_table import get_column_plot\n"
   ]
  },
  {
   "cell_type": "code",
   "execution_count": 65,
   "metadata": {},
   "outputs": [
    {
     "data": {
      "text/html": [
       "<iframe\n",
       "    scrolling=\"no\"\n",
       "    width=\"100%\"\n",
       "    height=\"545px\"\n",
       "    src=\"iframe_figures/figure_65.html\"\n",
       "    frameborder=\"0\"\n",
       "    allowfullscreen\n",
       "></iframe>\n"
      ]
     },
     "metadata": {},
     "output_type": "display_data"
    }
   ],
   "source": [
    "fig = get_column_plot(\n",
    "    real_data=data_trimmed,\n",
    "    synthetic_data=synthetic_data,\n",
    "    column_name='Volume',\n",
    "    metadata=metadata\n",
    ")\n",
    "fig.show()"
   ]
  },
  {
   "cell_type": "code",
   "execution_count": 66,
   "metadata": {},
   "outputs": [
    {
     "data": {
      "text/html": [
       "<iframe\n",
       "    scrolling=\"no\"\n",
       "    width=\"100%\"\n",
       "    height=\"545px\"\n",
       "    src=\"iframe_figures/figure_66.html\"\n",
       "    frameborder=\"0\"\n",
       "    allowfullscreen\n",
       "></iframe>\n"
      ]
     },
     "metadata": {},
     "output_type": "display_data"
    }
   ],
   "source": [
    "fig = get_column_plot(\n",
    "    real_data=data_trimmed,\n",
    "    synthetic_data=synthetic_data,\n",
    "    column_name='Close',\n",
    "    metadata=metadata\n",
    ")\n",
    "fig.show()"
   ]
  },
  {
   "cell_type": "code",
   "execution_count": 100,
   "metadata": {},
   "outputs": [
    {
     "data": {
      "text/html": [
       "<iframe\n",
       "    scrolling=\"no\"\n",
       "    width=\"100%\"\n",
       "    height=\"545px\"\n",
       "    src=\"iframe_figures/figure_100.html\"\n",
       "    frameborder=\"0\"\n",
       "    allowfullscreen\n",
       "></iframe>\n"
      ]
     },
     "metadata": {},
     "output_type": "display_data"
    }
   ],
   "source": [
    "fig = get_column_plot(\n",
    "    real_data=data_trimmed,\n",
    "    synthetic_data=synthetic_data,\n",
    "    column_name='Date',\n",
    "    metadata=metadata\n",
    ")\n",
    "fig.show()"
   ]
  },
  {
   "cell_type": "code",
   "execution_count": 67,
   "metadata": {},
   "outputs": [
    {
     "data": {
      "text/html": [
       "<iframe\n",
       "    scrolling=\"no\"\n",
       "    width=\"100%\"\n",
       "    height=\"545px\"\n",
       "    src=\"iframe_figures/figure_67.html\"\n",
       "    frameborder=\"0\"\n",
       "    allowfullscreen\n",
       "></iframe>\n"
      ]
     },
     "metadata": {},
     "output_type": "display_data"
    }
   ],
   "source": [
    "fig = get_column_plot(\n",
    "    real_data=data_trimmed,\n",
    "    synthetic_data=synthetic_data,\n",
    "    column_name='Open',\n",
    "    metadata=metadata\n",
    ")\n",
    "fig.show()"
   ]
  },
  {
   "cell_type": "code",
   "execution_count": 38,
   "metadata": {},
   "outputs": [],
   "source": [
    "#pip install --upgrade nbformat"
   ]
  },
  {
   "cell_type": "markdown",
   "metadata": {
    "id": "qId_sjt0KTiS"
   },
   "source": [
    "## 2.3 Saving and Loading\n",
    "We can save the synthesizer to share with others and sample more synthetic data in the future."
   ]
  },
  {
   "cell_type": "code",
   "execution_count": 130,
   "metadata": {
    "id": "AIXcUcClKTsg"
   },
   "outputs": [],
   "source": [
    "# synthesizer.save('my_synthesizer.pkl')\n",
    "\n",
    "# synthesizer = PARSynthesizer.load('my_synthesizer.pkl')"
   ]
  },
  {
   "cell_type": "markdown",
   "metadata": {
    "id": "qsUzet9pKXUc"
   },
   "source": [
    "# 3. PAR Customization\n",
    "\n",
    "We can customizer our PARSynthesizer in many ways.\n",
    "\n",
    "- Use the `epochs` parameter to make a tradeoff between training time and data quality. Higher epochs mean the synthesizer will train for longer, ideally improving the data quality.\n",
    "- Use the `enforce_min_max_values` parameter to specify whether the synthesized data should always be within the same min/max ranges as the real data. Toggle this to `False` in order to enable forecasting.\n"
   ]
  },
  {
   "cell_type": "code",
   "execution_count": 131,
   "metadata": {
    "colab": {
     "base_uri": "https://localhost:8080/"
    },
    "id": "CW2R30j7AhOH",
    "outputId": "fdff8e51-fe06-49be-f28a-da2d8e7bba4f"
   },
   "outputs": [],
   "source": [
    "# custom_synthesizer = PARSynthesizer(\n",
    "#     metadata,\n",
    "#     epochs=250,\n",
    "#     context_columns=['Sector', 'Industry'],\n",
    "#     enforce_min_max_values=False,\n",
    "#     verbose=True)\n",
    "\n",
    "# custom_synthesizer.fit(real_data)"
   ]
  },
  {
   "cell_type": "markdown",
   "metadata": {
    "id": "IsfGZesMKZ1v"
   },
   "source": [
    "<font color=\"maroon\"><i><b>This step takes about 10 min to complete.</b> We can use the `verbose` parameter to track progress. For larger datasets, this phase may take longer.</i></font>"
   ]
  },
  {
   "cell_type": "markdown",
   "metadata": {
    "id": "n19hqY-mKbwP"
   },
   "source": [
    "# 4. Sampling Options\n",
    "Using the PAR synthesizer, you can customize the synthetic data to suit your needs."
   ]
  },
  {
   "cell_type": "markdown",
   "metadata": {
    "id": "dOHMIYELKei3"
   },
   "source": [
    "## 4.1 Specify Sequence Length\n",
    "\n",
    "By default, the synthesizer algorithmically determines the length of each sequence. However, you can also specify a fixed, predetermined length."
   ]
  },
  {
   "cell_type": "code",
   "execution_count": 132,
   "metadata": {
    "colab": {
     "base_uri": "https://localhost:8080/",
     "height": 255
    },
    "id": "opVS15UuKZ96",
    "outputId": "2e432f13-2937-401b-9f4d-e8c07e0d535d"
   },
   "outputs": [],
   "source": [
    "# custom_synthesizer.sample(num_sequences=3, sequence_length=2)"
   ]
  },
  {
   "cell_type": "code",
   "execution_count": 134,
   "metadata": {
    "colab": {
     "base_uri": "https://localhost:8080/"
    },
    "id": "TgZe0akICNXn",
    "outputId": "20d0a574-68e8-4c16-9456-07db4493bf8f"
   },
   "outputs": [],
   "source": [
    "# long_sequence = custom_synthesizer.sample(num_sequences=1, sequence_length=500)"
   ]
  },
  {
   "cell_type": "markdown",
   "metadata": {
    "id": "XepjEgRNKlP9"
   },
   "source": [
    "# 5. What's Next?\n",
    "\n",
    "For more information about the PAR Synthesizer, visit the **[documentation](https://docs.sdv.dev/sdv/sequential-data/modeling/parsynthesizer)**.\n",
    "\n",
    "**Need more help?** [Browse all tutorials](https://docs.sdv.dev/sdv/demos).\n"
   ]
  }
 ],
 "metadata": {
  "colab": {
   "provenance": [],
   "toc_visible": true
  },
  "kernelspec": {
   "display_name": "Python 3 (ipykernel)",
   "language": "python",
   "name": "python3"
  },
  "language_info": {
   "codemirror_mode": {
    "name": "ipython",
    "version": 3
   },
   "file_extension": ".py",
   "mimetype": "text/x-python",
   "name": "python",
   "nbconvert_exporter": "python",
   "pygments_lexer": "ipython3",
   "version": "3.10.6"
  }
 },
 "nbformat": 4,
 "nbformat_minor": 4
}
